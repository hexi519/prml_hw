{
 "cells": [
  {
   "cell_type": "code",
   "execution_count": 18,
   "metadata": {
    "ExecuteTime": {
     "end_time": "2019-11-05T00:44:36.211182Z",
     "start_time": "2019-11-05T00:44:35.943870Z"
    }
   },
   "outputs": [
    {
     "data": {
      "text/plain": [
       "<matplotlib.axes._subplots.AxesSubplot at 0x7f8c5d2e6d30>"
      ]
     },
     "execution_count": 18,
     "metadata": {},
     "output_type": "execute_result"
    },
    {
     "data": {
      "image/png": "[encoded data removed]",
      "text/plain": [
       "<Figure size 432x288 with 1 Axes>"
      ]
     },
     "metadata": {
      "needs_background": "light"
     },
     "output_type": "display_data"
    }
   ],
   "source": [
    "import matplotlib.pyplot as plt\n",
    "import seaborn as sns\n",
    "# sns.set()\n",
    "\n",
    "\n",
    "%matplotlib inline\n",
    "\n",
    "sns.countplot(label)"
   ]
  },
  {
   "cell_type": "markdown",
   "metadata": {},
   "source": [
    "* 疑问点\n",
    "    * 选用什么贝叶斯，，，模型怎么定。。。\n",
    "    * loss_function是不是得自己建模一下..\n",
    "    * 输入怎么输入法子...\n",
    " \n",
    "* 思路\n",
    "    * 先主要看看网上的  ，然后再看看百战怎么处理的= =\n",
    "    * 能否看下skearn的实现时间和自己的实现时间对比...\n",
    "    * 需要进行图片增强吗？ 这个到底学习到的是什么？ 如果增强的话会不会有影响..."
   ]
  },
  {
   "cell_type": "markdown",
   "metadata": {},
   "source": [
    "* 任务要求\n",
    "   1.对各类图片的分布进行建模,在训练集上利用最大似然方法,估计其分布参数\n",
    "   2.利用贝叶斯判决对测试集上每张图片进行分类,并验证分类准确率\n",
    "   3.对实验结果进行分析\n",
    "\n",
    "* 参考方案\n",
    "  1.利用PCA进行数据降维\n",
    "      你确定是用PCA降维吗..\n",
    "  2.分析分布形式与准确率的关系(以高斯分布为例,可以假设高斯分布各分量之间相互独立与否,分别进行实验并对结果进行分析)\n",
    "  3.分析降维维度与准确率的关系\n",
    "\n",
    "2 说明有个接口要给model test(model,data ,feature) :   --> results ( acc , ..? )\n",
    "                    model(data)\n",
    "3 说明pca要有个维度的接口\n",
    "\n",
    "还需要有五折交叉验证？"
   ]
  },
  {
   "cell_type": "code",
   "execution_count": 3,
   "metadata": {
    "ExecuteTime": {
     "end_time": "2019-11-05T18:34:16.413503Z",
     "start_time": "2019-11-05T18:34:16.408953Z"
    }
   },
   "outputs": [],
   "source": [
    "import numpy as np\n",
    "import PIL\n",
    "from PIL import Image"
   ]
  },
  {
   "cell_type": "code",
   "execution_count": 4,
   "metadata": {
    "ExecuteTime": {
     "end_time": "2019-11-05T18:34:18.097129Z",
     "start_time": "2019-11-05T18:34:18.091749Z"
    }
   },
   "outputs": [],
   "source": [
    "from __future__ import print_function, division\n",
    "from future.utils import iteritems\n",
    "from builtins import range, input\n",
    "# Note: you may need to update your version of future\n",
    "# sudo pip install -U future\n",
    "\n",
    "import numpy as np\n",
    "from datetime import datetime\n",
    "from scipy.stats import norm\n",
    "from scipy.stats import multivariate_normal as mvn\n",
    "from numpy import *"
   ]
  },
  {
   "cell_type": "markdown",
   "metadata": {},
   "source": [
    "# 数据获取"
   ]
  },
  {
   "cell_type": "code",
   "execution_count": 5,
   "metadata": {
    "ExecuteTime": {
     "end_time": "2019-11-05T18:34:19.002455Z",
     "start_time": "2019-11-05T18:34:18.935295Z"
    },
    "run_control": {
     "marked": false
    }
   },
   "outputs": [],
   "source": [
    "from scipy.io import loadmat\n",
    "mnist_raw = loadmat(\"./data/mnist-original.mat\")\n",
    "mnist = {\n",
    "    \"data\": mnist_raw[\"data\"].T,\n",
    "    \"label\": mnist_raw[\"label\"][0],\n",
    "    \"COL_NAMES\": [\"label\", \"data\"],\n",
    "    \"DESCR\": \"mldata.labelorg dataset: mnist-original\",\n",
    "}"
   ]
  },
  {
   "cell_type": "code",
   "execution_count": 6,
   "metadata": {
    "ExecuteTime": {
     "end_time": "2019-11-05T18:34:20.439755Z",
     "start_time": "2019-11-05T18:34:20.004026Z"
    }
   },
   "outputs": [
    {
     "name": "stdout",
     "output_type": "stream",
     "text": [
      "Using matplotlib backend: agg\n"
     ]
    }
   ],
   "source": [
    "%matplotlib\n",
    "data=mnist[\"data\"]\n",
    "label=np.array(list(map(int,mnist[\"label\"])))  # change float to int\n",
    "\n",
    "random.shuffle(data)\n",
    "random.shuffle(label)"
   ]
  },
  {
   "cell_type": "code",
   "execution_count": 7,
   "metadata": {
    "ExecuteTime": {
     "end_time": "2019-11-05T18:34:21.182573Z",
     "start_time": "2019-11-05T18:34:21.175582Z"
    }
   },
   "outputs": [
    {
     "name": "stdout",
     "output_type": "stream",
     "text": [
      "<class 'numpy.ndarray'> <class 'numpy.ndarray'>\n",
      "(70000, 784) (70000,)\n",
      "samples after shuffling is \n",
      " data : [[0 0 0 ... 0 0 0]\n",
      " [0 0 0 ... 0 0 0]\n",
      " [0 0 0 ... 0 0 0]\n",
      " ...\n",
      " [0 0 0 ... 0 0 0]\n",
      " [0 0 0 ... 0 0 0]\n",
      " [0 0 0 ... 0 0 0]] \n",
      " label : [4 5 1 6 3 9 8 2 8 5] :\n"
     ]
    }
   ],
   "source": [
    "print(type(data),type(label) )\n",
    "print( data.shape, label.shape )\n",
    "print('samples after shuffling is \\n data : {} \\n label : {} :'.format( data[:10] ,label[:10] )  )"
   ]
  },
  {
   "cell_type": "markdown",
   "metadata": {},
   "source": [
    "## 划分测试和训练"
   ]
  },
  {
   "cell_type": "code",
   "execution_count": 8,
   "metadata": {
    "ExecuteTime": {
     "end_time": "2019-11-05T18:34:22.543647Z",
     "start_time": "2019-11-05T18:34:22.539867Z"
    }
   },
   "outputs": [],
   "source": [
    "Ntrain = len(label)*4 // 5   # 4:1\n",
    "Xtrain, Ytrain = data[:Ntrain], label[:Ntrain]\n",
    "Xtest, Ytest = data[Ntrain:], label[Ntrain:]"
   ]
  },
  {
   "cell_type": "markdown",
   "metadata": {
    "heading_collapsed": true
   },
   "source": [
    "## 数据基本信息 (before shuffled"
   ]
  },
  {
   "cell_type": "code",
   "execution_count": 9,
   "metadata": {
    "ExecuteTime": {
     "end_time": "2019-11-01T00:51:17.040935Z",
     "start_time": "2019-11-01T00:51:17.023071Z"
    },
    "hidden": true
   },
   "outputs": [
    {
     "data": {
      "text/plain": [
       "(70000, 784)"
      ]
     },
     "execution_count": 9,
     "metadata": {},
     "output_type": "execute_result"
    }
   ],
   "source": [
    "mnist[\"data\"].shape # mnist is a dict , not a dataframe\n",
    "# import pandas as pd\n",
    "# new_mnist = pd.DataFrame(mnist)\n",
    "# new_mnist.data.shape"
   ]
  },
  {
   "cell_type": "code",
   "execution_count": 10,
   "metadata": {
    "ExecuteTime": {
     "end_time": "2019-11-01T00:51:18.224653Z",
     "start_time": "2019-11-01T00:51:18.220449Z"
    },
    "hidden": true
   },
   "outputs": [
    {
     "data": {
      "text/plain": [
       "(70000,)"
      ]
     },
     "execution_count": 10,
     "metadata": {},
     "output_type": "execute_result"
    }
   ],
   "source": [
    "mnist[\"label\"].shape"
   ]
  },
  {
   "cell_type": "code",
   "execution_count": 11,
   "metadata": {
    "ExecuteTime": {
     "end_time": "2019-11-01T00:51:19.890120Z",
     "start_time": "2019-11-01T00:51:19.883551Z"
    },
    "hidden": true
   },
   "outputs": [
    {
     "data": {
      "text/plain": [
       "array([0., 1., 2., 3., 4., 5., 6., 7., 8., 9.])"
      ]
     },
     "execution_count": 11,
     "metadata": {},
     "output_type": "execute_result"
    }
   ],
   "source": [
    "np.unique(mnist[\"label\"])"
   ]
  },
  {
   "cell_type": "markdown",
   "metadata": {
    "heading_collapsed": true
   },
   "source": [
    "## observe data"
   ]
  },
  {
   "cell_type": "code",
   "execution_count": 63,
   "metadata": {
    "ExecuteTime": {
     "end_time": "2019-11-02T08:34:55.271697Z",
     "start_time": "2019-11-02T08:34:55.258944Z"
    },
    "hidden": true,
    "run_control": {
     "marked": false
    }
   },
   "outputs": [],
   "source": [
    "# fetch the first 1000 images from the dataset\n",
    "origin_5_imgs = [] \n",
    "for i in range(1000):    \n",
    "    if label[i] == 5 and len(origin_5_imgs) < 100:        \n",
    "        origin_5_imgsmgs.append(imgs[i])\n",
    "\n",
    "def array_to_img(array):\n",
    "    array=array*255\n",
    "    new_img=Image.fromarray(array.astype(np.uint8))\n",
    "    return new_img\n",
    "\n",
    "# put all images into one picture\n",
    "def comb_imgs(origin_imgs, col, row, each_width, each_height, new_type):\n",
    "    new_img = Image.new(new_type, (col* each_width, row* each_height)) \n",
    "    for i in range(len(origin_imgs)):\n",
    "     each_img = array_to_img(np.array(origin_imgs[i]).reshape(each_width, each_width))\n",
    "     new_img.paste(each_img, ((i % col) * each_width, (i / col) * each_width)) \n",
    "    return new_img\n",
    "\n",
    "'''\n",
    "效果图\n",
    "'''\n",
    "\n",
    "ten_origin_5_imgs=comb_imgs(origin_5_imgs, 10, 10, 2, 28, 'L')\n",
    "ten_origin_5_imgs.show()"
   ]
  },
  {
   "cell_type": "markdown",
   "metadata": {},
   "source": [
    "# 降维"
   ]
  },
  {
   "cell_type": "markdown",
   "metadata": {},
   "source": [
    "## PCA"
   ]
  },
  {
   "cell_type": "markdown",
   "metadata": {},
   "source": [
    " 这里的mean和std也要自己实现...?\n",
    " 所以并行的思想是体现在哪里..."
   ]
  },
  {
   "cell_type": "markdown",
   "metadata": {
    "heading_collapsed": true
   },
   "source": [
    "### import packgaes"
   ]
  },
  {
   "cell_type": "code",
   "execution_count": 71,
   "metadata": {
    "ExecuteTime": {
     "end_time": "2019-11-02T08:41:08.606234Z",
     "start_time": "2019-11-02T08:41:08.593076Z"
    },
    "hidden": true
   },
   "outputs": [
    {
     "data": {
      "text/html": [
       "        <script type=\"text/javascript\">\n",
       "        window.PlotlyConfig = {MathJaxConfig: 'local'};\n",
       "        if (window.MathJax) {MathJax.Hub.Config({SVG: {font: \"STIX-Web\"}});}\n",
       "        if (typeof require !== 'undefined') {\n",
       "        require.undef(\"plotly\");\n",
       "        requirejs.config({\n",
       "            paths: {\n",
       "                'plotly': ['https://cdn.plot.ly/plotly-latest.min']\n",
       "            }\n",
       "        });\n",
       "        require(['plotly'], function(Plotly) {\n",
       "            window._Plotly = Plotly;\n",
       "        });\n",
       "        }\n",
       "        </script>\n",
       "        "
      ]
     },
     "metadata": {},
     "output_type": "display_data"
    }
   ],
   "source": [
    "import plotly.offline as py\n",
    "py.init_notebook_mode(connected=True)\n",
    "import plotly.graph_objs as go\n",
    "import plotly.tools as tls\n",
    "import seaborn as sns\n",
    "import matplotlib.image as mpimg\n",
    "import matplotlib.pyplot as plt\n",
    "import matplotlib\n",
    "%matplotlib inline\n",
    "from numpy import linalg,mat\n",
    "from numpy import *"
   ]
  },
  {
   "cell_type": "markdown",
   "metadata": {},
   "source": [
    "### definition and usage of pca (wrong"
   ]
  },
  {
   "cell_type": "markdown",
   "metadata": {
    "ExecuteTime": {
     "end_time": "2019-11-03T09:35:30.494986Z",
     "start_time": "2019-11-03T09:35:30.490870Z"
    },
    "heading_collapsed": true
   },
   "source": [
    "#### old version of pca"
   ]
  },
  {
   "cell_type": "code",
   "execution_count": 144,
   "metadata": {
    "ExecuteTime": {
     "end_time": "2019-11-02T11:39:02.744319Z",
     "start_time": "2019-11-02T11:39:02.727170Z"
    },
    "hidden": true
   },
   "outputs": [],
   "source": [
    "def pca(data_mat=none, n_components=99999999, var_exp_ratio =0.9 ):  \n",
    "# def pca(data_mat, top_n_feat=99999999):  \n",
    "    \"\"\"    \n",
    "    主成分分析：    \n",
    "    输入：矩阵data_mat ，其中该矩阵中存储训练数据，每一行为一条训练数据         保留前n个特征top_n_feat，默认全保留  \n",
    "    返回：降维后的数据集和原始数据被重构后的矩阵（即降维后反变换回矩阵）  \n",
    "    \"\"\"    \n",
    "    # 获取数据条数和每条的维数  \n",
    "    \n",
    "#     import ipdb\n",
    "#     ipdb.set_trace()\n",
    "    num_data,dim = data_mat.shape  \n",
    "#     print(num_data)  # 70000 \n",
    "#     print(dim)   # 784  \n",
    "\n",
    "    mean_vals = data_mat.mean(axis=0)  #shape:(784,)  \n",
    "    mean_removed = data_mat - mean_vals # shape:(100, 784)  \n",
    "\n",
    "    '''这里rowvar为0，所以不需要转置...或许应该用自带的PCA函数测试一下'''\n",
    "    cov_mat = np.cov(mean_removed, rowvar=False) # shape：(784, 784)     \n",
    "\n",
    "    eig_vals, eig_vects = linalg.eig(mat(cov_mat)) # 计算特征值和特征向量，shape分别为（784，）和(784, 784)  \n",
    "    imagEigValueIndex = nonzero( list(map(lambda x: x.imag ,eig_vals) ) )[0]\n",
    "#     print(\"复数特征值的index是：{}\".format( nonzero( list(map(lambda x: x.imag ,eig_vals) ) )   )\n",
    "#     print(\"复数/特征值的index是：{}\".format( nonzero( np.imag(eig_vals)) ) )   \n",
    "#     eig_vals = np.array(list(map(lambda x: x.real ,eig_vals) ) )\n",
    "    eig_vals = np.real(eig_vals)\n",
    "    eig_vects = np.real(eig_vects)\n",
    "    eig_val_index = argsort(eig_vals)  # 对特征值进行从小到大排序，argsort返回的是索引，即下标 \n",
    "#     print(\"特征值最大的index是{}\".format(eig_val_index[-100:-50]) )\n",
    "    \n",
    "    # variance_explained ration\n",
    "    tot = sum(eig_vals)\n",
    "    var_exp = [(i/tot)*100 for i in sorted(eig_vals, reverse=True)] # Individual explained variance\n",
    "    cum_var_exp = np.cumsum(var_exp) # Cumulative explained variance\n",
    "#     print(\"cum_var_exp is {}\",cum_var_exp[1:50])\n",
    "    plt.plot(range(1,len(cum_var_exp)+1),cum_var_exp )\n",
    "    plt.xlabel(\"sorted eigen value number\")\n",
    "    plt.ylabel(\"cum_var_exp of sorted eigen value （%）\")\n",
    "    \n",
    "    # 如果指定维数 就用维数\n",
    "    if( n_components >1000 ):\n",
    "        whetherAbove90 = np.array(cum_var_exp >= 90, dtype='bool')\n",
    "#         print(\"whetherAbove90 is {}\".format( whetherAbove90))\n",
    "        n_components= np.nonzero(whetherAbove90)[0][0] # The first index \n",
    "#         print(\"np.nonzero(whetherAbove90)[0] is {}\".format( np.nonzero(whetherAbove90)[0]))\n",
    "#         print(\"top_n_feat is {}\".format(top_n_feat) ) \n",
    "        top_n_cum = cum_var_exp[:n_components+1]\n",
    "#         print (\"Cumsum >90% ，the first {} eigen values contributes ratio is {}%\".format(top_n_feat,top_n_cum ) )\n",
    "        matplotlib.rcParams['font.sans-serif'] = ['Source Han Sans TW', 'sans-serif']\n",
    "        plt.text(*(n_components+2,90),\"({} , 90%)\".format(n_components+1))  # top_n_feat+2 to give place for text\n",
    "        plt.scatter([n_components],[90],s=8,color='red')\n",
    "    \n",
    "    eig_val_index = eig_val_index[:-(n_components + 1) : -1] # 最大的前top_n_feat个特征的索引  \n",
    "    reg_eig_vects = eig_vects[:, eig_val_index]  \n",
    "\n",
    "    low_d_data_mat = mean_removed * reg_eig_vects # shape: (100, top_n_feat), top_n_feat最大为特征总数  \n",
    "    recon_mat = (low_d_data_mat * reg_eig_vects.T) + mean_vals # 根据前几个特征向量重构回去的矩阵，shape:(100, 784)\n",
    "\n",
    "    return low_d_data_mat, recon_mat"
   ]
  },
  {
   "cell_type": "code",
   "execution_count": 203,
   "metadata": {
    "ExecuteTime": {
     "end_time": "2019-11-03T09:37:20.786414Z",
     "start_time": "2019-11-03T09:37:20.698415Z"
    },
    "hidden": true
   },
   "outputs": [],
   "source": [
    "??PCA"
   ]
  },
  {
   "cell_type": "markdown",
   "metadata": {},
   "source": [
    "#### my version of pca"
   ]
  },
  {
   "cell_type": "markdown",
   "metadata": {},
   "source": [
    "pipeline的话 一些很好的数据特征怎么算出来"
   ]
  },
  {
   "cell_type": "code",
   "execution_count": 33,
   "metadata": {
    "ExecuteTime": {
     "end_time": "2019-11-05T19:02:36.339970Z",
     "start_time": "2019-11-05T19:02:36.320077Z"
    }
   },
   "outputs": [],
   "source": [
    "#### %pdb on\n",
    "\n",
    "from sklearn.base import BaseEstimator, TransformerMixin\n",
    "\n",
    "class myPca(BaseEstimator, TransformerMixin):\n",
    "    def __init__(self,n_components=40):\n",
    "        self.n_components=n_components\n",
    "        self.eig_vals ,self.eig_vects =[ ],[ ]\n",
    "        self.mean_vals=[]\n",
    "        self.mean_removed =[] \n",
    "#         self.low_d_data_mat=[]   # 实际上fit找到就行  降维应该是后面的transform做的\n",
    "        \n",
    "    def fit(self,data_mat,Y=None):\n",
    "        # get character of training set  \n",
    "        self.mean_vals = data_mat.mean(axis=0)  #shape:(784,)     # for fit training data \n",
    "        self.mean_removed = data_mat - self.mean_vals # shape:(100, 784)  \n",
    "\n",
    "        cov_mat = np.cov(self.mean_removed, rowvar=False) # shape：(784, 784)     \n",
    "        print(\"check cov_mat's shape is {}  ==(748,748)? \".format(cov_mat.shape) )     \n",
    "        self.eig_vals, self.eig_vects = linalg.eig(mat(cov_mat)) # 计算特征值和特征向量，shape分别为（784，）和(784, 784)  \n",
    "        '''just for check image value and image vectors'''\n",
    "        imagEigValueIndex = nonzero( list(map(lambda x: x.imag ,self.eig_vals) ) )[0]\n",
    "    #     print(\"复数特征值的index是：{}\".format( nonzero( list(map(lambda x: x.imag ,eig_vals) ) )   )\n",
    "    #     print(\"复数/特征值的index是：{}\".format( nonzero( np.imag(eig_vals)) ) )   \n",
    "    #     eig_vals = np.array(list(map(lambda x: x.real ,eig_vals) ) )\n",
    "        '''transform image number to real number/vectors'''\n",
    "        self.eig_vals = np.real(self.eig_vals)\n",
    "        self.eig_vects = np.real(self.eig_vects)\n",
    "        self.eig_val_index = argsort(self.eig_vals)  # 对特征值进行从小到大排序，argsort返回的是索引，即下标 \n",
    "        \n",
    "        print(\"in myPca,n_components is {}\".format(self.n_components) ) # 这里给我改成python log   注释和to-do应该怎么区分\n",
    "        self.eig_val_index = self.eig_val_index[:-(self.n_components + 1) : -1] # 最大的前top_n_feat个特征的索引  \n",
    "        self.reg_eig_vects = self.eig_vects[:, self.eig_val_index]  \n",
    "        \n",
    "#         self.low_d_data_mat = np.array(self.mean_removed * self.reg_eig_vects) # shape: (100, top_n_feat), top_n_feat最大为特征总数  \n",
    "        return self\n",
    "        \n",
    "    #     print(\"特征值最大的index是{}\".format(eig_val_index[-100:-50]) )\n",
    "\n",
    "        # variance_explained ration\n",
    "        tot = sum(self.eig_vals)\n",
    "        var_exp = [(i/tot)*100 for i in sorted(self.eig_vals, reverse=True)] # Individual explained variance\n",
    "        self.cum_var_exp = np.cumsum(var_exp) # Cumulative explained variance\n",
    "    \n",
    "    def transform(self,data_mat):    \n",
    "        # 这里似乎可以考虑拆出来写一个函数   但是是传值还是传引用比较好呢???\n",
    "        mean_removed = data_mat - self.mean_vals # shape:(100, 784)  \n",
    "        \n",
    "        low_d_data_mat = mean_removed * self.reg_eig_vects # shape: (100, top_n_feat), top_n_feat最大为特征总数  \n",
    "#         recon_mat = (low_d_data_mat * self.reg_eig_vects.T) + mean_vals # 根据前几个特征向量重构回去的矩阵，shape:(100, 784)\n",
    "        return np.array(low_d_data_mat)"
   ]
  },
  {
   "cell_type": "code",
   "execution_count": 34,
   "metadata": {
    "ExecuteTime": {
     "end_time": "2019-11-05T19:02:43.039461Z",
     "start_time": "2019-11-05T19:02:39.801830Z"
    },
    "scrolled": true
   },
   "outputs": [
    {
     "name": "stdout",
     "output_type": "stream",
     "text": [
      "Automatic pdb calling has been turned ON\n",
      "check cov_mat's shape is (784, 784)  ==(748,748)? \n",
      "in myPca,n_components is 40\n"
     ]
    },
    {
     "data": {
      "text/html": [
       "<div>\n",
       "<style scoped>\n",
       "    .dataframe tbody tr th:only-of-type {\n",
       "        vertical-align: middle;\n",
       "    }\n",
       "\n",
       "    .dataframe tbody tr th {\n",
       "        vertical-align: top;\n",
       "    }\n",
       "\n",
       "    .dataframe thead th {\n",
       "        text-align: right;\n",
       "    }\n",
       "</style>\n",
       "<table border=\"1\" class=\"dataframe\">\n",
       "  <thead>\n",
       "    <tr style=\"text-align: right;\">\n",
       "      <th></th>\n",
       "      <th>0</th>\n",
       "      <th>1</th>\n",
       "      <th>2</th>\n",
       "      <th>3</th>\n",
       "      <th>4</th>\n",
       "      <th>5</th>\n",
       "      <th>6</th>\n",
       "      <th>7</th>\n",
       "      <th>8</th>\n",
       "      <th>9</th>\n",
       "      <th>...</th>\n",
       "      <th>30</th>\n",
       "      <th>31</th>\n",
       "      <th>32</th>\n",
       "      <th>33</th>\n",
       "      <th>34</th>\n",
       "      <th>35</th>\n",
       "      <th>36</th>\n",
       "      <th>37</th>\n",
       "      <th>38</th>\n",
       "      <th>39</th>\n",
       "    </tr>\n",
       "  </thead>\n",
       "  <tbody>\n",
       "    <tr>\n",
       "      <th>0</th>\n",
       "      <td>295.953144</td>\n",
       "      <td>102.111135</td>\n",
       "      <td>572.288483</td>\n",
       "      <td>-315.550368</td>\n",
       "      <td>328.491939</td>\n",
       "      <td>-797.486917</td>\n",
       "      <td>301.865440</td>\n",
       "      <td>-121.714992</td>\n",
       "      <td>4.862728</td>\n",
       "      <td>-43.975125</td>\n",
       "      <td>...</td>\n",
       "      <td>364.409506</td>\n",
       "      <td>-155.035472</td>\n",
       "      <td>-42.359306</td>\n",
       "      <td>-80.517187</td>\n",
       "      <td>-44.262518</td>\n",
       "      <td>91.156870</td>\n",
       "      <td>302.808804</td>\n",
       "      <td>257.576813</td>\n",
       "      <td>352.328213</td>\n",
       "      <td>83.961848</td>\n",
       "    </tr>\n",
       "    <tr>\n",
       "      <th>1</th>\n",
       "      <td>727.996747</td>\n",
       "      <td>-86.074396</td>\n",
       "      <td>442.354521</td>\n",
       "      <td>-428.919317</td>\n",
       "      <td>540.241711</td>\n",
       "      <td>376.945473</td>\n",
       "      <td>-313.275852</td>\n",
       "      <td>-483.718578</td>\n",
       "      <td>84.566344</td>\n",
       "      <td>66.880701</td>\n",
       "      <td>...</td>\n",
       "      <td>-260.545074</td>\n",
       "      <td>68.277923</td>\n",
       "      <td>-42.756755</td>\n",
       "      <td>-179.340968</td>\n",
       "      <td>439.344325</td>\n",
       "      <td>-52.369101</td>\n",
       "      <td>94.473856</td>\n",
       "      <td>193.802920</td>\n",
       "      <td>-120.787262</td>\n",
       "      <td>-84.632039</td>\n",
       "    </tr>\n",
       "    <tr>\n",
       "      <th>2</th>\n",
       "      <td>-22.135167</td>\n",
       "      <td>752.521220</td>\n",
       "      <td>498.040359</td>\n",
       "      <td>-740.408693</td>\n",
       "      <td>127.013144</td>\n",
       "      <td>-747.852070</td>\n",
       "      <td>685.717811</td>\n",
       "      <td>-238.137103</td>\n",
       "      <td>-49.536113</td>\n",
       "      <td>306.394966</td>\n",
       "      <td>...</td>\n",
       "      <td>142.473228</td>\n",
       "      <td>-40.160574</td>\n",
       "      <td>-40.663038</td>\n",
       "      <td>-80.165425</td>\n",
       "      <td>-115.774845</td>\n",
       "      <td>-101.621371</td>\n",
       "      <td>-51.668436</td>\n",
       "      <td>-117.570616</td>\n",
       "      <td>-31.736573</td>\n",
       "      <td>-22.744746</td>\n",
       "    </tr>\n",
       "    <tr>\n",
       "      <th>3</th>\n",
       "      <td>-175.016212</td>\n",
       "      <td>-443.329943</td>\n",
       "      <td>40.483821</td>\n",
       "      <td>-278.683929</td>\n",
       "      <td>-536.932393</td>\n",
       "      <td>-647.475583</td>\n",
       "      <td>391.089327</td>\n",
       "      <td>-39.228670</td>\n",
       "      <td>-541.569167</td>\n",
       "      <td>103.825015</td>\n",
       "      <td>...</td>\n",
       "      <td>-126.753620</td>\n",
       "      <td>94.894369</td>\n",
       "      <td>48.243730</td>\n",
       "      <td>-87.653832</td>\n",
       "      <td>-32.460570</td>\n",
       "      <td>158.999847</td>\n",
       "      <td>-221.339011</td>\n",
       "      <td>51.834854</td>\n",
       "      <td>126.751713</td>\n",
       "      <td>-22.732123</td>\n",
       "    </tr>\n",
       "    <tr>\n",
       "      <th>4</th>\n",
       "      <td>174.667543</td>\n",
       "      <td>141.377902</td>\n",
       "      <td>257.152976</td>\n",
       "      <td>817.033438</td>\n",
       "      <td>-201.696662</td>\n",
       "      <td>541.771946</td>\n",
       "      <td>-27.813836</td>\n",
       "      <td>136.161003</td>\n",
       "      <td>-361.095087</td>\n",
       "      <td>206.023528</td>\n",
       "      <td>...</td>\n",
       "      <td>94.583128</td>\n",
       "      <td>-79.531145</td>\n",
       "      <td>-300.568663</td>\n",
       "      <td>-114.130770</td>\n",
       "      <td>76.616976</td>\n",
       "      <td>139.111873</td>\n",
       "      <td>-78.098837</td>\n",
       "      <td>-282.062718</td>\n",
       "      <td>-41.563835</td>\n",
       "      <td>-50.364178</td>\n",
       "    </tr>\n",
       "  </tbody>\n",
       "</table>\n",
       "<p>5 rows × 40 columns</p>\n",
       "</div>"
      ],
      "text/plain": [
       "           0           1           2           3           4           5   \\\n",
       "0  295.953144  102.111135  572.288483 -315.550368  328.491939 -797.486917   \n",
       "1  727.996747  -86.074396  442.354521 -428.919317  540.241711  376.945473   \n",
       "2  -22.135167  752.521220  498.040359 -740.408693  127.013144 -747.852070   \n",
       "3 -175.016212 -443.329943   40.483821 -278.683929 -536.932393 -647.475583   \n",
       "4  174.667543  141.377902  257.152976  817.033438 -201.696662  541.771946   \n",
       "\n",
       "           6           7           8           9   ...          30  \\\n",
       "0  301.865440 -121.714992    4.862728  -43.975125  ...  364.409506   \n",
       "1 -313.275852 -483.718578   84.566344   66.880701  ... -260.545074   \n",
       "2  685.717811 -238.137103  -49.536113  306.394966  ...  142.473228   \n",
       "3  391.089327  -39.228670 -541.569167  103.825015  ... -126.753620   \n",
       "4  -27.813836  136.161003 -361.095087  206.023528  ...   94.583128   \n",
       "\n",
       "           31          32          33          34          35          36  \\\n",
       "0 -155.035472  -42.359306  -80.517187  -44.262518   91.156870  302.808804   \n",
       "1   68.277923  -42.756755 -179.340968  439.344325  -52.369101   94.473856   \n",
       "2  -40.160574  -40.663038  -80.165425 -115.774845 -101.621371  -51.668436   \n",
       "3   94.894369   48.243730  -87.653832  -32.460570  158.999847 -221.339011   \n",
       "4  -79.531145 -300.568663 -114.130770   76.616976  139.111873  -78.098837   \n",
       "\n",
       "           37          38         39  \n",
       "0  257.576813  352.328213  83.961848  \n",
       "1  193.802920 -120.787262 -84.632039  \n",
       "2 -117.570616  -31.736573 -22.744746  \n",
       "3   51.834854  126.751713 -22.732123  \n",
       "4 -282.062718  -41.563835 -50.364178  \n",
       "\n",
       "[5 rows x 40 columns]"
      ]
     },
     "execution_count": 34,
     "metadata": {},
     "output_type": "execute_result"
    }
   ],
   "source": [
    "%pdb on\n",
    "# %debug \n",
    "import pandas as pd\n",
    "mypca = myPca()   # \n",
    "low_d_data_mat = mypca.fit(data,label).transform(data)  # --> low_d_data_mat, recon_mat # 3 只有16%  达到90% 是\n",
    "\n",
    "pd.DataFrame(low_d_data_mat).head()"
   ]
  },
  {
   "cell_type": "code",
   "execution_count": null,
   "metadata": {
    "ExecuteTime": {
     "start_time": "2019-11-05T19:23:26.797Z"
    }
   },
   "outputs": [
    {
     "name": "stdout",
     "output_type": "stream",
     "text": [
      "> \u001b[0;32m<ipython-input-41-abda7e6e2c32>\u001b[0m(21)\u001b[0;36mpredict\u001b[0;34m()\u001b[0m\n",
      "\u001b[0;32m     20 \u001b[0;31m        \u001b[0mipdb\u001b[0m\u001b[0;34m.\u001b[0m\u001b[0mset_trace\u001b[0m\u001b[0;34m(\u001b[0m\u001b[0;34m)\u001b[0m\u001b[0;34m\u001b[0m\u001b[0m\n",
      "\u001b[0m\u001b[0;32m---> 21 \u001b[0;31m        \u001b[0mN\u001b[0m\u001b[0;34m,\u001b[0m \u001b[0mD\u001b[0m \u001b[0;34m=\u001b[0m \u001b[0mX\u001b[0m\u001b[0;34m.\u001b[0m\u001b[0mshape\u001b[0m\u001b[0;34m\u001b[0m\u001b[0m\n",
      "\u001b[0m\u001b[0;32m     22 \u001b[0;31m        \u001b[0mK\u001b[0m \u001b[0;34m=\u001b[0m \u001b[0mlen\u001b[0m\u001b[0;34m(\u001b[0m\u001b[0mself\u001b[0m\u001b[0;34m.\u001b[0m\u001b[0mgaussians\u001b[0m\u001b[0;34m)\u001b[0m  \u001b[0;31m# 这不就是我降维的维度咩\u001b[0m\u001b[0;34m\u001b[0m\u001b[0m\n",
      "\u001b[0m\n",
      "ipdb> n\n",
      "> \u001b[0;32m<ipython-input-41-abda7e6e2c32>\u001b[0m(22)\u001b[0;36mpredict\u001b[0;34m()\u001b[0m\n",
      "\u001b[0;32m     21 \u001b[0;31m        \u001b[0mN\u001b[0m\u001b[0;34m,\u001b[0m \u001b[0mD\u001b[0m \u001b[0;34m=\u001b[0m \u001b[0mX\u001b[0m\u001b[0;34m.\u001b[0m\u001b[0mshape\u001b[0m\u001b[0;34m\u001b[0m\u001b[0m\n",
      "\u001b[0m\u001b[0;32m---> 22 \u001b[0;31m        \u001b[0mK\u001b[0m \u001b[0;34m=\u001b[0m \u001b[0mlen\u001b[0m\u001b[0;34m(\u001b[0m\u001b[0mself\u001b[0m\u001b[0;34m.\u001b[0m\u001b[0mgaussians\u001b[0m\u001b[0;34m)\u001b[0m  \u001b[0;31m# 这不就是我降维的维度咩\u001b[0m\u001b[0;34m\u001b[0m\u001b[0m\n",
      "\u001b[0m\u001b[0;32m     23 \u001b[0;31m        \u001b[0mP\u001b[0m \u001b[0;34m=\u001b[0m \u001b[0mnp\u001b[0m\u001b[0;34m.\u001b[0m\u001b[0mzeros\u001b[0m\u001b[0;34m(\u001b[0m\u001b[0;34m(\u001b[0m\u001b[0mN\u001b[0m\u001b[0;34m,\u001b[0m \u001b[0mK\u001b[0m\u001b[0;34m)\u001b[0m\u001b[0;34m)\u001b[0m    \u001b[0;31m# 我有\u001b[0m\u001b[0;34m\u001b[0m\u001b[0m\n",
      "\u001b[0m\n",
      "ipdb> p N,D\n",
      "(14000, 40)\n",
      "ipdb> n \n",
      "> \u001b[0;32m<ipython-input-41-abda7e6e2c32>\u001b[0m(23)\u001b[0;36mpredict\u001b[0;34m()\u001b[0m\n",
      "\u001b[0;32m     22 \u001b[0;31m        \u001b[0mK\u001b[0m \u001b[0;34m=\u001b[0m \u001b[0mlen\u001b[0m\u001b[0;34m(\u001b[0m\u001b[0mself\u001b[0m\u001b[0;34m.\u001b[0m\u001b[0mgaussians\u001b[0m\u001b[0;34m)\u001b[0m  \u001b[0;31m# 这不就是我降维的维度咩\u001b[0m\u001b[0;34m\u001b[0m\u001b[0m\n",
      "\u001b[0m\u001b[0;32m---> 23 \u001b[0;31m        \u001b[0mP\u001b[0m \u001b[0;34m=\u001b[0m \u001b[0mnp\u001b[0m\u001b[0;34m.\u001b[0m\u001b[0mzeros\u001b[0m\u001b[0;34m(\u001b[0m\u001b[0;34m(\u001b[0m\u001b[0mN\u001b[0m\u001b[0;34m,\u001b[0m \u001b[0mK\u001b[0m\u001b[0;34m)\u001b[0m\u001b[0;34m)\u001b[0m    \u001b[0;31m# 我有\u001b[0m\u001b[0;34m\u001b[0m\u001b[0m\n",
      "\u001b[0m\u001b[0;32m     24 \u001b[0;31m        \u001b[0;32mfor\u001b[0m \u001b[0mc\u001b[0m\u001b[0;34m,\u001b[0m \u001b[0mg\u001b[0m \u001b[0;32min\u001b[0m \u001b[0miteritems\u001b[0m\u001b[0;34m(\u001b[0m\u001b[0mself\u001b[0m\u001b[0;34m.\u001b[0m\u001b[0mgaussians\u001b[0m\u001b[0;34m)\u001b[0m\u001b[0;34m:\u001b[0m\u001b[0;34m\u001b[0m\u001b[0m\n",
      "\u001b[0m\n",
      "ipdb> p L\n",
      "*** NameError: name 'L' is not defined\n",
      "ipdb> p K\n",
      "10\n",
      "ipdb> n\n",
      "> \u001b[0;32m<ipython-input-41-abda7e6e2c32>\u001b[0m(24)\u001b[0;36mpredict\u001b[0;34m()\u001b[0m\n",
      "\u001b[0;32m     23 \u001b[0;31m        \u001b[0mP\u001b[0m \u001b[0;34m=\u001b[0m \u001b[0mnp\u001b[0m\u001b[0;34m.\u001b[0m\u001b[0mzeros\u001b[0m\u001b[0;34m(\u001b[0m\u001b[0;34m(\u001b[0m\u001b[0mN\u001b[0m\u001b[0;34m,\u001b[0m \u001b[0mK\u001b[0m\u001b[0;34m)\u001b[0m\u001b[0;34m)\u001b[0m    \u001b[0;31m# 我有\u001b[0m\u001b[0;34m\u001b[0m\u001b[0m\n",
      "\u001b[0m\u001b[0;32m---> 24 \u001b[0;31m        \u001b[0;32mfor\u001b[0m \u001b[0mc\u001b[0m\u001b[0;34m,\u001b[0m \u001b[0mg\u001b[0m \u001b[0;32min\u001b[0m \u001b[0miteritems\u001b[0m\u001b[0;34m(\u001b[0m\u001b[0mself\u001b[0m\u001b[0;34m.\u001b[0m\u001b[0mgaussians\u001b[0m\u001b[0;34m)\u001b[0m\u001b[0;34m:\u001b[0m\u001b[0;34m\u001b[0m\u001b[0m\n",
      "\u001b[0m\u001b[0;32m     25 \u001b[0;31m            \u001b[0mmean\u001b[0m\u001b[0;34m,\u001b[0m \u001b[0mvar\u001b[0m \u001b[0;34m=\u001b[0m \u001b[0mg\u001b[0m\u001b[0;34m[\u001b[0m\u001b[0;34m'mean'\u001b[0m\u001b[0;34m]\u001b[0m\u001b[0;34m,\u001b[0m \u001b[0mg\u001b[0m\u001b[0;34m[\u001b[0m\u001b[0;34m'var'\u001b[0m\u001b[0;34m]\u001b[0m\u001b[0;34m\u001b[0m\u001b[0m\n",
      "\u001b[0m\n",
      "ipdb> n\n",
      "> \u001b[0;32m<ipython-input-41-abda7e6e2c32>\u001b[0m(25)\u001b[0;36mpredict\u001b[0;34m()\u001b[0m\n",
      "\u001b[0;32m     24 \u001b[0;31m        \u001b[0;32mfor\u001b[0m \u001b[0mc\u001b[0m\u001b[0;34m,\u001b[0m \u001b[0mg\u001b[0m \u001b[0;32min\u001b[0m \u001b[0miteritems\u001b[0m\u001b[0;34m(\u001b[0m\u001b[0mself\u001b[0m\u001b[0;34m.\u001b[0m\u001b[0mgaussians\u001b[0m\u001b[0;34m)\u001b[0m\u001b[0;34m:\u001b[0m\u001b[0;34m\u001b[0m\u001b[0m\n",
      "\u001b[0m\u001b[0;32m---> 25 \u001b[0;31m            \u001b[0mmean\u001b[0m\u001b[0;34m,\u001b[0m \u001b[0mvar\u001b[0m \u001b[0;34m=\u001b[0m \u001b[0mg\u001b[0m\u001b[0;34m[\u001b[0m\u001b[0;34m'mean'\u001b[0m\u001b[0;34m]\u001b[0m\u001b[0;34m,\u001b[0m \u001b[0mg\u001b[0m\u001b[0;34m[\u001b[0m\u001b[0;34m'var'\u001b[0m\u001b[0;34m]\u001b[0m\u001b[0;34m\u001b[0m\u001b[0m\n",
      "\u001b[0m\u001b[0;32m     26 \u001b[0;31m            \u001b[0mP\u001b[0m\u001b[0;34m[\u001b[0m\u001b[0;34m:\u001b[0m\u001b[0;34m,\u001b[0m\u001b[0mc\u001b[0m\u001b[0;34m]\u001b[0m \u001b[0;34m=\u001b[0m \u001b[0mmvn\u001b[0m\u001b[0;34m.\u001b[0m\u001b[0mlogpdf\u001b[0m\u001b[0;34m(\u001b[0m\u001b[0mX\u001b[0m\u001b[0;34m,\u001b[0m \u001b[0mmean\u001b[0m\u001b[0;34m=\u001b[0m\u001b[0mmean\u001b[0m\u001b[0;34m,\u001b[0m \u001b[0mcov\u001b[0m\u001b[0;34m=\u001b[0m\u001b[0mvar\u001b[0m\u001b[0;34m)\u001b[0m \u001b[0;34m+\u001b[0m \u001b[0mnp\u001b[0m\u001b[0;34m.\u001b[0m\u001b[0mlog\u001b[0m\u001b[0;34m(\u001b[0m\u001b[0mself\u001b[0m\u001b[0;34m.\u001b[0m\u001b[0mpriors\u001b[0m\u001b[0;34m[\u001b[0m\u001b[0mc\u001b[0m\u001b[0;34m]\u001b[0m\u001b[0;34m)\u001b[0m\u001b[0;34m\u001b[0m\u001b[0m\n",
      "\u001b[0m\n",
      "ipdb> dmean.shape\n",
      "*** NameError: name 'dmean' is not defined\n",
      "ipdb> mean.shape\n",
      "*** AttributeError: 'function' object has no attribute 'shape'\n",
      "ipdb> n\n",
      "> \u001b[0;32m<ipython-input-41-abda7e6e2c32>\u001b[0m(26)\u001b[0;36mpredict\u001b[0;34m()\u001b[0m\n",
      "\u001b[0;32m     25 \u001b[0;31m            \u001b[0mmean\u001b[0m\u001b[0;34m,\u001b[0m \u001b[0mvar\u001b[0m \u001b[0;34m=\u001b[0m \u001b[0mg\u001b[0m\u001b[0;34m[\u001b[0m\u001b[0;34m'mean'\u001b[0m\u001b[0;34m]\u001b[0m\u001b[0;34m,\u001b[0m \u001b[0mg\u001b[0m\u001b[0;34m[\u001b[0m\u001b[0;34m'var'\u001b[0m\u001b[0;34m]\u001b[0m\u001b[0;34m\u001b[0m\u001b[0m\n",
      "\u001b[0m\u001b[0;32m---> 26 \u001b[0;31m            \u001b[0mP\u001b[0m\u001b[0;34m[\u001b[0m\u001b[0;34m:\u001b[0m\u001b[0;34m,\u001b[0m\u001b[0mc\u001b[0m\u001b[0;34m]\u001b[0m \u001b[0;34m=\u001b[0m \u001b[0mmvn\u001b[0m\u001b[0;34m.\u001b[0m\u001b[0mlogpdf\u001b[0m\u001b[0;34m(\u001b[0m\u001b[0mX\u001b[0m\u001b[0;34m,\u001b[0m \u001b[0mmean\u001b[0m\u001b[0;34m=\u001b[0m\u001b[0mmean\u001b[0m\u001b[0;34m,\u001b[0m \u001b[0mcov\u001b[0m\u001b[0;34m=\u001b[0m\u001b[0mvar\u001b[0m\u001b[0;34m)\u001b[0m \u001b[0;34m+\u001b[0m \u001b[0mnp\u001b[0m\u001b[0;34m.\u001b[0m\u001b[0mlog\u001b[0m\u001b[0;34m(\u001b[0m\u001b[0mself\u001b[0m\u001b[0;34m.\u001b[0m\u001b[0mpriors\u001b[0m\u001b[0;34m[\u001b[0m\u001b[0mc\u001b[0m\u001b[0;34m]\u001b[0m\u001b[0;34m)\u001b[0m\u001b[0;34m\u001b[0m\u001b[0m\n",
      "\u001b[0m\u001b[0;32m     27 \u001b[0;31m        \u001b[0;32mreturn\u001b[0m \u001b[0mnp\u001b[0m\u001b[0;34m.\u001b[0m\u001b[0margmax\u001b[0m\u001b[0;34m(\u001b[0m\u001b[0mP\u001b[0m\u001b[0;34m,\u001b[0m \u001b[0maxis\u001b[0m\u001b[0;34m=\u001b[0m\u001b[0;36m1\u001b[0m\u001b[0;34m)\u001b[0m\u001b[0;34m\u001b[0m\u001b[0m\n",
      "\u001b[0m\n",
      "ipdb> mean.shape\n",
      "(40,)\n",
      "ipdb> var.shape\n",
      "(40,)\n",
      "ipdb> P.shape\n",
      "(14000, 10)\n",
      "ipdb> var【：10】\n",
      "*** SyntaxError: invalid character in identifier\n",
      "ipdb> var[:10]\n",
      "array([330920.15315115, 240196.18549157, 210657.80618299, 188143.70279565,\n",
      "       163304.93825493, 147320.04560208, 112945.4824644 , 100204.60922978,\n",
      "        94170.09937317,  78408.93879368])\n"
     ]
    }
   ],
   "source": [
    "mynb =NaiveBayes()\n",
    "mynb.fit(low_d_data_mat[:Ntrain],label[:Ntrain])\n",
    "mynb.score(low_d_data_mat[Ntrain:],label[Ntrain:])\n"
   ]
  },
  {
   "cell_type": "markdown",
   "metadata": {
    "heading_collapsed": true
   },
   "source": [
    "### sklearn version of pca"
   ]
  },
  {
   "cell_type": "code",
   "execution_count": 165,
   "metadata": {
    "ExecuteTime": {
     "end_time": "2019-11-03T06:55:41.459892Z",
     "start_time": "2019-11-03T06:55:41.108569Z"
    },
    "hidden": true
   },
   "outputs": [],
   "source": [
    "# using python pca to verify\n",
    "import sklearn\n",
    "from sklearn.decomposition import PCA\n",
    "\n",
    "sklearnPCA = PCA(n_components=100,copy=True, whiten=False)\n",
    "sklearnPCA.fit(Xtrain)\n",
    "Xtest= sklearnPCA.fit(Xtrain)\n",
    "newX=pca.transform(X)"
   ]
  },
  {
   "cell_type": "markdown",
   "metadata": {
    "heading_collapsed": true
   },
   "source": [
    "## LDA"
   ]
  },
  {
   "cell_type": "code",
   "execution_count": null,
   "metadata": {
    "hidden": true
   },
   "outputs": [],
   "source": []
  },
  {
   "cell_type": "markdown",
   "metadata": {
    "ExecuteTime": {
     "end_time": "2019-10-31T17:39:36.755620Z",
     "start_time": "2019-10-31T17:39:36.752411Z"
    }
   },
   "source": [
    "# 构建不同的分布model"
   ]
  },
  {
   "cell_type": "markdown",
   "metadata": {
    "ExecuteTime": {
     "end_time": "2019-11-03T07:25:56.693175Z",
     "start_time": "2019-11-03T07:25:56.689398Z"
    },
    "heading_collapsed": true
   },
   "source": [
    "## using pipeline"
   ]
  },
  {
   "cell_type": "code",
   "execution_count": 11,
   "metadata": {
    "ExecuteTime": {
     "end_time": "2019-11-05T18:35:03.145253Z",
     "start_time": "2019-11-05T18:35:02.864659Z"
    },
    "hidden": true
   },
   "outputs": [],
   "source": [
    "from sklearn.decomposition import PCA\n",
    "from sklearn.linear_model import SGDClassifier\n",
    "from sklearn.pipeline import Pipeline\n",
    "from sklearn.model_selection import GridSearchCV"
   ]
  },
  {
   "cell_type": "code",
   "execution_count": 244,
   "metadata": {
    "ExecuteTime": {
     "end_time": "2019-11-03T12:51:03.881552Z",
     "start_time": "2019-11-03T12:50:08.588761Z"
    },
    "hidden": true
   },
   "outputs": [
    {
     "name": "stderr",
     "output_type": "stream",
     "text": [
      "/home/daven/.pyenv/versions/tc36/lib/python3.6/site-packages/sklearn/model_selection/_split.py:1978: FutureWarning:\n",
      "\n",
      "The default value of cv will change from 3 to 5 in version 0.22. Specify it explicitly to silence this warning.\n",
      "\n"
     ]
    },
    {
     "data": {
      "text/plain": [
       "GridSearchCV(cv='warn', error_score='raise-deprecating',\n",
       "             estimator=Pipeline(memory=None,\n",
       "                                steps=[('sklearnPCA',\n",
       "                                        PCA(copy=True, iterated_power='auto',\n",
       "                                            n_components=None,\n",
       "                                            random_state=None,\n",
       "                                            svd_solver='auto', tol=0.0,\n",
       "                                            whiten=False)),\n",
       "                                       ('clf',\n",
       "                                        GaussianNB(priors=None,\n",
       "                                                   var_smoothing=1e-09))],\n",
       "                                verbose=False),\n",
       "             iid='warn', n_jobs=None,\n",
       "             param_grid={'sklearnPCA__n_components': [40, 50, 60, 70, 80, 90]},\n",
       "             pre_dispatch='2*n_jobs', refit=True, return_train_score=False,\n",
       "             scoring=None, verbose=0)"
      ]
     },
     "execution_count": 244,
     "metadata": {},
     "output_type": "execute_result"
    }
   ],
   "source": [
    "'''models'''\n",
    "sklearnPCA = PCA()\n",
    "myPCA = myPca()\n",
    "nb=NaiveBayes()\n",
    "# pipe = Pipeline(steps=[('sklearnPCA', sklearnPCA ),('myPCA', myPCA ), ('clf', nb)])\n",
    "pipe = Pipeline(steps=[('myPCA', myPCA ), ('clf', nb)])\n",
    "# pipe = Pipeline(steps=[('sklearnPCA', sklearnPCA ), ('clf', nb)])\n",
    "grid_n_components=list(range(40,100,10))\n",
    "\n",
    "params_grid2 = {  # NaiveBayes不需要参数\n",
    "'sklearnPCA__n_components': grid_n_components}\n",
    "\n",
    "params_grid3 = {  # NaiveBayes不需要参数\n",
    "'myPCA__n_components': grid_n_components}\n",
    "\n",
    "\n",
    "from sklearn.naive_bayes import GaussianNB\n",
    "gnb=GaussianNB()\n",
    "pipe = Pipeline(steps=[('sklearnPCA', sklearnPCA ), ('clf', gnb)])\n",
    "params_grid = {  # NaiveBayes不需要参数\n",
    "'sklearnPCA__n_components': grid_n_components\n",
    "# 'clf': gnb,\n",
    "}\n",
    "\n",
    "'''\n",
    "# this is also ok  名字一样可以写在一起\n",
    "params_grid = {\n",
    "'svm__C': [1, 10, 100, 1000],\n",
    "'svm__kernel': ['linear', 'rbf'],\n",
    "'svm__gamma': [0.001, 0.0001],\n",
    "'preprocessing':[myPCA, sklearnPCA],\n",
    "'preprocessing__n_components': grid_n_components,\n",
    "}\n",
    "'''\n",
    "\n",
    "# grid = GridSearchCV(pipe, param_grid = params_grid)\n",
    "grid = GridSearchCV(estimator = pipe, param_grid = params_grid)\n",
    "grid.fit(Xtrain, Ytrain)\n",
    "# grid.grid_scores_, grid.best_params_, grid.best_score_\n",
    "\n"
   ]
  },
  {
   "cell_type": "markdown",
   "metadata": {
    "heading_collapsed": true
   },
   "source": [
    "## results using sklearnPCA and sklearnGussianNB"
   ]
  },
  {
   "cell_type": "code",
   "execution_count": 248,
   "metadata": {
    "ExecuteTime": {
     "end_time": "2019-11-03T12:53:52.400470Z",
     "start_time": "2019-11-03T12:53:52.391712Z"
    },
    "hidden": true
   },
   "outputs": [
    {
     "data": {
      "text/plain": [
       "array([0, 6, 1, 0, 1, 5, 7, 1, 1, 0, 4, 5, 7, 8, 1, 1, 9, 0, 2, 1, 1, 4,\n",
       "       6, 5, 8, 0, 0, 8, 1, 1, 2, 8, 9, 5, 5, 4, 5, 5, 0, 1, 3, 1, 4, 7,\n",
       "       0, 8, 2, 4, 0, 6, 8, 8, 2, 5, 9, 1, 7, 1, 7, 3, 3, 9, 2, 7, 5, 1,\n",
       "       5, 0, 8, 1, 9, 9, 9, 0, 5, 3, 2, 8, 2, 1, 6, 7, 8, 0, 2, 0, 5, 1,\n",
       "       2, 5, 2, 6, 6, 6, 1, 2, 0, 3, 1])"
      ]
     },
     "execution_count": 248,
     "metadata": {},
     "output_type": "execute_result"
    }
   ],
   "source": [
    "Ytrain[1:100]"
   ]
  },
  {
   "cell_type": "markdown",
   "metadata": {},
   "source": [
    "## debug class of pipeline"
   ]
  },
  {
   "cell_type": "code",
   "execution_count": 35,
   "metadata": {
    "ExecuteTime": {
     "end_time": "2019-11-05T19:03:02.511107Z",
     "start_time": "2019-11-05T19:03:02.502954Z"
    }
   },
   "outputs": [],
   "source": [
    "from sklearn import svm\n",
    "from sklearn.datasets import samples_generator\n",
    "from sklearn.feature_selection import SelectKBest\n",
    "from sklearn.feature_selection import f_regression\n",
    "from sklearn.pipeline import Pipeline\n",
    "from sklearn.base import TransformerMixin, BaseEstimator\n",
    "import pandas as pd"
   ]
  },
  {
   "cell_type": "code",
   "execution_count": 36,
   "metadata": {
    "ExecuteTime": {
     "end_time": "2019-11-05T19:03:03.167054Z",
     "start_time": "2019-11-05T19:03:03.161506Z"
    }
   },
   "outputs": [],
   "source": [
    "\n",
    "class Debug(BaseEstimator, TransformerMixin):\n",
    "\n",
    "    def transform(self, X):\n",
    "        print('*****************  come into debug class *************')\n",
    "        print(pd.DataFrame(X).head())\n",
    "        print(X.shape)\n",
    "        return X\n",
    "\n",
    "    def fit(self, X, y=None, **fit_params):\n",
    "        return self\n",
    "         \n",
    "# X, y = samples_generator.make_classification(n_informative=5, n_redundant=0, random_state=42)\n",
    "# anova_filter = SelectKBest(f_regression, k=5)\n",
    "# clf = svm.SVC(kernel='linear')\n",
    "# anova_svm = Pipeline([('anova', anova_filter), ('dbg', Debug()), ('svc', clf)])\n",
    "# anova_svm.set_params(anova__k=10, svc__C=.1).fit(X, y)\n",
    "\n",
    "# prediction = anova_svm.predict(X)"
   ]
  },
  {
   "cell_type": "code",
   "execution_count": null,
   "metadata": {
    "ExecuteTime": {
     "end_time": "2019-11-05T19:22:22.512704Z",
     "start_time": "2019-11-05T19:21:58.202Z"
    }
   },
   "outputs": [],
   "source": [
    "from sklearn.model_selection import GridSearchCV\n",
    "from sklearn.pipeline import Pipeline\n",
    "from sklearn.decomposition import PCA\n",
    "from sklearn.naive_bayes import GaussianNB\n",
    "from sklearn.naive_bayes import MultinomialNB\n",
    "\n",
    "mnb= MultinomialNB()\n",
    "gnb=GaussianNB()\n",
    "sklearnPCA = PCA()\n",
    "pipe = Pipeline(steps=[('sklearnPCA', sklearnPCA ), ('debug',Debug() ),('clf', gnb)])\n",
    "pipe2 = Pipeline(steps=[('mypca', mypca ), ('debug',Debug() ),('clf', gnb)])\n",
    "# pipe2 = Pipeline(steps=[('sklearnPCA', mypca() ),('clf', gnb)])\n",
    "grid_n_components=list(range(40,100,10))\n",
    "params_grid = {  # NaiveBayes不需要参数\n",
    "'sklearnPCA__n_components': grid_n_components\n",
    "# 'clf': gnb,\n",
    "}\n",
    "params_grid2 = {  # NaiveBayes不需要参数\n",
    "'mypca__n_components': grid_n_components\n",
    "# 'clf': gnb,\n",
    "}\n",
    "\n",
    "# grid = GridSearchCV(pipe, param_grid = params_grid)\n",
    "grid = GridSearchCV(estimator = pipe2, param_grid = params_grid2)\n",
    "grid.fit(Xtrain, Ytrain)"
   ]
  },
  {
   "cell_type": "code",
   "execution_count": 38,
   "metadata": {
    "ExecuteTime": {
     "end_time": "2019-11-05T19:05:08.234076Z",
     "start_time": "2019-11-05T19:05:08.223285Z"
    }
   },
   "outputs": [
    {
     "name": "stdout",
     "output_type": "stream",
     "text": [
      "================= grid.cv_results_  =================\n",
      "{'mean_fit_time': array([1.93813658, 1.8983229 , 1.91097307, 1.97245836, 1.96097827,\n",
      "       1.95779936]), 'std_fit_time': array([0.08482273, 0.0391215 , 0.05125795, 0.03449764, 0.01727635,\n",
      "       0.01296013]), 'mean_score_time': array([0.18083541, 0.19115496, 0.19805876, 0.20554304, 0.21608496,\n",
      "       0.24069103]), 'std_score_time': array([0.00466703, 0.00220046, 0.00350638, 0.00219373, 0.00197603,\n",
      "       0.00965469]), 'param_mypca__n_components': masked_array(data=[40, 50, 60, 70, 80, 90],\n",
      "             mask=[False, False, False, False, False, False],\n",
      "       fill_value='?',\n",
      "            dtype=object), 'params': [{'mypca__n_components': 40}, {'mypca__n_components': 50}, {'mypca__n_components': 60}, {'mypca__n_components': 70}, {'mypca__n_components': 80}, {'mypca__n_components': 90}], 'split0_test_score': array([0.10513631, 0.10406513, 0.100316  , 0.10186921, 0.10513631,\n",
      "       0.10352954]), 'split1_test_score': array([0.10462313, 0.10189104, 0.10274817, 0.10114105, 0.09990893,\n",
      "       0.10081963]), 'split2_test_score': array([0.10111456, 0.09832815, 0.09693495, 0.09950702, 0.09897117,\n",
      "       0.09998928]), 'mean_test_score': array([0.103625  , 0.10142857, 0.1       , 0.10083929, 0.10133929,\n",
      "       0.10144643]), 'std_test_score': array([0.00178714, 0.00236482, 0.0023836 , 0.00098768, 0.00271252,\n",
      "       0.00151173]), 'rank_test_score': array([1, 3, 6, 5, 4, 2], dtype=int32)}\n",
      "================= grid.best_params_  =================\n",
      "{'mypca__n_components': 40}\n",
      "================= grid.best_score_  =================\n",
      "0.103625\n"
     ]
    }
   ],
   "source": [
    "print('================= grid.cv_results_  =================')\n",
    "print(grid.cv_results_)\n",
    "print('================= grid.best_params_  =================')\n",
    "print(grid.best_params_)\n",
    "print('================= grid.best_score_  =================')\n",
    "print(grid.best_score_)"
   ]
  },
  {
   "cell_type": "markdown",
   "metadata": {},
   "source": [
    "## results using sklearnPCA and myGussianNB"
   ]
  },
  {
   "cell_type": "code",
   "execution_count": 229,
   "metadata": {
    "ExecuteTime": {
     "end_time": "2019-11-03T12:00:57.764987Z",
     "start_time": "2019-11-03T12:00:57.755056Z"
    }
   },
   "outputs": [
    {
     "data": {
      "text/plain": [
       "{'mean_fit_time': array([2.22224951, 2.54521155, 3.10633636, 3.2802031 , 2.42937056,\n",
       "        2.44914381]),\n",
       " 'std_fit_time': array([0.04046461, 0.02239172, 0.07402178, 0.00650287, 0.10505   ,\n",
       "        0.02747853]),\n",
       " 'mean_score_time': array([0.19233918, 0.22424412, 0.26351213, 0.29873681, 0.39650512,\n",
       "        0.37799597]),\n",
       " 'std_score_time': array([0.03041385, 0.03613781, 0.04072418, 0.02323294, 0.04189711,\n",
       "        0.05025253]),\n",
       " 'param_sklearnPCA__n_components': masked_array(data=[40, 50, 60, 70, 80, 90],\n",
       "              mask=[False, False, False, False, False, False],\n",
       "        fill_value='?',\n",
       "             dtype=object),\n",
       " 'params': [{'sklearnPCA__n_components': 40},\n",
       "  {'sklearnPCA__n_components': 50},\n",
       "  {'sklearnPCA__n_components': 60},\n",
       "  {'sklearnPCA__n_components': 70},\n",
       "  {'sklearnPCA__n_components': 80},\n",
       "  {'sklearnPCA__n_components': 90}],\n",
       " 'split0_test_score': array([0.10494455, 0.10387315, 0.10660524, 0.10424814, 0.10285531,\n",
       "        0.10189104]),\n",
       " 'split1_test_score': array([0.10146247, 0.09889109, 0.09931966, 0.09985536, 0.10071249,\n",
       "        0.09776611]),\n",
       " 'split2_test_score': array([0.100075  , 0.10120004, 0.10184292, 0.10221794, 0.10178935,\n",
       "        0.100075  ]),\n",
       " 'mean_test_score': array([0.10216071, 0.10132143, 0.10258929, 0.10210714, 0.10178571,\n",
       "        0.09991071]),\n",
       " 'std_test_score': array([0.00204837, 0.00203574, 0.00302081, 0.00179507, 0.00087481,\n",
       "        0.00168801]),\n",
       " 'rank_test_score': array([2, 5, 1, 3, 4, 6], dtype=int32)}"
      ]
     },
     "execution_count": 229,
     "metadata": {},
     "output_type": "execute_result"
    }
   ],
   "source": [
    "grid.cv_results_"
   ]
  },
  {
   "cell_type": "raw",
   "metadata": {
    "ExecuteTime": {
     "end_time": "2019-11-03T11:43:23.713668Z",
     "start_time": "2019-11-03T11:43:23.708739Z"
    }
   },
   "source": [
    " grid.best_params_"
   ]
  },
  {
   "cell_type": "code",
   "execution_count": 227,
   "metadata": {
    "ExecuteTime": {
     "end_time": "2019-11-03T11:43:30.248925Z",
     "start_time": "2019-11-03T11:43:30.242600Z"
    }
   },
   "outputs": [
    {
     "data": {
      "text/plain": [
       "0.10258928571428572"
      ]
     },
     "execution_count": 227,
     "metadata": {},
     "output_type": "execute_result"
    }
   ],
   "source": [
    "grid.best_score_"
   ]
  },
  {
   "cell_type": "code",
   "execution_count": 39,
   "metadata": {
    "ExecuteTime": {
     "end_time": "2019-11-05T19:05:35.623020Z",
     "start_time": "2019-11-05T19:05:35.478747Z"
    }
   },
   "outputs": [
    {
     "name": "stdout",
     "output_type": "stream",
     "text": [
      "*****************  come into debug class *************\n",
      "           0            1           2           3           4           5   \\\n",
      "0 -894.173102   116.063253   41.290309 -447.325365  119.286661   25.497188   \n",
      "1 -633.450618   125.168159  169.439494  222.638555  207.786427  499.552553   \n",
      "2 -292.815278   -47.568312 -597.873733  230.327520  147.573500  303.756733   \n",
      "3  283.681088  1105.435320  321.388377 -166.461242 -522.107013 -290.170420   \n",
      "4 -849.925831  -799.531454  187.441655  221.913664   45.989381 -330.541230   \n",
      "\n",
      "           6           7           8           9   ...          30  \\\n",
      "0  320.996193 -354.407934 -225.744542  346.425143  ...   69.264718   \n",
      "1   94.282710   45.484552  539.370219 -110.768125  ...   18.704899   \n",
      "2  408.631878 -102.110806 -478.274476  211.747269  ... -167.448623   \n",
      "3 -204.200829  324.631911  121.482881  318.879464  ...  144.679197   \n",
      "4 -305.101119  101.838897 -465.377368 -126.894860  ...  -42.303749   \n",
      "\n",
      "           31          32          33          34          35          36  \\\n",
      "0 -151.938698 -111.140262  123.288146  -58.795227  167.124302 -253.723144   \n",
      "1 -183.243076 -131.586976  -73.359241   35.808138   70.460561  -40.296362   \n",
      "2  -51.884093 -202.025644  -86.196063  282.263198 -146.745950  120.383573   \n",
      "3    5.272512  -69.472618  -91.886101  -33.922658   15.276629   20.916714   \n",
      "4  128.157453  -90.245334   15.468524   41.556168   59.235198   62.667245   \n",
      "\n",
      "           37          38         39  \n",
      "0   30.475865   23.857258   2.907350  \n",
      "1  -28.572596   59.326161  -4.793504  \n",
      "2  135.698895   71.703084  -0.217773  \n",
      "3  170.255446  -26.488181  40.719883  \n",
      "4 -105.570339 -141.216942   8.895848  \n",
      "\n",
      "[5 rows x 40 columns]\n",
      "(14000, 40)\n"
     ]
    },
    {
     "data": {
      "text/plain": [
       "0.10685714285714286"
      ]
     },
     "execution_count": 39,
     "metadata": {},
     "output_type": "execute_result"
    }
   ],
   "source": [
    "best_model=grid.best_estimator_\n",
    "best_model.score(Xtest,Ytest)\n"
   ]
  },
  {
   "cell_type": "markdown",
   "metadata": {
    "ExecuteTime": {
     "end_time": "2019-11-03T11:15:09.580951Z",
     "start_time": "2019-11-03T11:15:09.576281Z"
    },
    "heading_collapsed": true
   },
   "source": [
    "#### to be continued"
   ]
  },
  {
   "cell_type": "code",
   "execution_count": null,
   "metadata": {
    "hidden": true
   },
   "outputs": [],
   "source": [
    "# # Plot the PCA spectrum\n",
    "# pca.fit(X_digits)\n",
    "\n",
    "# fig, (ax0, ax1) = plt.subplots(nrows=2, sharex=True, figsize=(6, 6))\n",
    "# ax0.plot(pca.explained_variance_ratio_, linewidth=2)\n",
    "# ax0.set_ylabel('PCA explained variance')\n",
    "\n",
    "# ax0.axvline(search.best_estimator_.named_steps['pca'].n_components,\n",
    "#             linestyle=':', label='n_components chosen')\n",
    "# # ？？\n",
    "# ax0.legend(prop=dict(size=12))\n",
    "\n",
    "# # For each number of components, find the best classifier results\n",
    "# results = pd.DataFrame(search.cv_results_)\n",
    "# components_col = 'param_pca__n_components'\n",
    "# best_clfs = results.groupby(components_col).apply(\n",
    "#     lambda g: g.nlargest(1, 'mean_test_score'))\n",
    "\n",
    "# best_clfs.plot(x=components_col, y='mean_test_score', yerr='std_test_score',\n",
    "#                legend=False, ax=ax1)\n",
    "# ax1.set_ylabel('Classification accuracy (val)')\n",
    "# ax1.set_xlabel('n_components')\n",
    "\n",
    "# plt.tight_layout()\n",
    "# plt.show()"
   ]
  },
  {
   "cell_type": "code",
   "execution_count": null,
   "metadata": {
    "hidden": true
   },
   "outputs": [],
   "source": []
  },
  {
   "cell_type": "markdown",
   "metadata": {
    "ExecuteTime": {
     "end_time": "2019-10-31T17:40:15.373463Z",
     "start_time": "2019-10-31T17:40:15.368503Z"
    }
   },
   "source": [
    "## 高斯分布"
   ]
  },
  {
   "cell_type": "markdown",
   "metadata": {},
   "source": [
    "### 各分量之间相互独立 Naive Bayes"
   ]
  },
  {
   "cell_type": "markdown",
   "metadata": {},
   "source": [
    "还可以考虑带先验和不带先验"
   ]
  },
  {
   "cell_type": "code",
   "execution_count": null,
   "metadata": {
    "ExecuteTime": {
     "end_time": "2019-11-05T19:22:22.508246Z",
     "start_time": "2019-11-05T19:21:41.415Z"
    }
   },
   "outputs": [],
   "source": [
    "class NaiveBayes(object):\n",
    "    def fit(self, X, Y, smoothing=1e-2):\n",
    "        self.gaussians = dict()\n",
    "        self.priors = dict()\n",
    "        labels = set(Y)\n",
    "        for c in labels:\n",
    "            current_x = X[Y == c]\n",
    "            self.gaussians[c] = {\n",
    "                'mean': current_x.mean(axis=0),\n",
    "                'var': current_x.var(axis=0) + smoothing,\n",
    "            }\n",
    "            self.priors[c] = float(len(Y[Y == c])) / len(Y)\n",
    "\n",
    "    def score(self, X, Y):\n",
    "        P = self.predict(X)\n",
    "        return np.mean(P == Y)\n",
    "\n",
    "    def predict(self, X):\n",
    "        import ipdb\n",
    "        ipdb.set_trace()\n",
    "        N, D = X.shape\n",
    "        K = len(self.gaussians)  # 这不就是我降维的维度咩\n",
    "        P = np.zeros((N, K))    # 我有\n",
    "        for c, g in iteritems(self.gaussians):\n",
    "            mean, var = g['mean'], g['var']\n",
    "            P[:,c] = mvn.logpdf(X, mean=mean, cov=var) + np.log(self.priors[c])\n",
    "        return np.argmax(P, axis=1)"
   ]
  },
  {
   "cell_type": "markdown",
   "metadata": {},
   "source": [
    "## test codes "
   ]
  },
  {
   "cell_type": "code",
   "execution_count": 12,
   "metadata": {
    "ExecuteTime": {
     "end_time": "2019-11-05T18:06:34.455873Z",
     "start_time": "2019-11-05T18:06:34.449851Z"
    }
   },
   "outputs": [
    {
     "data": {
      "text/plain": [
       "numpy.ndarray"
      ]
     },
     "execution_count": 12,
     "metadata": {},
     "output_type": "execute_result"
    }
   ],
   "source": [
    "type(low_d_data_mat)"
   ]
  },
  {
   "cell_type": "code",
   "execution_count": 13,
   "metadata": {
    "ExecuteTime": {
     "end_time": "2019-11-05T18:06:37.083187Z",
     "start_time": "2019-11-05T18:06:36.641303Z"
    }
   },
   "outputs": [
    {
     "name": "stdout",
     "output_type": "stream",
     "text": [
      "Training time: 0:00:00.025128\n",
      "Train accuracy: 0.12180952380952381\n",
      "Time to compute train accuracy: 0:00:00.306796 Train size: 52500\n",
      "Test accuracy: 0.10668571428571429\n"
     ]
    }
   ],
   "source": [
    "# %debug\n",
    "if __name__ == '__main__':\n",
    "    '''check下是否真的需要降维'''\n",
    "#     for i in range (2)；\n",
    "#         if compare : compare =false\n",
    "#     X, Y = np.array(low_d_data_mat),label if compare \n",
    "    X, Y = low_d_data_mat,label\n",
    "    Ntrain = len(Y)*3 // 4   # 4:3   \n",
    "    Xtrain, Ytrain = X[:Ntrain], Y[:Ntrain]\n",
    "    Xtest, Ytest = X[Ntrain:], Y[Ntrain:]\n",
    "\n",
    "    model = NaiveBayes()\n",
    "    t0 = datetime.now()\n",
    "    \n",
    "#     import ipdb \n",
    "#     ipdb.set_trace()\n",
    "    \n",
    "    model.fit(Xtrain, Ytrain)\n",
    "    print(\"Training time:\", (datetime.now() - t0))\n",
    "\n",
    "    t0 = datetime.now()\n",
    "    print(\"Train accuracy:\", model.score(Xtrain, Ytrain))\n",
    "    print(\"Time to compute train accuracy:\", (datetime.now() - t0), \"Train size:\", len(Ytrain))\n",
    "\n",
    "    t0 = datetime.now()\n",
    "    print(\"Test accuracy:\", model.score(Xtest, Ytest))\n"
   ]
  },
  {
   "cell_type": "markdown",
   "metadata": {
    "ExecuteTime": {
     "end_time": "2019-10-31T17:41:13.254736Z",
     "start_time": "2019-10-31T17:41:13.250741Z"
    }
   },
   "source": [
    "### 各变量之间不相互独立"
   ]
  },
  {
   "cell_type": "code",
   "execution_count": 160,
   "metadata": {
    "ExecuteTime": {
     "end_time": "2019-11-02T11:53:37.053708Z",
     "start_time": "2019-11-02T11:53:37.047691Z"
    }
   },
   "outputs": [
    {
     "data": {
      "text/plain": [
       "(70000, 100)"
      ]
     },
     "execution_count": 160,
     "metadata": {},
     "output_type": "execute_result"
    }
   ],
   "source": [
    "low_d_data_mat.shape\n"
   ]
  },
  {
   "cell_type": "markdown",
   "metadata": {},
   "source": [
    "## 均匀分布"
   ]
  },
  {
   "cell_type": "code",
   "execution_count": null,
   "metadata": {},
   "outputs": [],
   "source": []
  }
 ],
 "metadata": {
  "kernelspec": {
   "display_name": "py36torch",
   "language": "python",
   "name": "py36torch"
  },
  "language_info": {
   "codemirror_mode": {
    "name": "ipython",
    "version": 3
   },
   "file_extension": ".py",
   "mimetype": "text/x-python",
   "name": "python",
   "nbconvert_exporter": "python",
   "pygments_lexer": "ipython3",
   "version": "3.6.0"
  },
  "toc": {
   "base_numbering": 1,
   "nav_menu": {},
   "number_sections": true,
   "sideBar": true,
   "skip_h1_title": false,
   "title_cell": "Table of Contents",
   "title_sidebar": "Contents",
   "toc_cell": false,
   "toc_position": {},
   "toc_section_display": true,
   "toc_window_display": false
  },
  "varInspector": {
   "cols": {
    "lenName": 16,
    "lenType": 16,
    "lenVar": 40
   },
   "kernels_config": {
    "python": {
     "delete_cmd_postfix": "",
     "delete_cmd_prefix": "del ",
     "library": "var_list.py",
     "varRefreshCmd": "print(var_dic_list())"
    },
    "r": {
     "delete_cmd_postfix": ") ",
     "delete_cmd_prefix": "rm(",
     "library": "var_list.r",
     "varRefreshCmd": "cat(var_dic_list()) "
    }
   },
   "types_to_exclude": [
    "module",
    "function",
    "builtin_function_or_method",
    "instance",
    "_Feature"
   ],
   "window_display": false
  }
 },
 "nbformat": 4,
 "nbformat_minor": 2
}
