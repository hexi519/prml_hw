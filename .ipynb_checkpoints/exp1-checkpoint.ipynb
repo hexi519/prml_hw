{
 "cells": [
  {
   "cell_type": "code",
   "execution_count": 18,
   "metadata": {
    "ExecuteTime": {
     "end_time": "2019-11-05T00:44:36.211182Z",
     "start_time": "2019-11-05T00:44:35.943870Z"
    }
   },
   "outputs": [
    {
     "data": {
      "text/plain": [
       "<matplotlib.axes._subplots.AxesSubplot at 0x7f8c5d2e6d30>"
      ]
     },
     "execution_count": 18,
     "metadata": {},
     "output_type": "execute_result"
    },
    {
     "data": {
      "image/png": "[encoded data removed]",
      "text/plain": [
       "<Figure size 432x288 with 1 Axes>"
      ]
     },
     "metadata": {
      "needs_background": "light"
     },
     "output_type": "display_data"
    }
   ],
   "source": [
    "import matplotlib.pyplot as plt\n",
    "import seaborn as sns\n",
    "# sns.set()\n",
    "\n",
    "\n",
    "%matplotlib inline\n",
    "\n",
    "sns.countplot(label)"
   ]
  },
  {
   "cell_type": "markdown",
   "metadata": {},
   "source": [
    "* 疑问点\n",
    "    * 选用什么贝叶斯，，，模型怎么定。。。\n",
    "    * loss_function是不是得自己建模一下..\n",
    "    * 输入怎么输入法子...\n",
    " \n",
    "* 思路\n",
    "    * 先主要看看网上的  ，然后再看看百战怎么处理的= =\n",
    "    * 能否看下skearn的实现时间和自己的实现时间对比...\n",
    "    * 需要进行图片增强吗？ 这个到底学习到的是什么？ 如果增强的话会不会有影响..."
   ]
  },
  {
   "cell_type": "markdown",
   "metadata": {},
   "source": [
    "* 任务要求\n",
    "   1.对各类图片的分布进行建模,在训练集上利用最大似然方法,估计其分布参数\n",
    "   2.利用贝叶斯判决对测试集上每张图片进行分类,并验证分类准确率\n",
    "   3.对实验结果进行分析\n",
    "\n",
    "* 参考方案\n",
    "  1.利用PCA进行数据降维\n",
    "      你确定是用PCA降维吗..\n",
    "  2.分析分布形式与准确率的关系(以高斯分布为例,可以假设高斯分布各分量之间相互独立与否,分别进行实验并对结果进行分析)\n",
    "  3.分析降维维度与准确率的关系\n",
    "\n",
    "2 说明有个接口要给model test(model,data ,feature) :   --> results ( acc , ..? )\n",
    "                    model(data)\n",
    "3 说明pca要有个维度的接口\n",
    "\n",
    "还需要有五折交叉验证？"
   ]
  },
  {
   "cell_type": "code",
   "execution_count": 3,
   "metadata": {
    "ExecuteTime": {
     "end_time": "2019-11-05T18:34:16.413503Z",
     "start_time": "2019-11-05T18:34:16.408953Z"
    }
   },
   "outputs": [],
   "source": [
    "import numpy as np\n",
    "import PIL\n",
    "from PIL import Image"
   ]
  },
  {
   "cell_type": "code",
   "execution_count": 4,
   "metadata": {
    "ExecuteTime": {
     "end_time": "2019-11-05T18:34:18.097129Z",
     "start_time": "2019-11-05T18:34:18.091749Z"
    }
   },
   "outputs": [],
   "source": [
    "from __future__ import print_function, division\n",
    "from future.utils import iteritems\n",
    "from builtins import range, input\n",
    "# Note: you may need to update your version of future\n",
    "# sudo pip install -U future\n",
    "\n",
    "import numpy as np\n",
    "from datetime import datetime\n",
    "from scipy.stats import norm\n",
    "from scipy.stats import multivariate_normal as mvn\n",
    "from numpy import *"
   ]
  },
  {
   "cell_type": "markdown",
   "metadata": {},
   "source": [
    "# 数据获取"
   ]
  },
  {
   "cell_type": "code",
   "execution_count": 5,
   "metadata": {
    "ExecuteTime": {
     "end_time": "2019-11-05T18:34:19.002455Z",
     "start_time": "2019-11-05T18:34:18.935295Z"
    },
    "run_control": {
     "marked": false
    }
   },
   "outputs": [],
   "source": [
    "from scipy.io import loadmat\n",
    "mnist_raw = loadmat(\"./data/mnist-original.mat\")\n",
    "mnist = {\n",
    "    \"data\": mnist_raw[\"data\"].T,\n",
    "    \"label\": mnist_raw[\"label\"][0],\n",
    "    \"COL_NAMES\": [\"label\", \"data\"],\n",
    "    \"DESCR\": \"mldata.labelorg dataset: mnist-original\",\n",
    "}"
   ]
  },
  {
   "cell_type": "code",
   "execution_count": 6,
   "metadata": {
    "ExecuteTime": {
     "end_time": "2019-11-05T18:34:20.439755Z",
     "start_time": "2019-11-05T18:34:20.004026Z"
    }
   },
   "outputs": [
    {
     "name": "stdout",
     "output_type": "stream",
     "text": [
      "Using matplotlib backend: agg\n"
     ]
    }
   ],
   "source": [
    "%matplotlib\n",
    "data=mnist[\"data\"]\n",
    "label=np.array(list(map(int,mnist[\"label\"])))  # change float to int\n",
    "\n",
    "random.shuffle(data)\n",
    "random.shuffle(label)"
   ]
  },
  {
   "cell_type": "code",
   "execution_count": 7,
   "metadata": {
    "ExecuteTime": {
     "end_time": "2019-11-05T18:34:21.182573Z",
     "start_time": "2019-11-05T18:34:21.175582Z"
    }
   },
   "outputs": [
    {
     "name": "stdout",
     "output_type": "stream",
     "text": [
      "<class 'numpy.ndarray'> <class 'numpy.ndarray'>\n",
      "(70000, 784) (70000,)\n",
      "samples after shuffling is \n",
      " data : [[0 0 0 ... 0 0 0]\n",
      " [0 0 0 ... 0 0 0]\n",
      " [0 0 0 ... 0 0 0]\n",
      " ...\n",
      " [0 0 0 ... 0 0 0]\n",
      " [0 0 0 ... 0 0 0]\n",
      " [0 0 0 ... 0 0 0]] \n",
      " label : [4 5 1 6 3 9 8 2 8 5] :\n"
     ]
    }
   ],
   "source": [
    "print(type(data),type(label) )\n",
    "print( data.shape, label.shape )\n",
    "print('samples after shuffling is \\n data : {} \\n label : {} :'.format( data[:10] ,label[:10] )  )"
   ]
  },
  {
   "cell_type": "markdown",
   "metadata": {},
   "source": [
    "## 划分测试和训练"
   ]
  },
  {
   "cell_type": "code",
   "execution_count": 8,
   "metadata": {
    "ExecuteTime": {
     "end_time": "2019-11-05T18:34:22.543647Z",
     "start_time": "2019-11-05T18:34:22.539867Z"
    }
   },
   "outputs": [],
   "source": [
    "Ntrain = len(label)*4 // 5   # 4:1\n",
    "Xtrain, Ytrain = data[:Ntrain], label[:Ntrain]\n",
    "Xtest, Ytest = data[Ntrain:], label[Ntrain:]"
   ]
  },
  {
   "cell_type": "markdown",
   "metadata": {
    "heading_collapsed": true
   },
   "source": [
    "## 数据基本信息 (before shuffled"
   ]
  },
  {
   "cell_type": "code",
   "execution_count": 9,
   "metadata": {
    "ExecuteTime": {
     "end_time": "2019-11-01T00:51:17.040935Z",
     "start_time": "2019-11-01T00:51:17.023071Z"
    },
    "hidden": true
   },
   "outputs": [
    {
     "data": {
      "text/plain": [
       "(70000, 784)"
      ]
     },
     "execution_count": 9,
     "metadata": {},
     "output_type": "execute_result"
    }
   ],
   "source": [
    "mnist[\"data\"].shape # mnist is a dict , not a dataframe\n",
    "# import pandas as pd\n",
    "# new_mnist = pd.DataFrame(mnist)\n",
    "# new_mnist.data.shape"
   ]
  },
  {
   "cell_type": "code",
   "execution_count": 10,
   "metadata": {
    "ExecuteTime": {
     "end_time": "2019-11-01T00:51:18.224653Z",
     "start_time": "2019-11-01T00:51:18.220449Z"
    },
    "hidden": true
   },
   "outputs": [
    {
     "data": {
      "text/plain": [
       "(70000,)"
      ]
     },
     "execution_count": 10,
     "metadata": {},
     "output_type": "execute_result"
    }
   ],
   "source": [
    "mnist[\"label\"].shape"
   ]
  },
  {
   "cell_type": "code",
   "execution_count": 11,
   "metadata": {
    "ExecuteTime": {
     "end_time": "2019-11-01T00:51:19.890120Z",
     "start_time": "2019-11-01T00:51:19.883551Z"
    },
    "hidden": true
   },
   "outputs": [
    {
     "data": {
      "text/plain": [
       "array([0., 1., 2., 3., 4., 5., 6., 7., 8., 9.])"
      ]
     },
     "execution_count": 11,
     "metadata": {},
     "output_type": "execute_result"
    }
   ],
   "source": [
    "np.unique(mnist[\"label\"])"
   ]
  },
  {
   "cell_type": "markdown",
   "metadata": {
    "heading_collapsed": true
   },
   "source": [
    "## observe data"
   ]
  },
  {
   "cell_type": "code",
   "execution_count": 63,
   "metadata": {
    "ExecuteTime": {
     "end_time": "2019-11-02T08:34:55.271697Z",
     "start_time": "2019-11-02T08:34:55.258944Z"
    },
    "hidden": true,
    "run_control": {
     "marked": false
    }
   },
   "outputs": [],
   "source": [
    "# fetch the first 1000 images from the dataset\n",
    "origin_5_imgs = [] \n",
    "for i in range(1000):    \n",
    "    if label[i] == 5 and len(origin_5_imgs) < 100:        \n",
    "        origin_5_imgsmgs.append(imgs[i])\n",
    "\n",
    "def array_to_img(array):\n",
    "    array=array*255\n",
    "    new_img=Image.fromarray(array.astype(np.uint8))\n",
    "    return new_img\n",
    "\n",
    "# put all images into one picture\n",
    "def comb_imgs(origin_imgs, col, row, each_width, each_height, new_type):\n",
    "    new_img = Image.new(new_type, (col* each_width, row* each_height)) \n",
    "    for i in range(len(origin_imgs)):\n",
    "     each_img = array_to_img(np.array(origin_imgs[i]).reshape(each_width, each_width))\n",
    "     new_img.paste(each_img, ((i % col) * each_width, (i / col) * each_width)) \n",
    "    return new_img\n",
    "\n",
    "'''\n",
    "效果图\n",
    "'''\n",
    "\n",
    "ten_origin_5_imgs=comb_imgs(origin_5_imgs, 10, 10, 2, 28, 'L')\n",
    "ten_origin_5_imgs.show()"
   ]
  },
  {
   "cell_type": "markdown",
   "metadata": {},
   "source": [
    "# 降维"
   ]
  },
  {
   "cell_type": "markdown",
   "metadata": {},
   "source": [
    "## PCA"
   ]
  },
  {
   "cell_type": "markdown",
   "metadata": {},
   "source": [
    " 这里的mean和std也要自己实现...?\n",
    " 所以并行的思想是体现在哪里..."
   ]
  },
  {
   "cell_type": "markdown",
   "metadata": {
    "heading_collapsed": true
   },
   "source": [
    "### import packgaes"
   ]
  },
  {
   "cell_type": "code",
   "execution_count": 71,
   "metadata": {
    "ExecuteTime": {
     "end_time": "2019-11-02T08:41:08.606234Z",
     "start_time": "2019-11-02T08:41:08.593076Z"
    },
    "hidden": true
   },
   "outputs": [
    {
     "data": {
      "text/html": [
       "        <script type=\"text/javascript\">\n",
       "        window.PlotlyConfig = {MathJaxConfig: 'local'};\n",
       "        if (window.MathJax) {MathJax.Hub.Config({SVG: {font: \"STIX-Web\"}});}\n",
       "        if (typeof require !== 'undefined') {\n",
       "        require.undef(\"plotly\");\n",
       "        requirejs.config({\n",
       "            paths: {\n",
       "                'plotly': ['https://cdn.plot.ly/plotly-latest.min']\n",
       "            }\n",
       "        });\n",
       "        require(['plotly'], function(Plotly) {\n",
       "            window._Plotly = Plotly;\n",
       "        });\n",
       "        }\n",
       "        </script>\n",
       "        "
      ]
     },
     "metadata": {},
     "output_type": "display_data"
    }
   ],
   "source": [
    "import plotly.offline as py\n",
    "py.init_notebook_mode(connected=True)\n",
    "import plotly.graph_objs as go\n",
    "import plotly.tools as tls\n",
    "import seaborn as sns\n",
    "import matplotlib.image as mpimg\n",
    "import matplotlib.pyplot as plt\n",
    "import matplotlib\n",
    "%matplotlib inline\n",
    "from numpy import linalg,mat\n",
    "from numpy import *"
   ]
  },
  {
   "cell_type": "markdown",
   "metadata": {},
   "source": [
    "### definition and usage of pca (wrong"
   ]
  },
  {
   "cell_type": "markdown",
   "metadata": {
    "ExecuteTime": {
     "end_time": "2019-11-03T09:35:30.494986Z",
     "start_time": "2019-11-03T09:35:30.490870Z"
    },
    "heading_collapsed": true
   },
   "source": [
    "#### old version of pca"
   ]
  },
  {
   "cell_type": "code",
   "execution_count": 144,
   "metadata": {
    "ExecuteTime": {
     "end_time": "2019-11-02T11:39:02.744319Z",
     "start_time": "2019-11-02T11:39:02.727170Z"
    },
    "hidden": true
   },
   "outputs": [],
   "source": [
    "def pca(data_mat=none, n_components=99999999, var_exp_ratio =0.9 ):  \n",
    "# def pca(data_mat, top_n_feat=99999999):  \n",
    "    \"\"\"    \n",
    "    主成分分析：    \n",
    "    输入：矩阵data_mat ，其中该矩阵中存储训练数据，每一行为一条训练数据         保留前n个特征top_n_feat，默认全保留  \n",
    "    返回：降维后的数据集和原始数据被重构后的矩阵（即降维后反变换回矩阵）  \n",
    "    \"\"\"    \n",
    "    # 获取数据条数和每条的维数  \n",
    "    \n",
    "#     import ipdb\n",
    "#     ipdb.set_trace()\n",
    "    num_data,dim = data_mat.shape  \n",
    "#     print(num_data)  # 70000 \n",
    "#     print(dim)   # 784  \n",
    "\n",
    "    mean_vals = data_mat.mean(axis=0)  #shape:(784,)  \n",
    "    mean_removed = data_mat - mean_vals # shape:(100, 784)  \n",
    "\n",
    "    '''这里rowvar为0，所以不需要转置...或许应该用自带的PCA函数测试一下'''\n",
    "    cov_mat = np.cov(mean_removed, rowvar=False) # shape：(784, 784)     \n",
    "\n",
    "    eig_vals, eig_vects = linalg.eig(mat(cov_mat)) # 计算特征值和特征向量，shape分别为（784，）和(784, 784)  \n",
    "    imagEigValueIndex = nonzero( list(map(lambda x: x.imag ,eig_vals) ) )[0]\n",
    "#     print(\"复数特征值的index是：{}\".format( nonzero( list(map(lambda x: x.imag ,eig_vals) ) )   )\n",
    "#     print(\"复数/特征值的index是：{}\".format( nonzero( np.imag(eig_vals)) ) )   \n",
    "#     eig_vals = np.array(list(map(lambda x: x.real ,eig_vals) ) )\n",
    "    eig_vals = np.real(eig_vals)\n",
    "    eig_vects = np.real(eig_vects)\n",
    "    eig_val_index = argsort(eig_vals)  # 对特征值进行从小到大排序，argsort返回的是索引，即下标 \n",
    "#     print(\"特征值最大的index是{}\".format(eig_val_index[-100:-50]) )\n",
    "    \n",
    "    # variance_explained ration\n",
    "    tot = sum(eig_vals)\n",
    "    var_exp = [(i/tot)*100 for i in sorted(eig_vals, reverse=True)] # Individual explained variance\n",
    "    cum_var_exp = np.cumsum(var_exp) # Cumulative explained variance\n",
    "#     print(\"cum_var_exp is {}\",cum_var_exp[1:50])\n",
    "    plt.plot(range(1,len(cum_var_exp)+1),cum_var_exp )\n",
    "    plt.xlabel(\"sorted eigen value number\")\n",
    "    plt.ylabel(\"cum_var_exp of sorted eigen value （%）\")\n",
    "    \n",
    "    # 如果指定维数 就用维数\n",
    "    if( n_components >1000 ):\n",
    "        whetherAbove90 = np.array(cum_var_exp >= 90, dtype='bool')\n",
    "#         print(\"whetherAbove90 is {}\".format( whetherAbove90))\n",
    "        n_components= np.nonzero(whetherAbove90)[0][0] # The first index \n",
    "#         print(\"np.nonzero(whetherAbove90)[0] is {}\".format( np.nonzero(whetherAbove90)[0]))\n",
    "#         print(\"top_n_feat is {}\".format(top_n_feat) ) \n",
    "        top_n_cum = cum_var_exp[:n_components+1]\n",
    "#         print (\"Cumsum >90% ，the first {} eigen values contributes ratio is {}%\".format(top_n_feat,top_n_cum ) )\n",
    "        matplotlib.rcParams['font.sans-serif'] = ['Source Han Sans TW', 'sans-serif']\n",
    "        plt.text(*(n_components+2,90),\"({} , 90%)\".format(n_components+1))  # top_n_feat+2 to give place for text\n",
    "        plt.scatter([n_components],[90],s=8,color='red')\n",
    "    \n",
    "    eig_val_index = eig_val_index[:-(n_components + 1) : -1] # 最大的前top_n_feat个特征的索引  \n",
    "    reg_eig_vects = eig_vects[:, eig_val_index]  \n",
    "\n",
    "    low_d_data_mat = mean_removed * reg_eig_vects # shape: (100, top_n_feat), top_n_feat最大为特征总数  \n",
    "    recon_mat = (low_d_data_mat * reg_eig_vects.T) + mean_vals # 根据前几个特征向量重构回去的矩阵，shape:(100, 784)\n",
    "\n",
    "    return low_d_data_mat, recon_mat"
   ]
  },
  {
   "cell_type": "code",
   "execution_count": 203,
   "metadata": {
    "ExecuteTime": {
     "end_time": "2019-11-03T09:37:20.786414Z",
     "start_time": "2019-11-03T09:37:20.698415Z"
    },
    "hidden": true
   },
   "outputs": [],
   "source": [
    "??PCA"
   ]
  },
  {
   "cell_type": "markdown",
   "metadata": {},
   "source": [
    "#### my version of pca"
   ]
  },
  {
   "cell_type": "markdown",
   "metadata": {},
   "source": [
    "pipeline的话 一些很好的数据特征怎么算出来"
   ]
  },
  {
   "cell_type": "code",
   "execution_count": 33,
   "metadata": {
    "ExecuteTime": {
     "end_time": "2019-11-05T19:02:36.339970Z",
     "start_time": "2019-11-05T19:02:36.320077Z"
    }
   },
   "outputs": [],
   "source": [
    "#### %pdb on\n",
    "\n",
    "from sklearn.base import BaseEstimator, TransformerMixin\n",
    "\n",
    "class myPca(BaseEstimator, TransformerMixin):\n",
    "    def __init__(self,n_components=40):\n",
    "        self.n_components=n_components\n",
    "        self.eig_vals ,self.eig_vects =[ ],[ ]\n",
    "        self.mean_vals=[]\n",
    "        self.mean_removed =[] \n",
    "#         self.low_d_data_mat=[]   # 实际上fit找到就行  降维应该是后面的transform做的\n",
    "        \n",
    "    def fit(self,data_mat,Y):\n",
    "        # get character of training set  \n",
    "        self.mean_vals = data_mat.mean(axis=0)  #shape:(784,)     # for fit training data \n",
    "        self.mean_removed = data_mat - self.mean_vals # shape:(100, 784)  \n",
    "\n",
    "        cov_mat = np.cov(self.mean_removed, rowvar=False) # shape：(784, 784)     \n",
    "        print(\"check cov_mat's shape is {}  ==(748,748)? \".format(cov_mat.shape) )     \n",
    "        self.eig_vals, self.eig_vects = linalg.eig(mat(cov_mat)) # 计算特征值和特征向量，shape分别为（784，）和(784, 784)  \n",
    "        '''just for check image value and image vectors'''\n",
    "        imagEigValueIndex = nonzero( list(map(lambda x: x.imag ,self.eig_vals) ) )[0]\n",
    "    #     print(\"复数特征值的index是：{}\".format( nonzero( list(map(lambda x: x.imag ,eig_vals) ) )   )\n",
    "    #     print(\"复数/特征值的index是：{}\".format( nonzero( np.imag(eig_vals)) ) )   \n",
    "    #     eig_vals = np.array(list(map(lambda x: x.real ,eig_vals) ) )\n",
    "        '''transform image number to real number/vectors'''\n",
    "        self.eig_vals = np.real(self.eig_vals)\n",
    "        self.eig_vects = np.real(self.eig_vects)\n",
    "        self.eig_val_index = argsort(self.eig_vals)  # 对特征值进行从小到大排序，argsort返回的是索引，即下标 \n",
    "        \n",
    "        print(\"in myPca,n_components is {}\".format(self.n_components) ) # 这里给我改成python log   注释和to-do应该怎么区分\n",
    "        self.eig_val_index = self.eig_val_index[:-(self.n_components + 1) : -1] # 最大的前top_n_feat个特征的索引  \n",
    "        self.reg_eig_vects = self.eig_vects[:, self.eig_val_index]  \n",
    "        \n",
    "#         self.low_d_data_mat = np.array(self.mean_removed * self.reg_eig_vects) # shape: (100, top_n_feat), top_n_feat最大为特征总数  \n",
    "        return self\n",
    "        \n",
    "    #     print(\"特征值最大的index是{}\".format(eig_val_index[-100:-50]) )\n",
    "\n",
    "        # variance_explained ration\n",
    "        tot = sum(self.eig_vals)\n",
    "        var_exp = [(i/tot)*100 for i in sorted(self.eig_vals, reverse=True)] # Individual explained variance\n",
    "        self.cum_var_exp = np.cumsum(var_exp) # Cumulative explained variance\n",
    "    \n",
    "    def transform(self,data_mat):    \n",
    "        # 这里似乎可以考虑拆出来写一个函数   但是是传值还是传引用比较好呢???\n",
    "        mean_removed = data_mat - self.mean_vals # shape:(100, 784)  \n",
    "        \n",
    "        low_d_data_mat = mean_removed * self.reg_eig_vects # shape: (100, top_n_feat), top_n_feat最大为特征总数  \n",
    "#         recon_mat = (low_d_data_mat * self.reg_eig_vects.T) + mean_vals # 根据前几个特征向量重构回去的矩阵，shape:(100, 784)\n",
    "        return np.array(low_d_data_mat)"
   ]
  },
  {
   "cell_type": "code",
   "execution_count": 34,
   "metadata": {
    "ExecuteTime": {
     "end_time": "2019-11-05T19:02:43.039461Z",
     "start_time": "2019-11-05T19:02:39.801830Z"
    },
    "scrolled": true
   },
   "outputs": [
    {
     "name": "stdout",
     "output_type": "stream",
     "text": [
      "Automatic pdb calling has been turned ON\n",
      "check cov_mat's shape is (784, 784)  ==(748,748)? \n",
      "in myPca,n_components is 40\n"
     ]
    },
    {
     "data": {
      "text/html": [
       "<div>\n",
       "<style scoped>\n",
       "    .dataframe tbody tr th:only-of-type {\n",
       "        vertical-align: middle;\n",
       "    }\n",
       "\n",
       "    .dataframe tbody tr th {\n",
       "        vertical-align: top;\n",
       "    }\n",
       "\n",
       "    .dataframe thead th {\n",
       "        text-align: right;\n",
       "    }\n",
       "</style>\n",
       "<table border=\"1\" class=\"dataframe\">\n",
       "  <thead>\n",
       "    <tr style=\"text-align: right;\">\n",
       "      <th></th>\n",
       "      <th>0</th>\n",
       "      <th>1</th>\n",
       "      <th>2</th>\n",
       "      <th>3</th>\n",
       "      <th>4</th>\n",
       "      <th>5</th>\n",
       "      <th>6</th>\n",
       "      <th>7</th>\n",
       "      <th>8</th>\n",
       "      <th>9</th>\n",
       "      <th>...</th>\n",
       "      <th>30</th>\n",
       "      <th>31</th>\n",
       "      <th>32</th>\n",
       "      <th>33</th>\n",
       "      <th>34</th>\n",
       "      <th>35</th>\n",
       "      <th>36</th>\n",
       "      <th>37</th>\n",
       "      <th>38</th>\n",
       "      <th>39</th>\n",
       "    </tr>\n",
       "  </thead>\n",
       "  <tbody>\n",
       "    <tr>\n",
       "      <th>0</th>\n",
       "      <td>295.953144</td>\n",
       "      <td>102.111135</td>\n",
       "      <td>572.288483</td>\n",
       "      <td>-315.550368</td>\n",
       "      <td>328.491939</td>\n",
       "      <td>-797.486917</td>\n",
       "      <td>301.865440</td>\n",
       "      <td>-121.714992</td>\n",
       "      <td>4.862728</td>\n",
       "      <td>-43.975125</td>\n",
       "      <td>...</td>\n",
       "      <td>364.409506</td>\n",
       "      <td>-155.035472</td>\n",
       "      <td>-42.359306</td>\n",
       "      <td>-80.517187</td>\n",
       "      <td>-44.262518</td>\n",
       "      <td>91.156870</td>\n",
       "      <td>302.808804</td>\n",
       "      <td>257.576813</td>\n",
       "      <td>352.328213</td>\n",
       "      <td>83.961848</td>\n",
       "    </tr>\n",
       "    <tr>\n",
       "      <th>1</th>\n",
       "      <td>727.996747</td>\n",
       "      <td>-86.074396</td>\n",
       "      <td>442.354521</td>\n",
       "      <td>-428.919317</td>\n",
       "      <td>540.241711</td>\n",
       "      <td>376.945473</td>\n",
       "      <td>-313.275852</td>\n",
       "      <td>-483.718578</td>\n",
       "      <td>84.566344</td>\n",
       "      <td>66.880701</td>\n",
       "      <td>...</td>\n",
       "      <td>-260.545074</td>\n",
       "      <td>68.277923</td>\n",
       "      <td>-42.756755</td>\n",
       "      <td>-179.340968</td>\n",
       "      <td>439.344325</td>\n",
       "      <td>-52.369101</td>\n",
       "      <td>94.473856</td>\n",
       "      <td>193.802920</td>\n",
       "      <td>-120.787262</td>\n",
       "      <td>-84.632039</td>\n",
       "    </tr>\n",
       "    <tr>\n",
       "      <th>2</th>\n",
       "      <td>-22.135167</td>\n",
       "      <td>752.521220</td>\n",
       "      <td>498.040359</td>\n",
       "      <td>-740.408693</td>\n",
       "      <td>127.013144</td>\n",
       "      <td>-747.852070</td>\n",
       "      <td>685.717811</td>\n",
       "      <td>-238.137103</td>\n",
       "      <td>-49.536113</td>\n",
       "      <td>306.394966</td>\n",
       "      <td>...</td>\n",
       "      <td>142.473228</td>\n",
       "      <td>-40.160574</td>\n",
       "      <td>-40.663038</td>\n",
       "      <td>-80.165425</td>\n",
       "      <td>-115.774845</td>\n",
       "      <td>-101.621371</td>\n",
       "      <td>-51.668436</td>\n",
       "      <td>-117.570616</td>\n",
       "      <td>-31.736573</td>\n",
       "      <td>-22.744746</td>\n",
       "    </tr>\n",
       "    <tr>\n",
       "      <th>3</th>\n",
       "      <td>-175.016212</td>\n",
       "      <td>-443.329943</td>\n",
       "      <td>40.483821</td>\n",
       "      <td>-278.683929</td>\n",
       "      <td>-536.932393</td>\n",
       "      <td>-647.475583</td>\n",
       "      <td>391.089327</td>\n",
       "      <td>-39.228670</td>\n",
       "      <td>-541.569167</td>\n",
       "      <td>103.825015</td>\n",
       "      <td>...</td>\n",
       "      <td>-126.753620</td>\n",
       "      <td>94.894369</td>\n",
       "      <td>48.243730</td>\n",
       "      <td>-87.653832</td>\n",
       "      <td>-32.460570</td>\n",
       "      <td>158.999847</td>\n",
       "      <td>-221.339011</td>\n",
       "      <td>51.834854</td>\n",
       "      <td>126.751713</td>\n",
       "      <td>-22.732123</td>\n",
       "    </tr>\n",
       "    <tr>\n",
       "      <th>4</th>\n",
       "      <td>174.667543</td>\n",
       "      <td>141.377902</td>\n",
       "      <td>257.152976</td>\n",
       "      <td>817.033438</td>\n",
       "      <td>-201.696662</td>\n",
       "      <td>541.771946</td>\n",
       "      <td>-27.813836</td>\n",
       "      <td>136.161003</td>\n",
       "      <td>-361.095087</td>\n",
       "      <td>206.023528</td>\n",
       "      <td>...</td>\n",
       "      <td>94.583128</td>\n",
       "      <td>-79.531145</td>\n",
       "      <td>-300.568663</td>\n",
       "      <td>-114.130770</td>\n",
       "      <td>76.616976</td>\n",
       "      <td>139.111873</td>\n",
       "      <td>-78.098837</td>\n",
       "      <td>-282.062718</td>\n",
       "      <td>-41.563835</td>\n",
       "      <td>-50.364178</td>\n",
       "    </tr>\n",
       "  </tbody>\n",
       "</table>\n",
       "<p>5 rows × 40 columns</p>\n",
       "</div>"
      ],
      "text/plain": [
       "           0           1           2           3           4           5   \\\n",
       "0  295.953144  102.111135  572.288483 -315.550368  328.491939 -797.486917   \n",
       "1  727.996747  -86.074396  442.354521 -428.919317  540.241711  376.945473   \n",
       "2  -22.135167  752.521220  498.040359 -740.408693  127.013144 -747.852070   \n",
       "3 -175.016212 -443.329943   40.483821 -278.683929 -536.932393 -647.475583   \n",
       "4  174.667543  141.377902  257.152976  817.033438 -201.696662  541.771946   \n",
       "\n",
       "           6           7           8           9   ...          30  \\\n",
       "0  301.865440 -121.714992    4.862728  -43.975125  ...  364.409506   \n",
       "1 -313.275852 -483.718578   84.566344   66.880701  ... -260.545074   \n",
       "2  685.717811 -238.137103  -49.536113  306.394966  ...  142.473228   \n",
       "3  391.089327  -39.228670 -541.569167  103.825015  ... -126.753620   \n",
       "4  -27.813836  136.161003 -361.095087  206.023528  ...   94.583128   \n",
       "\n",
       "           31          32          33          34          35          36  \\\n",
       "0 -155.035472  -42.359306  -80.517187  -44.262518   91.156870  302.808804   \n",
       "1   68.277923  -42.756755 -179.340968  439.344325  -52.369101   94.473856   \n",
       "2  -40.160574  -40.663038  -80.165425 -115.774845 -101.621371  -51.668436   \n",
       "3   94.894369   48.243730  -87.653832  -32.460570  158.999847 -221.339011   \n",
       "4  -79.531145 -300.568663 -114.130770   76.616976  139.111873  -78.098837   \n",
       "\n",
       "           37          38         39  \n",
       "0  257.576813  352.328213  83.961848  \n",
       "1  193.802920 -120.787262 -84.632039  \n",
       "2 -117.570616  -31.736573 -22.744746  \n",
       "3   51.834854  126.751713 -22.732123  \n",
       "4 -282.062718  -41.563835 -50.364178  \n",
       "\n",
       "[5 rows x 40 columns]"
      ]
     },
     "execution_count": 34,
     "metadata": {},
     "output_type": "execute_result"
    }
   ],
   "source": [
    "%pdb on\n",
    "# %debug \n",
    "import pandas as pd\n",
    "mypca = myPca()   # \n",
    "low_d_data_mat = mypca.fit(data,label).transform(data)  # --> low_d_data_mat, recon_mat # 3 只有16%  达到90% 是\n",
    "\n",
    "pd.DataFrame(low_d_data_mat).head()"
   ]
  },
  {
   "cell_type": "code",
   "execution_count": null,
   "metadata": {},
   "outputs": [],
   "source": [
    "mynb =NaiveBayes()\n",
    "NaiveBayes.fit(low_d_data_mat[:Ntrain],label[:Ntrain])\n",
    "NaiveBayes.predict()"
   ]
  },
  {
   "cell_type": "markdown",
   "metadata": {
    "heading_collapsed": true
   },
   "source": [
    "### sklearn version of pca"
   ]
  },
  {
   "cell_type": "code",
   "execution_count": 165,
   "metadata": {
    "ExecuteTime": {
     "end_time": "2019-11-03T06:55:41.459892Z",
     "start_time": "2019-11-03T06:55:41.108569Z"
    },
    "hidden": true
   },
   "outputs": [],
   "source": [
    "# using python pca to verify\n",
    "import sklearn\n",
    "from sklearn.decomposition import PCA\n",
    "\n",
    "sklearnPCA = PCA(n_components=100,copy=True, whiten=False)\n",
    "sklearnPCA.fit(Xtrain)\n",
    "Xtest= sklearnPCA.fit(Xtrain)\n",
    "newX=pca.transform(X)"
   ]
  },
  {
   "cell_type": "markdown",
   "metadata": {
    "heading_collapsed": true
   },
   "source": [
    "## LDA"
   ]
  },
  {
   "cell_type": "code",
   "execution_count": null,
   "metadata": {
    "hidden": true
   },
   "outputs": [],
   "source": []
  },
  {
   "cell_type": "markdown",
   "metadata": {
    "ExecuteTime": {
     "end_time": "2019-10-31T17:39:36.755620Z",
     "start_time": "2019-10-31T17:39:36.752411Z"
    }
   },
   "source": [
    "# 构建不同的分布model"
   ]
  },
  {
   "cell_type": "markdown",
   "metadata": {
    "ExecuteTime": {
     "end_time": "2019-11-03T07:25:56.693175Z",
     "start_time": "2019-11-03T07:25:56.689398Z"
    },
    "heading_collapsed": true
   },
   "source": [
    "## using pipeline"
   ]
  },
  {
   "cell_type": "code",
   "execution_count": 11,
   "metadata": {
    "ExecuteTime": {
     "end_time": "2019-11-05T18:35:03.145253Z",
     "start_time": "2019-11-05T18:35:02.864659Z"
    },
    "hidden": true
   },
   "outputs": [],
   "source": [
    "from sklearn.decomposition import PCA\n",
    "from sklearn.linear_model import SGDClassifier\n",
    "from sklearn.pipeline import Pipeline\n",
    "from sklearn.model_selection import GridSearchCV"
   ]
  },
  {
   "cell_type": "code",
   "execution_count": 244,
   "metadata": {
    "ExecuteTime": {
     "end_time": "2019-11-03T12:51:03.881552Z",
     "start_time": "2019-11-03T12:50:08.588761Z"
    },
    "hidden": true
   },
   "outputs": [
    {
     "name": "stderr",
     "output_type": "stream",
     "text": [
      "/home/daven/.pyenv/versions/tc36/lib/python3.6/site-packages/sklearn/model_selection/_split.py:1978: FutureWarning:\n",
      "\n",
      "The default value of cv will change from 3 to 5 in version 0.22. Specify it explicitly to silence this warning.\n",
      "\n"
     ]
    },
    {
     "data": {
      "text/plain": [
       "GridSearchCV(cv='warn', error_score='raise-deprecating',\n",
       "             estimator=Pipeline(memory=None,\n",
       "                                steps=[('sklearnPCA',\n",
       "                                        PCA(copy=True, iterated_power='auto',\n",
       "                                            n_components=None,\n",
       "                                            random_state=None,\n",
       "                                            svd_solver='auto', tol=0.0,\n",
       "                                            whiten=False)),\n",
       "                                       ('clf',\n",
       "                                        GaussianNB(priors=None,\n",
       "                                                   var_smoothing=1e-09))],\n",
       "                                verbose=False),\n",
       "             iid='warn', n_jobs=None,\n",
       "             param_grid={'sklearnPCA__n_components': [40, 50, 60, 70, 80, 90]},\n",
       "             pre_dispatch='2*n_jobs', refit=True, return_train_score=False,\n",
       "             scoring=None, verbose=0)"
      ]
     },
     "execution_count": 244,
     "metadata": {},
     "output_type": "execute_result"
    }
   ],
   "source": [
    "'''models'''\n",
    "sklearnPCA = PCA()\n",
    "myPCA = myPca()\n",
    "nb=NaiveBayes()\n",
    "# pipe = Pipeline(steps=[('sklearnPCA', sklearnPCA ),('myPCA', myPCA ), ('clf', nb)])\n",
    "pipe = Pipeline(steps=[('myPCA', myPCA ), ('clf', nb)])\n",
    "# pipe = Pipeline(steps=[('sklearnPCA', sklearnPCA ), ('clf', nb)])\n",
    "grid_n_components=list(range(40,100,10))\n",
    "\n",
    "params_grid2 = {  # NaiveBayes不需要参数\n",
    "'sklearnPCA__n_components': grid_n_components}\n",
    "\n",
    "params_grid3 = {  # NaiveBayes不需要参数\n",
    "'myPCA__n_components': grid_n_components}\n",
    "\n",
    "\n",
    "from sklearn.naive_bayes import GaussianNB\n",
    "gnb=GaussianNB()\n",
    "pipe = Pipeline(steps=[('sklearnPCA', sklearnPCA ), ('clf', gnb)])\n",
    "params_grid = {  # NaiveBayes不需要参数\n",
    "'sklearnPCA__n_components': grid_n_components\n",
    "# 'clf': gnb,\n",
    "}\n",
    "\n",
    "'''\n",
    "# this is also ok  名字一样可以写在一起\n",
    "params_grid = {\n",
    "'svm__C': [1, 10, 100, 1000],\n",
    "'svm__kernel': ['linear', 'rbf'],\n",
    "'svm__gamma': [0.001, 0.0001],\n",
    "'preprocessing':[myPCA, sklearnPCA],\n",
    "'preprocessing__n_components': grid_n_components,\n",
    "}\n",
    "'''\n",
    "\n",
    "# grid = GridSearchCV(pipe, param_grid = params_grid)\n",
    "grid = GridSearchCV(estimator = pipe, param_grid = params_grid)\n",
    "grid.fit(Xtrain, Ytrain)\n",
    "# grid.grid_scores_, grid.best_params_, grid.best_score_\n",
    "\n"
   ]
  },
  {
   "cell_type": "markdown",
   "metadata": {
    "heading_collapsed": true
   },
   "source": [
    "## results using sklearnPCA and sklearnGussianNB"
   ]
  },
  {
   "cell_type": "code",
   "execution_count": 248,
   "metadata": {
    "ExecuteTime": {
     "end_time": "2019-11-03T12:53:52.400470Z",
     "start_time": "2019-11-03T12:53:52.391712Z"
    },
    "hidden": true
   },
   "outputs": [
    {
     "data": {
      "text/plain": [
       "array([0, 6, 1, 0, 1, 5, 7, 1, 1, 0, 4, 5, 7, 8, 1, 1, 9, 0, 2, 1, 1, 4,\n",
       "       6, 5, 8, 0, 0, 8, 1, 1, 2, 8, 9, 5, 5, 4, 5, 5, 0, 1, 3, 1, 4, 7,\n",
       "       0, 8, 2, 4, 0, 6, 8, 8, 2, 5, 9, 1, 7, 1, 7, 3, 3, 9, 2, 7, 5, 1,\n",
       "       5, 0, 8, 1, 9, 9, 9, 0, 5, 3, 2, 8, 2, 1, 6, 7, 8, 0, 2, 0, 5, 1,\n",
       "       2, 5, 2, 6, 6, 6, 1, 2, 0, 3, 1])"
      ]
     },
     "execution_count": 248,
     "metadata": {},
     "output_type": "execute_result"
    }
   ],
   "source": [
    "Ytrain[1:100]"
   ]
  },
  {
   "cell_type": "markdown",
   "metadata": {},
   "source": [
    "## debug class of pipeline"
   ]
  },
  {
   "cell_type": "code",
   "execution_count": 35,
   "metadata": {
    "ExecuteTime": {
     "end_time": "2019-11-05T19:03:02.511107Z",
     "start_time": "2019-11-05T19:03:02.502954Z"
    }
   },
   "outputs": [],
   "source": [
    "from sklearn import svm\n",
    "from sklearn.datasets import samples_generator\n",
    "from sklearn.feature_selection import SelectKBest\n",
    "from sklearn.feature_selection import f_regression\n",
    "from sklearn.pipeline import Pipeline\n",
    "from sklearn.base import TransformerMixin, BaseEstimator\n",
    "import pandas as pd"
   ]
  },
  {
   "cell_type": "code",
   "execution_count": 36,
   "metadata": {
    "ExecuteTime": {
     "end_time": "2019-11-05T19:03:03.167054Z",
     "start_time": "2019-11-05T19:03:03.161506Z"
    }
   },
   "outputs": [],
   "source": [
    "\n",
    "class Debug(BaseEstimator, TransformerMixin):\n",
    "\n",
    "    def transform(self, X):\n",
    "        print('*****************  come into debug class *************')\n",
    "        print(pd.DataFrame(X).head())\n",
    "        print(X.shape)\n",
    "        return X\n",
    "\n",
    "    def fit(self, X, y=None, **fit_params):\n",
    "        return self\n",
    "         \n",
    "# X, y = samples_generator.make_classification(n_informative=5, n_redundant=0, random_state=42)\n",
    "# anova_filter = SelectKBest(f_regression, k=5)\n",
    "# clf = svm.SVC(kernel='linear')\n",
    "# anova_svm = Pipeline([('anova', anova_filter), ('dbg', Debug()), ('svc', clf)])\n",
    "# anova_svm.set_params(anova__k=10, svc__C=.1).fit(X, y)\n",
    "\n",
    "# prediction = anova_svm.predict(X)"
   ]
  },
  {
   "cell_type": "code",
   "execution_count": 42,
   "metadata": {
    "ExecuteTime": {
     "end_time": "2019-11-05T19:11:24.446272Z",
     "start_time": "2019-11-05T19:10:42.488237Z"
    }
   },
   "outputs": [
    {
     "name": "stderr",
     "output_type": "stream",
     "text": [
      "/home/daven/.pyenv/versions/tc36/lib/python3.6/site-packages/sklearn/model_selection/_split.py:1978: FutureWarning: The default value of cv will change from 3 to 5 in version 0.22. Specify it explicitly to silence this warning.\n",
      "  warnings.warn(CV_WARNING, FutureWarning)\n"
     ]
    },
    {
     "name": "stdout",
     "output_type": "stream",
     "text": [
      "check cov_mat's shape is (784, 784)  ==(748,748)? \n",
      "in myPca,n_components is 40\n",
      "*****************  come into debug class *************\n",
      "           0           1            2           3           4           5   \\\n",
      "0 -188.818578  339.746670    30.586564  268.696292  100.898459  278.933963   \n",
      "1  737.303812 -156.572130  -278.240206  -14.428011 -247.612914 -280.028862   \n",
      "2  913.686539  359.876936    62.988404 -196.335051 -523.751968  271.601510   \n",
      "3 -232.836859 -137.687121 -1160.820520 -152.090428  -76.355874  525.958512   \n",
      "4 -258.993694  712.279541  -560.131505  408.579792  774.254106 -220.378463   \n",
      "\n",
      "           6           7           8           9   ...          30  \\\n",
      "0 -279.381041  192.566079  -83.783863   28.475530  ...  162.065174   \n",
      "1  242.788399   94.842648 -361.124912  194.673650  ...    3.531113   \n",
      "2  182.573664 -256.455323  -59.566200  128.046333  ...  155.595363   \n",
      "3  -73.893504  300.442177  182.873531  354.676828  ...  303.783462   \n",
      "4   53.762049 -174.172449  137.361402 -331.674229  ... -193.757778   \n",
      "\n",
      "           31          32          33          34          35          36  \\\n",
      "0 -120.769634  133.202395  346.858239 -173.515086  219.430310 -217.583008   \n",
      "1  101.559428  115.194011  -20.766364  -35.186180 -300.014377   57.565373   \n",
      "2  -63.368628 -110.162695   51.059098  -68.658151   30.614888   89.717266   \n",
      "3   59.161427 -247.523224   81.412487   78.872332  -26.135726 -105.121782   \n",
      "4   76.030943   -9.444577   77.258060  -91.873914 -192.308847  -56.123500   \n",
      "\n",
      "           37          38          39  \n",
      "0  107.499322   77.632737  109.923871  \n",
      "1   32.497379  104.677385   70.178700  \n",
      "2   66.807560  137.962586   81.747510  \n",
      "3  119.753951  -77.166981   48.644279  \n",
      "4  294.379852   70.215527  -61.893096  \n",
      "\n",
      "[5 rows x 40 columns]\n",
      "(37329, 40)\n",
      "*****************  come into debug class *************\n",
      "           0           1           2           3           4           5   \\\n",
      "0 -293.596202  -88.047150  556.476891  309.051269 -335.506296 -803.106906   \n",
      "1 -730.254870   90.118980  458.015371  430.608151 -528.834976  360.815182   \n",
      "2   26.666685 -732.276953  474.484614  742.322939 -152.308954 -766.685031   \n",
      "3  184.134432  454.102155   17.222717  273.205350  518.463296 -661.115313   \n",
      "4 -176.711737 -154.419806  279.896308 -801.827338  243.439116  546.384208   \n",
      "\n",
      "           6           7           8           9   ...          30  \\\n",
      "0  305.466366  130.561295   23.838785    5.809339  ... -346.261072   \n",
      "1 -322.649003  493.498684   90.887410   44.116274  ...  243.620209   \n",
      "2  683.985610  260.001741  -26.070155  328.347445  ... -103.129766   \n",
      "3  402.260054   47.543570 -535.265971   87.799138  ...  107.858999   \n",
      "4  -12.276833 -128.774080 -362.789272  174.842386  ... -108.130982   \n",
      "\n",
      "           31          32          33          34          35          36  \\\n",
      "0  221.869527   19.811471  107.407393   58.523412  -91.729567  261.027557   \n",
      "1 -122.421565  -75.220077  125.298260 -444.430004   90.715229   96.038697   \n",
      "2   66.462583  -36.228505  104.524098  127.889874   82.952172  -35.047649   \n",
      "3 -110.946051   49.871684   58.488705    4.568788 -165.878963 -232.534497   \n",
      "4  101.321635 -277.080537  126.338108  -91.588023 -140.380563  -57.702560   \n",
      "\n",
      "           37          38          39  \n",
      "0  355.076875  277.771044  131.390938  \n",
      "1  162.955243 -126.050808  -88.726729  \n",
      "2 -123.710543  -17.768005  -29.683243  \n",
      "3   73.747283   89.407678  -15.879954  \n",
      "4 -284.064840   21.797232  -21.422813  \n",
      "\n",
      "[5 rows x 40 columns]\n",
      "(18671, 40)\n",
      "check cov_mat's shape is (784, 784)  ==(748,748)? \n",
      "in myPca,n_components is 40\n",
      "*****************  come into debug class *************\n",
      "           0           1           2           3           4           5   \\\n",
      "0 -294.000264   74.108047  587.708436  273.044437  295.163978 -815.508978   \n",
      "1 -723.416518 -109.629741  445.379016  380.004935  592.997762  346.359508   \n",
      "2   17.008762  716.964007  538.660658  724.278300  127.257926 -784.747816   \n",
      "3  179.219143 -452.615565   36.959116  288.888815 -556.771662 -618.323728   \n",
      "4 -173.046472  152.829958  242.711759 -794.298791 -224.885457  575.445968   \n",
      "\n",
      "           6           7           8           9   ...          30  \\\n",
      "0  289.591309  123.839100   -7.668872  -60.597654  ... -367.250801   \n",
      "1 -311.536148  467.422986 -143.740690   92.335096  ...  265.566816   \n",
      "2  668.552432  245.953067   50.309137  302.978142  ... -150.585356   \n",
      "3  353.731278   95.296393  545.617746  110.077344  ...  134.190201   \n",
      "4  -25.218043 -115.099916  369.575175  240.369988  ...  -91.028487   \n",
      "\n",
      "           31          32          33          34          35          36  \\\n",
      "0 -122.021156   46.472184   80.633937   10.246847  114.654436 -271.711463   \n",
      "1   37.645632    8.203914   76.800755 -478.270744    0.849620  -54.998845   \n",
      "2  -44.012162   62.972808  113.328310   76.844937 -106.520225   31.403459   \n",
      "3   86.455318  -56.006864   99.086869   48.319171  155.514890  231.764738   \n",
      "4  -64.633517  283.585771   76.484167  -94.063578  140.517736   74.387629   \n",
      "\n",
      "           37          38         39  \n",
      "0  341.840450  291.793813 -36.123679  \n",
      "1  146.533764 -166.067722  94.777037  \n",
      "2 -117.938653  -10.795030   5.924180  \n",
      "3   67.753613  104.638304  21.796954  \n",
      "4 -296.338330   26.913508  63.615054  \n",
      "\n",
      "[5 rows x 40 columns]\n",
      "(37333, 40)\n",
      "*****************  come into debug class *************\n",
      "           0           1            2           3           4           5   \\\n",
      "0 -188.787736 -343.707680    16.426667  270.577820  -57.102880  300.036588   \n",
      "1  734.759844  168.456392  -270.348982  -13.520976  218.369265 -289.324592   \n",
      "2  919.334278 -353.540966    39.375774 -214.753008  516.778006  230.574607   \n",
      "3 -240.854027  169.159877 -1173.766803 -121.070900  113.859617  489.225284   \n",
      "4 -270.443067 -697.279472  -561.545914  460.336334 -767.291622 -179.416482   \n",
      "\n",
      "           6           7           8           9   ...          30  \\\n",
      "0 -277.766469  193.982396   68.889433  106.219226  ...  157.650932   \n",
      "1  225.603143  122.097184  363.572785  196.555721  ...    7.868691   \n",
      "2  201.647707 -259.007837   92.868107   71.080876  ...  184.274749   \n",
      "3  -32.271838  258.897872 -194.948472  319.151901  ...  270.378555   \n",
      "4   44.866985 -174.229642  -96.114595 -316.341136  ... -178.746032   \n",
      "\n",
      "           31          32          33          34          35          36  \\\n",
      "0   76.713274 -175.931293  332.902649 -270.289786 -164.988263  204.271175   \n",
      "1  -80.665459 -106.646043  -11.766050   69.022936  303.359843  -53.265615   \n",
      "2   26.972029  102.173066   42.827054  -97.537482   -3.911665  -81.886965   \n",
      "3 -152.696133  221.187149  104.380048   39.647937   11.982356   73.255455   \n",
      "4    4.715352   29.833043   62.907697  -32.987074  228.887195   79.914608   \n",
      "\n",
      "           37          38          39  \n",
      "0   67.494107   88.796400 -105.001240  \n",
      "1   30.070859  121.105800  -11.767068  \n",
      "2   47.964701  137.489023  -59.647011  \n",
      "3  161.199185  -28.887989   -1.597287  \n",
      "4  273.275283   42.674585   84.618395  \n",
      "\n",
      "[5 rows x 40 columns]\n",
      "(18667, 40)\n",
      "check cov_mat's shape is (784, 784)  ==(748,748)? \n",
      "in myPca,n_components is 40\n",
      "*****************  come into debug class *************\n",
      "           0           1           2           3           4           5   \\\n",
      "0  296.573207  107.760285 -565.637335  304.215805  328.729632 -807.690810   \n",
      "1  714.832115  -70.083644 -435.255014  427.044023  558.300291  362.036728   \n",
      "2  -18.880448  750.144165 -484.855910  730.449392  130.478621 -766.225295   \n",
      "3 -167.510571 -453.390073  -65.784535  265.572436 -547.309387 -630.118558   \n",
      "4  170.957107  155.850128 -261.612985 -800.465149 -188.987132  559.421645   \n",
      "\n",
      "           6           7           8           9   ...          30  \\\n",
      "0  286.128544  130.657128   -6.926622   80.215812  ... -336.635528   \n",
      "1 -319.281861  484.728004  120.064461  -62.595153  ...  241.326437   \n",
      "2  682.079133  254.015597  -70.274286 -279.077109  ... -117.314990   \n",
      "3  387.319204   60.461924 -546.724413 -104.384245  ...  115.860705   \n",
      "4  -35.117406 -124.135722 -352.723132 -215.669669  ...  -97.281339   \n",
      "\n",
      "           31          32          33          34          35          36  \\\n",
      "0  231.379600    2.598455  -64.796117   41.350466  -78.205332 -261.819521   \n",
      "1 -120.931528   46.537002 -100.383003 -466.477343   45.312601 -117.947501   \n",
      "2   47.618938   53.863377 -111.173553   73.908414   90.066742   49.147020   \n",
      "3 -119.313836  -28.694435  -93.009259   10.722323 -158.563892  202.394662   \n",
      "4  110.651434  265.850386  -56.472757 -132.516462 -174.576985   56.898460   \n",
      "\n",
      "           37          38          39  \n",
      "0  236.044464  404.309094 -104.369311  \n",
      "1  211.624650 -145.314217  -20.554030  \n",
      "2 -121.729313  -42.266523    9.239932  \n",
      "3   34.400168   71.936617  -82.726069  \n",
      "4 -299.357969  -71.746027  -20.233746  \n",
      "\n",
      "[5 rows x 40 columns]\n",
      "(37338, 40)\n",
      "*****************  come into debug class *************\n",
      "           0           1           2           3           4           5   \\\n",
      "0 -838.504047 -446.372169 -203.039299 -259.465610   22.894567 -626.101982   \n",
      "1 -289.973364  474.498357 -188.067511 -165.746558  309.321770   61.565247   \n",
      "2 -261.313776  344.993400 -613.361783 -159.105862  -49.853490  -48.250117   \n",
      "3  403.739987  477.129173   49.320547  -80.878105 -308.785052 -447.917430   \n",
      "4  151.400896   55.054409 -809.346382 -911.483681 -163.064097 -427.143091   \n",
      "\n",
      "           6           7           8           9   ...          30  \\\n",
      "0 -476.172709  -50.248008  203.324872   24.953299  ...  -72.898335   \n",
      "1 -213.810668 -188.490594  155.307920  178.893761  ... -180.976655   \n",
      "2 -426.590147 -134.822663  -11.281533 -428.480510  ... -137.284846   \n",
      "3  -88.164689 -334.310551 -139.037400  362.057984  ... -252.922015   \n",
      "4 -397.403592  362.280321 -302.526000  171.399696  ...   60.398772   \n",
      "\n",
      "           31          32          33          34          35          36  \\\n",
      "0  -16.343828  -46.212423  -63.748674  -38.879871  -89.631302  -55.388664   \n",
      "1  -88.790598  -12.596404   33.175732   18.121160   27.596123  294.835241   \n",
      "2 -172.761473   81.342905  -73.058414  134.310706  100.138726  206.139571   \n",
      "3  307.680795   60.608793  -98.158852  235.316461  -75.782601  137.004755   \n",
      "4 -484.974751 -108.691597 -208.273782  206.033596  145.837514   69.148729   \n",
      "\n",
      "           37          38          39  \n",
      "0   39.216811   72.988242   92.726525  \n",
      "1  266.380568  -95.337049  -91.445476  \n",
      "2  -63.013164 -251.344085 -105.519769  \n",
      "3 -248.185036  418.871660  200.721507  \n",
      "4    9.085242  -12.467781  331.155571  \n",
      "\n",
      "[5 rows x 40 columns]\n",
      "(18662, 40)\n"
     ]
    },
    {
     "name": "stdout",
     "output_type": "stream",
     "text": [
      "check cov_mat's shape is (784, 784)  ==(748,748)? \n",
      "in myPca,n_components is 50\n",
      "*****************  come into debug class *************\n",
      "           0           1            2           3           4           5   \\\n",
      "0 -188.818578  339.746670    30.586564  268.696292  100.898459  278.933963   \n",
      "1  737.303812 -156.572130  -278.240206  -14.428011 -247.612914 -280.028862   \n",
      "2  913.686539  359.876936    62.988404 -196.335051 -523.751968  271.601510   \n",
      "3 -232.836859 -137.687121 -1160.820520 -152.090428  -76.355874  525.958512   \n",
      "4 -258.993694  712.279541  -560.131505  408.579792  774.254106 -220.378463   \n",
      "\n",
      "           6           7           8           9   ...          40  \\\n",
      "0 -279.381041  192.566079  -83.783863   28.475530  ...  150.080187   \n",
      "1  242.788399   94.842648 -361.124912  194.673650  ...   29.362043   \n",
      "2  182.573664 -256.455323  -59.566200  128.046333  ... -104.442086   \n",
      "3  -73.893504  300.442177  182.873531  354.676828  ...  415.833648   \n",
      "4   53.762049 -174.172449  137.361402 -331.674229  ...   22.728895   \n",
      "\n",
      "           41          42          43          44          45          46  \\\n",
      "0   -9.740311  119.550856 -223.043298  154.895483  -90.947375 -160.620148   \n",
      "1   15.689147  -20.375036   89.034312   98.514618   39.612334   26.909676   \n",
      "2 -105.479621   70.626202  -91.626989   26.157339  -16.354376  -69.894481   \n",
      "3 -158.619427  178.968276   92.882917 -135.021945  102.227741   -0.666524   \n",
      "4  -50.117763 -183.189039  -86.582239 -222.738095  186.408768  133.824456   \n",
      "\n",
      "           47          48         49  \n",
      "0 -169.025554  -39.840967 -26.777877  \n",
      "1 -109.140297 -114.442791  91.476636  \n",
      "2   23.145170   77.165420 -44.645265  \n",
      "3  -26.251293  -87.526381 -28.222439  \n",
      "4  244.180330  -52.326765 -23.157700  \n",
      "\n",
      "[5 rows x 50 columns]\n",
      "(37329, 50)\n",
      "*****************  come into debug class *************\n",
      "           0           1           2           3           4           5   \\\n",
      "0 -293.596202  -88.047150  556.476891  309.051269 -335.506296 -803.106906   \n",
      "1 -730.254870   90.118980  458.015371  430.608151 -528.834976  360.815182   \n",
      "2   26.666685 -732.276953  474.484614  742.322939 -152.308954 -766.685031   \n",
      "3  184.134432  454.102155   17.222717  273.205350  518.463296 -661.115313   \n",
      "4 -176.711737 -154.419806  279.896308 -801.827338  243.439116  546.384208   \n",
      "\n",
      "           6           7           8           9   ...          40  \\\n",
      "0  305.466366  130.561295   23.838785    5.809339  ...  125.558508   \n",
      "1 -322.649003  493.498684   90.887410   44.116274  ...   61.537107   \n",
      "2  683.985610  260.001741  -26.070155  328.347445  ...  -76.819986   \n",
      "3  402.260054   47.543570 -535.265971   87.799138  ...   27.494219   \n",
      "4  -12.276833 -128.774080 -362.789272  174.842386  ...   65.624761   \n",
      "\n",
      "           41          42          43          44          45          46  \\\n",
      "0  -57.383955  -69.211127 -325.167207 -313.742061  101.660481   36.044883   \n",
      "1  203.252026  -49.053207  216.516150   15.583337   32.819260   96.185859   \n",
      "2  -26.535725  -43.476980 -122.081645   93.254184  -42.417193 -112.599687   \n",
      "3  159.868667  113.691724   70.164946  246.944266  -44.934464    9.310235   \n",
      "4  -36.247050  137.131501  -98.840686  182.576859  -10.424761  -75.995832   \n",
      "\n",
      "           47          48          49  \n",
      "0 -303.538754  -82.892415  -45.641717  \n",
      "1  132.325304   31.487838   63.502589  \n",
      "2   83.398316  148.535765   47.552780  \n",
      "3 -108.806717  137.815149   76.237764  \n",
      "4 -148.648104   70.541497 -145.005400  \n",
      "\n",
      "[5 rows x 50 columns]\n",
      "(18671, 50)\n",
      "check cov_mat's shape is (784, 784)  ==(748,748)? \n",
      "in myPca,n_components is 50\n",
      "*****************  come into debug class *************\n",
      "           0           1           2           3           4           5   \\\n",
      "0 -294.000264   74.108047  587.708436  273.044437  295.163978 -815.508978   \n",
      "1 -723.416518 -109.629741  445.379016  380.004935  592.997762  346.359508   \n",
      "2   17.008762  716.964007  538.660658  724.278300  127.257926 -784.747816   \n",
      "3  179.219143 -452.615565   36.959116  288.888815 -556.771662 -618.323728   \n",
      "4 -173.046472  152.829958  242.711759 -794.298791 -224.885457  575.445968   \n",
      "\n",
      "           6           7           8           9   ...          40  \\\n",
      "0  289.591309  123.839100   -7.668872  -60.597654  ... -100.062989   \n",
      "1 -311.536148  467.422986 -143.740690   92.335096  ...  -76.892688   \n",
      "2  668.552432  245.953067   50.309137  302.978142  ...   76.677194   \n",
      "3  353.731278   95.296393  545.617746  110.077344  ...  -74.352654   \n",
      "4  -25.218043 -115.099916  369.575175  240.369988  ...  -49.251919   \n",
      "\n",
      "           41          42          43          44          45          46  \\\n",
      "0  -38.840221   57.687908  364.784294 -293.029783 -117.185640    8.205956   \n",
      "1  193.531781   43.660128 -193.977307   27.874188  -60.304716 -111.154835   \n",
      "2   -9.921479   61.503939   95.555284   93.031294   57.194276  115.920944   \n",
      "3  115.630461 -112.027993 -106.322222  221.607588   16.269443   24.678727   \n",
      "4  -84.048728 -109.825238   51.727102  168.570468    0.159878  114.259709   \n",
      "\n",
      "           47          48         49  \n",
      "0  293.132499   42.288237   8.371530  \n",
      "1 -135.851752  -10.603976 -27.633575  \n",
      "2 -110.446901 -134.392620  89.374890  \n",
      "3  121.070246 -158.402755 -15.297508  \n",
      "4  136.112225 -109.340015   7.898873  \n",
      "\n",
      "[5 rows x 50 columns]\n",
      "(37333, 50)\n",
      "*****************  come into debug class *************\n",
      "           0           1            2           3           4           5   \\\n",
      "0 -188.787736 -343.707680    16.426667  270.577820  -57.102880  300.036588   \n",
      "1  734.759844  168.456392  -270.348982  -13.520976  218.369265 -289.324592   \n",
      "2  919.334278 -353.540966    39.375774 -214.753008  516.778006  230.574607   \n",
      "3 -240.854027  169.159877 -1173.766803 -121.070900  113.859617  489.225284   \n",
      "4 -270.443067 -697.279472  -561.545914  460.336334 -767.291622 -179.416482   \n",
      "\n",
      "           6           7           8           9   ...          40  \\\n",
      "0 -277.766469  193.982396   68.889433  106.219226  ... -143.522034   \n",
      "1  225.603143  122.097184  363.572785  196.555721  ...  -15.009055   \n",
      "2  201.647707 -259.007837   92.868107   71.080876  ...  138.047288   \n",
      "3  -32.271838  258.897872 -194.948472  319.151901  ... -373.690735   \n",
      "4   44.866985 -174.229642  -96.114595 -316.341136  ...   21.395069   \n",
      "\n",
      "           41          42          43          44          45          46  \\\n",
      "0  -86.324686  -68.880281  190.867155  139.441498   86.002740  222.833535   \n",
      "1    7.510358   11.241702 -102.630871   79.619510  -51.247056   -9.070512   \n",
      "2  -70.198040  -72.362970  112.396065   28.132761   23.105041   56.284006   \n",
      "3 -280.895953 -153.549740  -77.977454 -140.605713  -79.205293   18.774467   \n",
      "4    5.272299  156.177745  162.009456 -195.365892 -177.826461 -173.429352   \n",
      "\n",
      "           47          48          49  \n",
      "0  162.621257    0.577389   63.066126  \n",
      "1  142.796198  108.570403  -70.059051  \n",
      "2  -38.694834  -72.698498   27.050912  \n",
      "3   13.509456  110.801975   25.595425  \n",
      "4 -226.096859   77.334723 -145.151314  \n",
      "\n",
      "[5 rows x 50 columns]\n",
      "(18667, 50)\n",
      "check cov_mat's shape is (784, 784)  ==(748,748)? \n",
      "in myPca,n_components is 50\n",
      "*****************  come into debug class *************\n",
      "           0           1           2           3           4           5   \\\n",
      "0  296.573207  107.760285 -565.637335  304.215805  328.729632 -807.690810   \n",
      "1  714.832115  -70.083644 -435.255014  427.044023  558.300291  362.036728   \n",
      "2  -18.880448  750.144165 -484.855910  730.449392  130.478621 -766.225295   \n",
      "3 -167.510571 -453.390073  -65.784535  265.572436 -547.309387 -630.118558   \n",
      "4  170.957107  155.850128 -261.612985 -800.465149 -188.987132  559.421645   \n",
      "\n",
      "           6           7           8           9   ...          40  \\\n",
      "0  286.128544  130.657128   -6.926622   80.215812  ... -112.447763   \n",
      "1 -319.281861  484.728004  120.064461  -62.595153  ...  -53.879057   \n",
      "2  682.079133  254.015597  -70.274286 -279.077109  ...   73.388548   \n",
      "3  387.319204   60.461924 -546.724413 -104.384245  ...  -47.931654   \n",
      "4  -35.117406 -124.135722 -352.723132 -215.669669  ...  -53.575254   \n",
      "\n",
      "           41          42          43          44          45          46  \\\n",
      "0  -16.499143  -87.754323  332.780801 -353.620895  -56.562423  -45.750772   \n",
      "1  156.407782   -1.490783 -204.184680   42.072852  -42.554883  146.198684   \n",
      "2  -19.908819  -73.839582  113.665266   97.411406   20.474672  -76.644311   \n",
      "3  143.000625  117.025699  -69.953476  224.900663 -113.016080  -68.772352   \n",
      "4  -78.374149   71.415361   86.961681  151.039472  -73.243762 -143.314236   \n",
      "\n",
      "           47          48          49  \n",
      "0  181.290175  219.749847   48.228010  \n",
      "1  -77.222327  -81.616298  -20.714863  \n",
      "2  -15.584106 -171.186624 -120.783594  \n",
      "3  176.373762  -65.743465  -44.169260  \n",
      "4  133.454280   46.684432   96.652965  \n",
      "\n",
      "[5 rows x 50 columns]\n",
      "(37338, 50)\n",
      "*****************  come into debug class *************\n",
      "           0           1           2           3           4           5   \\\n",
      "0 -838.504047 -446.372169 -203.039299 -259.465610   22.894567 -626.101982   \n",
      "1 -289.973364  474.498357 -188.067511 -165.746558  309.321770   61.565247   \n",
      "2 -261.313776  344.993400 -613.361783 -159.105862  -49.853490  -48.250117   \n",
      "3  403.739987  477.129173   49.320547  -80.878105 -308.785052 -447.917430   \n",
      "4  151.400896   55.054409 -809.346382 -911.483681 -163.064097 -427.143091   \n",
      "\n",
      "           6           7           8           9   ...          40  \\\n",
      "0 -476.172709  -50.248008  203.324872   24.953299  ...  116.991662   \n",
      "1 -213.810668 -188.490594  155.307920  178.893761  ... -257.261428   \n",
      "2 -426.590147 -134.822663  -11.281533 -428.480510  ...   93.965809   \n",
      "3  -88.164689 -334.310551 -139.037400  362.057984  ... -160.218314   \n",
      "4 -397.403592  362.280321 -302.526000  171.399696  ...  -56.066916   \n",
      "\n",
      "           41          42          43          44          45          46  \\\n",
      "0   26.124707 -146.228836  -13.775701  -77.271556   93.781463 -118.111356   \n",
      "1 -207.420312  -34.309120 -149.692633   59.230434 -101.005415   19.359122   \n",
      "2  -33.007358 -289.954439   22.689687 -203.026194  -43.663299  -41.170714   \n",
      "3  -23.596352 -135.705122 -190.591857    3.391345   -7.493810  118.230382   \n",
      "4 -160.235957 -160.762002 -141.538830  106.737825  -55.530284  -99.311939   \n",
      "\n",
      "          47          48          49  \n",
      "0 -21.051329 -101.889517  -50.541051  \n",
      "1  88.502492  -70.040576   -2.738697  \n",
      "2 -77.308767 -137.970027   64.517372  \n",
      "3 -25.166434  -55.644063  136.620673  \n",
      "4  82.342765  -25.918260   88.943732  \n",
      "\n",
      "[5 rows x 50 columns]\n",
      "(18662, 50)\n"
     ]
    },
    {
     "name": "stdout",
     "output_type": "stream",
     "text": [
      "check cov_mat's shape is (784, 784)  ==(748,748)? \n",
      "in myPca,n_components is 60\n",
      "*****************  come into debug class *************\n",
      "           0           1            2           3           4           5   \\\n",
      "0 -188.818578  339.746670    30.586564  268.696292  100.898459  278.933963   \n",
      "1  737.303812 -156.572130  -278.240206  -14.428011 -247.612914 -280.028862   \n",
      "2  913.686539  359.876936    62.988404 -196.335051 -523.751968  271.601510   \n",
      "3 -232.836859 -137.687121 -1160.820520 -152.090428  -76.355874  525.958512   \n",
      "4 -258.993694  712.279541  -560.131505  408.579792  774.254106 -220.378463   \n",
      "\n",
      "           6           7           8           9   ...          50  \\\n",
      "0 -279.381041  192.566079  -83.783863   28.475530  ...  -56.861688   \n",
      "1  242.788399   94.842648 -361.124912  194.673650  ...   33.606798   \n",
      "2  182.573664 -256.455323  -59.566200  128.046333  ...  -22.299024   \n",
      "3  -73.893504  300.442177  182.873531  354.676828  ...  -32.751900   \n",
      "4   53.762049 -174.172449  137.361402 -331.674229  ...  137.313121   \n",
      "\n",
      "           51          52         53         54          55          56  \\\n",
      "0  -29.470652 -157.904209  41.613073 -79.570500 -145.440208    0.630058   \n",
      "1  101.171766 -124.106712  -6.531170  50.466409   11.939123   90.875791   \n",
      "2   86.202412  -88.047675 -15.764171 -65.181217  -12.333671  -15.220747   \n",
      "3   -3.619035 -125.677373 -29.720437 -46.527336   33.008862   39.006109   \n",
      "4  101.854684  -76.561012 -11.929772 -30.303167 -107.784087 -216.235464   \n",
      "\n",
      "           57          58         59  \n",
      "0  -67.552903   43.650969 -84.441402  \n",
      "1   19.118153   65.202286  76.768962  \n",
      "2   17.266955  169.017273 -67.488087  \n",
      "3  112.748840  -69.366589  43.673015  \n",
      "4   49.086579  -33.907677  81.510347  \n",
      "\n",
      "[5 rows x 60 columns]\n",
      "(37329, 60)\n",
      "*****************  come into debug class *************\n",
      "           0           1           2           3           4           5   \\\n",
      "0 -293.596202  -88.047150  556.476891  309.051269 -335.506296 -803.106906   \n",
      "1 -730.254870   90.118980  458.015371  430.608151 -528.834976  360.815182   \n",
      "2   26.666685 -732.276953  474.484614  742.322939 -152.308954 -766.685031   \n",
      "3  184.134432  454.102155   17.222717  273.205350  518.463296 -661.115313   \n",
      "4 -176.711737 -154.419806  279.896308 -801.827338  243.439116  546.384208   \n",
      "\n",
      "           6           7           8           9   ...         50          51  \\\n",
      "0  305.466366  130.561295   23.838785    5.809339  ... -12.723183  155.841151   \n",
      "1 -322.649003  493.498684   90.887410   44.116274  ...  13.361938  -10.239700   \n",
      "2  683.985610  260.001741  -26.070155  328.347445  ... -91.488037    9.981559   \n",
      "3  402.260054   47.543570 -535.265971   87.799138  ...  -6.308647   65.033175   \n",
      "4  -12.276833 -128.774080 -362.789272  174.842386  ...  69.903560  -15.874942   \n",
      "\n",
      "          52          53          54          55          56          57  \\\n",
      "0 -32.279966   36.624376 -203.961575  -25.911519 -194.297161    4.740059   \n",
      "1  84.076296   22.243979   29.700678   73.055218  -46.820806  103.556944   \n",
      "2 -30.734093   54.593201  133.284748  -38.255252   88.206061    5.518304   \n",
      "3  76.906743 -147.569130   16.631356 -114.234381  122.441131   15.925003   \n",
      "4  28.555077   92.415976  182.790953   63.042860  -64.128934   61.015621   \n",
      "\n",
      "          58          59  \n",
      "0  -5.214069    3.260340  \n",
      "1  13.366024  168.343291  \n",
      "2  -9.707177  138.844332  \n",
      "3  67.668314   -2.639745  \n",
      "4 -63.334989  -18.551168  \n",
      "\n",
      "[5 rows x 60 columns]\n",
      "(18671, 60)\n",
      "check cov_mat's shape is (784, 784)  ==(748,748)? \n",
      "in myPca,n_components is 60\n",
      "*****************  come into debug class *************\n",
      "           0           1           2           3           4           5   \\\n",
      "0 -294.000264   74.108047  587.708436  273.044437  295.163978 -815.508978   \n",
      "1 -723.416518 -109.629741  445.379016  380.004935  592.997762  346.359508   \n",
      "2   17.008762  716.964007  538.660658  724.278300  127.257926 -784.747816   \n",
      "3  179.219143 -452.615565   36.959116  288.888815 -556.771662 -618.323728   \n",
      "4 -173.046472  152.829958  242.711759 -794.298791 -224.885457  575.445968   \n",
      "\n",
      "           6           7           8           9   ...          50  \\\n",
      "0  289.591309  123.839100   -7.668872  -60.597654  ...  133.703246   \n",
      "1 -311.536148  467.422986 -143.740690   92.335096  ...  -61.756959   \n",
      "2  668.552432  245.953067   50.309137  302.978142  ...  -70.760164   \n",
      "3  353.731278   95.296393  545.617746  110.077344  ...  -44.708887   \n",
      "4  -25.218043 -115.099916  369.575175  240.369988  ...  126.788562   \n",
      "\n",
      "           51          52          53          54          55          56  \\\n",
      "0 -126.228856  -39.985024   25.245194 -224.462669  123.841737  123.672487   \n",
      "1    0.285615  -82.836849  -32.594701   31.011942   49.894242  -26.470273   \n",
      "2  -53.262217   48.192027 -102.079645   94.875540  -92.792417  -28.099225   \n",
      "3  -93.526649 -133.147994   71.469794   87.775023 -160.916804    3.423489   \n",
      "4  112.355238   39.024546 -127.189558  130.043176   99.503412    7.235164   \n",
      "\n",
      "           57         58          59  \n",
      "0   -3.280386 -47.709214   -0.728875  \n",
      "1  131.217057  -9.110148  167.844468  \n",
      "2   40.495516  15.802359  124.193412  \n",
      "3   31.736391  64.939684  -56.081739  \n",
      "4   56.578935 -96.757574   -2.847037  \n",
      "\n",
      "[5 rows x 60 columns]\n",
      "(37333, 60)\n",
      "*****************  come into debug class *************\n",
      "           0           1            2           3           4           5   \\\n",
      "0 -188.787736 -343.707680    16.426667  270.577820  -57.102880  300.036588   \n",
      "1  734.759844  168.456392  -270.348982  -13.520976  218.369265 -289.324592   \n",
      "2  919.334278 -353.540966    39.375774 -214.753008  516.778006  230.574607   \n",
      "3 -240.854027  169.159877 -1173.766803 -121.070900  113.859617  489.225284   \n",
      "4 -270.443067 -697.279472  -561.545914  460.336334 -767.291622 -179.416482   \n",
      "\n",
      "           6           7           8           9   ...         50          51  \\\n",
      "0 -277.766469  193.982396   68.889433  106.219226  ...  -4.275394  -17.171424   \n",
      "1  225.603143  122.097184  363.572785  196.555721  ... -37.055178 -143.034432   \n",
      "2  201.647707 -259.007837   92.868107   71.080876  ...  50.100673  -96.003902   \n",
      "3  -32.271838  258.897872 -194.948472  319.151901  ...   2.710680  -10.518306   \n",
      "4   44.866985 -174.229642  -96.114595 -316.341136  ...  98.115427  -59.543710   \n",
      "\n",
      "           52         53          54          55          56         57  \\\n",
      "0  147.033513   4.659387 -122.369346 -107.433622   94.183228 -40.102210   \n",
      "1   85.821648 -24.946531   48.136526  -52.971484  -73.985150  62.051793   \n",
      "2   64.898151  56.569403  -75.002945    2.514402   12.684750  74.775105   \n",
      "3   99.780067  89.667903  -17.779474   -6.559409  -65.308772  41.273456   \n",
      "4   80.710143  43.240110  -42.602436   56.789478  214.979447  55.108433   \n",
      "\n",
      "           58         59  \n",
      "0   53.373983 -87.918785  \n",
      "1   42.648822  45.387692  \n",
      "2  129.052245 -80.332651  \n",
      "3 -130.230168  66.320488  \n",
      "4  -56.266314  97.456347  \n",
      "\n",
      "[5 rows x 60 columns]\n",
      "(18667, 60)\n",
      "check cov_mat's shape is (784, 784)  ==(748,748)? \n",
      "in myPca,n_components is 60\n",
      "*****************  come into debug class *************\n",
      "           0           1           2           3           4           5   \\\n",
      "0  296.573207  107.760285 -565.637335  304.215805  328.729632 -807.690810   \n",
      "1  714.832115  -70.083644 -435.255014  427.044023  558.300291  362.036728   \n",
      "2  -18.880448  750.144165 -484.855910  730.449392  130.478621 -766.225295   \n",
      "3 -167.510571 -453.390073  -65.784535  265.572436 -547.309387 -630.118558   \n",
      "4  170.957107  155.850128 -261.612985 -800.465149 -188.987132  559.421645   \n",
      "\n",
      "           6           7           8           9   ...          50  \\\n",
      "0  286.128544  130.657128   -6.926622   80.215812  ...  -30.402243   \n",
      "1 -319.281861  484.728004  120.064461  -62.595153  ...   42.555073   \n",
      "2  682.079133  254.015597  -70.274286 -279.077109  ...  -27.587932   \n",
      "3  387.319204   60.461924 -546.724413 -104.384245  ...   58.124174   \n",
      "4  -35.117406 -124.135722 -352.723132 -215.669669  ... -103.948798   \n",
      "\n",
      "           51         52          53          54          55          56  \\\n",
      "0  169.895447 -15.167181  -44.305775 -191.178324   98.687165  199.082503   \n",
      "1  -17.157078 -92.615365   32.200195   46.350677   48.118770   10.369887   \n",
      "2   -6.073599  37.444374   97.372297   81.366086 -107.064152  -77.945733   \n",
      "3   75.631695 -91.356755 -116.203500   65.951033 -136.693412  -80.664603   \n",
      "4  -73.565068 -18.132309  146.647046  149.286612   58.069687   42.851992   \n",
      "\n",
      "           57          58          59  \n",
      "0  -14.282568  -37.961549  -30.417714  \n",
      "1 -126.222079  114.763413 -120.321390  \n",
      "2  -22.440651   59.358766 -117.978736  \n",
      "3   33.443388   50.046310   83.352159  \n",
      "4  -92.096069  -18.772772  -10.729977  \n",
      "\n",
      "[5 rows x 60 columns]\n",
      "(37338, 60)\n",
      "*****************  come into debug class *************\n",
      "           0           1           2           3           4           5   \\\n",
      "0 -838.504047 -446.372169 -203.039299 -259.465610   22.894567 -626.101982   \n",
      "1 -289.973364  474.498357 -188.067511 -165.746558  309.321770   61.565247   \n",
      "2 -261.313776  344.993400 -613.361783 -159.105862  -49.853490  -48.250117   \n",
      "3  403.739987  477.129173   49.320547  -80.878105 -308.785052 -447.917430   \n",
      "4  151.400896   55.054409 -809.346382 -911.483681 -163.064097 -427.143091   \n",
      "\n",
      "           6           7           8           9   ...         50          51  \\\n",
      "0 -476.172709  -50.248008  203.324872   24.953299  ... -85.355689   22.206806   \n",
      "1 -213.810668 -188.490594  155.307920  178.893761  ... -85.149502  -37.703538   \n",
      "2 -426.590147 -134.822663  -11.281533 -428.480510  ...  52.414124  -54.021328   \n",
      "3  -88.164689 -334.310551 -139.037400  362.057984  ...  46.783052 -216.010358   \n",
      "4 -397.403592  362.280321 -302.526000  171.399696  ...  15.546741 -126.242994   \n",
      "\n",
      "          52          53          54          55          56         57  \\\n",
      "0   9.294043  -39.298553   75.702337  -45.463634   17.864856 -63.744687   \n",
      "1  18.886475  143.252911 -106.041709  235.641985   59.947633  65.413538   \n",
      "2  42.967616  112.842696  -26.957729  -19.565309   -7.759976  32.700725   \n",
      "3  73.140839  149.065358 -293.632138   60.945325  -81.583028  50.390299   \n",
      "4   5.830259   95.831581   81.537013   46.985587  194.297749 -69.265991   \n",
      "\n",
      "           58          59  \n",
      "0  106.829540    1.146986  \n",
      "1   31.804127    0.269876  \n",
      "2  -84.031184   43.485816  \n",
      "3 -212.469351 -253.216512  \n",
      "4  247.164198 -112.130326  \n",
      "\n",
      "[5 rows x 60 columns]\n",
      "(18662, 60)\n"
     ]
    },
    {
     "name": "stdout",
     "output_type": "stream",
     "text": [
      "check cov_mat's shape is (784, 784)  ==(748,748)? \n",
      "in myPca,n_components is 70\n",
      "*****************  come into debug class *************\n",
      "           0           1            2           3           4           5   \\\n",
      "0 -188.818578  339.746670    30.586564  268.696292  100.898459  278.933963   \n",
      "1  737.303812 -156.572130  -278.240206  -14.428011 -247.612914 -280.028862   \n",
      "2  913.686539  359.876936    62.988404 -196.335051 -523.751968  271.601510   \n",
      "3 -232.836859 -137.687121 -1160.820520 -152.090428  -76.355874  525.958512   \n",
      "4 -258.993694  712.279541  -560.131505  408.579792  774.254106 -220.378463   \n",
      "\n",
      "           6           7           8           9   ...          60  \\\n",
      "0 -279.381041  192.566079  -83.783863   28.475530  ...   17.550057   \n",
      "1  242.788399   94.842648 -361.124912  194.673650  ...   -4.449712   \n",
      "2  182.573664 -256.455323  -59.566200  128.046333  ...  -68.730725   \n",
      "3  -73.893504  300.442177  182.873531  354.676828  ...  107.899813   \n",
      "4   53.762049 -174.172449  137.361402 -331.674229  ...    1.688491   \n",
      "\n",
      "           61          62         63          64         65          66  \\\n",
      "0 -124.249332 -177.403433  73.975777   17.335887  52.360871   53.893538   \n",
      "1 -185.317274  -70.362830   9.655060  123.855603   1.940906  140.902091   \n",
      "2  -41.346276   75.837049  60.961844   32.254299  34.341746  -41.323452   \n",
      "3    1.403324  154.767352 -87.217353    6.793644  33.614731   25.269302   \n",
      "4   85.267670  -44.110999  41.656567  -34.067596  43.568903  -84.648737   \n",
      "\n",
      "           67         68          69  \n",
      "0 -157.257428 -83.188975   29.080752  \n",
      "1  -23.762314 -30.651241  -41.425584  \n",
      "2  -29.678892 -59.069694  -17.167260  \n",
      "3  113.997208 -44.746958 -120.802503  \n",
      "4   42.899982 -44.648617   -6.547527  \n",
      "\n",
      "[5 rows x 70 columns]\n",
      "(37329, 70)\n",
      "*****************  come into debug class *************\n",
      "           0           1           2           3           4           5   \\\n",
      "0 -293.596202  -88.047150  556.476891  309.051269 -335.506296 -803.106906   \n",
      "1 -730.254870   90.118980  458.015371  430.608151 -528.834976  360.815182   \n",
      "2   26.666685 -732.276953  474.484614  742.322939 -152.308954 -766.685031   \n",
      "3  184.134432  454.102155   17.222717  273.205350  518.463296 -661.115313   \n",
      "4 -176.711737 -154.419806  279.896308 -801.827338  243.439116  546.384208   \n",
      "\n",
      "           6           7           8           9   ...          60         61  \\\n",
      "0  305.466366  130.561295   23.838785    5.809339  ...  137.449021  73.459169   \n",
      "1 -322.649003  493.498684   90.887410   44.116274  ... -120.362664 -73.085449   \n",
      "2  683.985610  260.001741  -26.070155  328.347445  ...  -40.721267  14.649757   \n",
      "3  402.260054   47.543570 -535.265971   87.799138  ...   36.242051 -14.599065   \n",
      "4  -12.276833 -128.774080 -362.789272  174.842386  ...  -11.168374 -96.427410   \n",
      "\n",
      "           62          63          64          65          66          67  \\\n",
      "0  -19.639645  -42.403547  -40.555549  127.524532  214.694591  -20.104209   \n",
      "1  105.845933  -58.604389   13.155481  -24.733129  -47.225621  110.258319   \n",
      "2  -14.999165   -0.754368   14.909664  -23.666546   36.379267 -105.983900   \n",
      "3  -64.997440 -128.002238   16.797874   60.602788  119.288414   48.076581   \n",
      "4  -25.466216  113.870964  153.548199   31.296123   55.756566 -171.842973   \n",
      "\n",
      "           68          69  \n",
      "0   93.591239 -122.960958  \n",
      "1  -71.812244    4.367696  \n",
      "2   35.404152  -35.275583  \n",
      "3   44.948793   41.802839  \n",
      "4 -173.761165  -50.021967  \n",
      "\n",
      "[5 rows x 70 columns]\n",
      "(18671, 70)\n",
      "check cov_mat's shape is (784, 784)  ==(748,748)? \n",
      "in myPca,n_components is 70\n",
      "*****************  come into debug class *************\n",
      "           0           1           2           3           4           5   \\\n",
      "0 -294.000264   74.108047  587.708436  273.044437  295.163978 -815.508978   \n",
      "1 -723.416518 -109.629741  445.379016  380.004935  592.997762  346.359508   \n",
      "2   17.008762  716.964007  538.660658  724.278300  127.257926 -784.747816   \n",
      "3  179.219143 -452.615565   36.959116  288.888815 -556.771662 -618.323728   \n",
      "4 -173.046472  152.829958  242.711759 -794.298791 -224.885457  575.445968   \n",
      "\n",
      "           6           7           8           9   ...          60  \\\n",
      "0  289.591309  123.839100   -7.668872  -60.597654  ...  169.494345   \n",
      "1 -311.536148  467.422986 -143.740690   92.335096  ... -132.003316   \n",
      "2  668.552432  245.953067   50.309137  302.978142  ...  -31.915355   \n",
      "3  353.731278   95.296393  545.617746  110.077344  ...   69.803453   \n",
      "4  -25.218043 -115.099916  369.575175  240.369988  ...  -26.845062   \n",
      "\n",
      "           61         62          63          64         65          66  \\\n",
      "0  -38.020707 -15.190227  -14.002565  -41.057664 -32.207771  259.941776   \n",
      "1   59.369557  64.439162  -87.407097   -6.057003 -15.919930  -45.975107   \n",
      "2  -24.824991 -16.593652  -10.357682   12.271520  40.745159   49.660766   \n",
      "3    3.229249 -79.786223 -114.601710   27.705383 -34.898055  127.905366   \n",
      "4  114.655316  29.625667   86.816805  175.682503 -10.833767   19.790967   \n",
      "\n",
      "           67          68          69  \n",
      "0  -31.892797   89.695162   83.079315  \n",
      "1   79.261964 -101.093475  102.561555  \n",
      "2  -87.613675   77.318477  -19.970299  \n",
      "3   44.022266    7.760141   51.587780  \n",
      "4 -181.804666  -83.261840  -52.773424  \n",
      "\n",
      "[5 rows x 70 columns]\n",
      "(37333, 70)\n",
      "*****************  come into debug class *************\n",
      "           0           1            2           3           4           5   \\\n",
      "0 -188.787736 -343.707680    16.426667  270.577820  -57.102880  300.036588   \n",
      "1  734.759844  168.456392  -270.348982  -13.520976  218.369265 -289.324592   \n",
      "2  919.334278 -353.540966    39.375774 -214.753008  516.778006  230.574607   \n",
      "3 -240.854027  169.159877 -1173.766803 -121.070900  113.859617  489.225284   \n",
      "4 -270.443067 -697.279472  -561.545914  460.336334 -767.291622 -179.416482   \n",
      "\n",
      "           6           7           8           9   ...         60          61  \\\n",
      "0 -277.766469  193.982396   68.889433  106.219226  ...  41.579029  113.132903   \n",
      "1  225.603143  122.097184  363.572785  196.555721  ...   2.160266  197.666608   \n",
      "2  201.647707 -259.007837   92.868107   71.080876  ... -60.264299   56.109983   \n",
      "3  -32.271838  258.897872 -194.948472  319.151901  ...  97.139332    6.374374   \n",
      "4   44.866985 -174.229642  -96.114595 -316.341136  ...  18.875081  -94.669799   \n",
      "\n",
      "           62          63          64         65          66          67  \\\n",
      "0 -137.816572  101.043596   65.605200  -6.660852   51.042319 -213.396381   \n",
      "1  -67.419146  -12.183516  150.909967  35.536630  107.555680  -18.086816   \n",
      "2   97.087297   45.136917   27.620627 -44.174339  -25.591947  -42.495740   \n",
      "3  144.403330  -97.825619  -15.125989 -58.779318   54.839667  131.331907   \n",
      "4  -38.578452   40.943491  -39.188602 -43.609768  -78.799574   17.504424   \n",
      "\n",
      "          68         69  \n",
      "0 -74.201003  52.128601  \n",
      "1  -8.289383 -13.795633  \n",
      "2 -27.445377  24.945385  \n",
      "3  20.056832 -68.437207  \n",
      "4 -60.819042  58.295839  \n",
      "\n",
      "[5 rows x 70 columns]\n",
      "(18667, 70)\n",
      "check cov_mat's shape is (784, 784)  ==(748,748)? \n",
      "in myPca,n_components is 70\n",
      "*****************  come into debug class *************\n",
      "           0           1           2           3           4           5   \\\n",
      "0  296.573207  107.760285 -565.637335  304.215805  328.729632 -807.690810   \n",
      "1  714.832115  -70.083644 -435.255014  427.044023  558.300291  362.036728   \n",
      "2  -18.880448  750.144165 -484.855910  730.449392  130.478621 -766.225295   \n",
      "3 -167.510571 -453.390073  -65.784535  265.572436 -547.309387 -630.118558   \n",
      "4  170.957107  155.850128 -261.612985 -800.465149 -188.987132  559.421645   \n",
      "\n",
      "           6           7           8           9   ...          60  \\\n",
      "0  286.128544  130.657128   -6.926622   80.215812  ...   90.923785   \n",
      "1 -319.281861  484.728004  120.064461  -62.595153  ... -109.827872   \n",
      "2  682.079133  254.015597  -70.274286 -279.077109  ...   18.191325   \n",
      "3  387.319204   60.461924 -546.724413 -104.384245  ...   32.612743   \n",
      "4  -35.117406 -124.135722 -352.723132 -215.669669  ...  -67.549537   \n",
      "\n",
      "           61         62          63          64         65          66  \\\n",
      "0  126.276576 -40.504106    9.605241   89.704032 -66.386889  187.386637   \n",
      "1  -77.934670  82.354003  -81.529390   -2.236708  16.734442  -17.965934   \n",
      "2  -39.242166 -12.603770    3.737849   -5.813438 -50.613995   40.059946   \n",
      "3   34.223171 -77.123015  -93.265585    5.033602 -29.779121  141.582863   \n",
      "4   37.761122   4.271806  129.242215 -144.794871   5.000615  106.251698   \n",
      "\n",
      "           67          68          69  \n",
      "0  -34.637375  149.751141   16.192100  \n",
      "1 -124.373707 -107.407499  -25.089785  \n",
      "2  108.307077   54.718444    6.362306  \n",
      "3  -72.590338   28.890385   58.543783  \n",
      "4  149.040782  -97.101701 -156.941591  \n",
      "\n",
      "[5 rows x 70 columns]\n",
      "(37338, 70)\n",
      "*****************  come into debug class *************\n",
      "           0           1           2           3           4           5   \\\n",
      "0 -838.504047 -446.372169 -203.039299 -259.465610   22.894567 -626.101982   \n",
      "1 -289.973364  474.498357 -188.067511 -165.746558  309.321770   61.565247   \n",
      "2 -261.313776  344.993400 -613.361783 -159.105862  -49.853490  -48.250117   \n",
      "3  403.739987  477.129173   49.320547  -80.878105 -308.785052 -447.917430   \n",
      "4  151.400896   55.054409 -809.346382 -911.483681 -163.064097 -427.143091   \n",
      "\n",
      "           6           7           8           9   ...          60  \\\n",
      "0 -476.172709  -50.248008  203.324872   24.953299  ...   22.899545   \n",
      "1 -213.810668 -188.490594  155.307920  178.893761  ...   43.314721   \n",
      "2 -426.590147 -134.822663  -11.281533 -428.480510  ...  -47.440084   \n",
      "3  -88.164689 -334.310551 -139.037400  362.057984  ...   12.840806   \n",
      "4 -397.403592  362.280321 -302.526000  171.399696  ... -130.825254   \n",
      "\n",
      "           61          62          63          64          65          66  \\\n",
      "0    4.069637    6.428632  -73.153806  -68.238021 -108.865549   43.466690   \n",
      "1  206.897916   98.523403 -147.711616   -1.539350 -131.675088  -61.382264   \n",
      "2  -42.821372  -45.481106  -76.922449  -80.661135   93.427903  -55.260646   \n",
      "3  -10.512536 -117.422057  228.444331  206.086970 -166.838930  112.445885   \n",
      "4 -228.959943  -19.426290 -236.330379  138.236827 -210.384604   31.641783   \n",
      "\n",
      "           67         68          69  \n",
      "0  -13.055721  62.356421   48.499123  \n",
      "1  169.075779 -90.300069  -88.909448  \n",
      "2 -138.580897 -91.694682    2.119277  \n",
      "3  -64.797828  56.242062   76.253629  \n",
      "4    5.247656 -51.982400 -379.370154  \n",
      "\n",
      "[5 rows x 70 columns]\n",
      "(18662, 70)\n"
     ]
    },
    {
     "name": "stdout",
     "output_type": "stream",
     "text": [
      "check cov_mat's shape is (784, 784)  ==(748,748)? \n",
      "in myPca,n_components is 80\n",
      "*****************  come into debug class *************\n",
      "           0           1            2           3           4           5   \\\n",
      "0 -188.818578  339.746670    30.586564  268.696292  100.898459  278.933963   \n",
      "1  737.303812 -156.572130  -278.240206  -14.428011 -247.612914 -280.028862   \n",
      "2  913.686539  359.876936    62.988404 -196.335051 -523.751968  271.601510   \n",
      "3 -232.836859 -137.687121 -1160.820520 -152.090428  -76.355874  525.958512   \n",
      "4 -258.993694  712.279541  -560.131505  408.579792  774.254106 -220.378463   \n",
      "\n",
      "           6           7           8           9   ...          70         71  \\\n",
      "0 -279.381041  192.566079  -83.783863   28.475530  ...  123.110106 -68.653970   \n",
      "1  242.788399   94.842648 -361.124912  194.673650  ...   23.909545 -28.817531   \n",
      "2  182.573664 -256.455323  -59.566200  128.046333  ...   34.506101  82.772586   \n",
      "3  -73.893504  300.442177  182.873531  354.676828  ... -103.486785  86.352406   \n",
      "4   53.762049 -174.172449  137.361402 -331.674229  ...   35.092431 -35.080830   \n",
      "\n",
      "           72          73          74          75          76         77  \\\n",
      "0  122.187563 -142.583368  139.257646 -105.841001 -157.747404  93.708098   \n",
      "1   -5.534821    3.449978  -17.219787  -10.479872   80.656166  86.517866   \n",
      "2   36.250141   26.499104  -55.780303   40.456912  -23.126890  70.822812   \n",
      "3    5.959366  -98.975071  -46.984757 -134.005019   74.661520 -40.149958   \n",
      "4   33.432124  114.665087 -123.325491   -2.298694  -48.117464  26.118597   \n",
      "\n",
      "           78         79  \n",
      "0 -105.385731  37.229331  \n",
      "1   92.068857  89.285483  \n",
      "2  -16.748803 -61.055918  \n",
      "3  -45.273171 -79.948492  \n",
      "4  -38.993147 -26.840237  \n",
      "\n",
      "[5 rows x 80 columns]\n",
      "(37329, 80)\n",
      "*****************  come into debug class *************\n",
      "           0           1           2           3           4           5   \\\n",
      "0 -293.596202  -88.047150  556.476891  309.051269 -335.506296 -803.106906   \n",
      "1 -730.254870   90.118980  458.015371  430.608151 -528.834976  360.815182   \n",
      "2   26.666685 -732.276953  474.484614  742.322939 -152.308954 -766.685031   \n",
      "3  184.134432  454.102155   17.222717  273.205350  518.463296 -661.115313   \n",
      "4 -176.711737 -154.419806  279.896308 -801.827338  243.439116  546.384208   \n",
      "\n",
      "           6           7           8           9   ...          70         71  \\\n",
      "0  305.466366  130.561295   23.838785    5.809339  ...  108.103144  22.361936   \n",
      "1 -322.649003  493.498684   90.887410   44.116274  ...  118.643317 -63.034266   \n",
      "2  683.985610  260.001741  -26.070155  328.347445  ...  -14.775889  55.789385   \n",
      "3  402.260054   47.543570 -535.265971   87.799138  ...   20.800171  46.407806   \n",
      "4  -12.276833 -128.774080 -362.789272  174.842386  ...   -8.154228  50.548037   \n",
      "\n",
      "           72          73         74          75         76         77  \\\n",
      "0 -214.682486 -155.857704 -14.930934  -89.096994 -11.180744  63.031003   \n",
      "1  -92.251556 -102.406193 -64.503661  -86.521585 -99.706712 -19.024585   \n",
      "2   63.351687   11.761814  24.859115   49.052260   4.348436  40.771124   \n",
      "3  -72.789188   95.245086   3.249846  -73.579083  15.020502  13.843311   \n",
      "4   36.271876  260.612919 -39.680440 -113.523722 -98.188803  31.511819   \n",
      "\n",
      "          78          79  \n",
      "0 -64.571879  109.748399  \n",
      "1  65.563820   70.287651  \n",
      "2  56.227658  -21.626815  \n",
      "3  58.103529  102.685663  \n",
      "4  27.154370   32.138087  \n",
      "\n",
      "[5 rows x 80 columns]\n",
      "(18671, 80)\n",
      "check cov_mat's shape is (784, 784)  ==(748,748)? \n",
      "in myPca,n_components is 80\n",
      "*****************  come into debug class *************\n",
      "           0           1           2           3           4           5   \\\n",
      "0 -294.000264   74.108047  587.708436  273.044437  295.163978 -815.508978   \n",
      "1 -723.416518 -109.629741  445.379016  380.004935  592.997762  346.359508   \n",
      "2   17.008762  716.964007  538.660658  724.278300  127.257926 -784.747816   \n",
      "3  179.219143 -452.615565   36.959116  288.888815 -556.771662 -618.323728   \n",
      "4 -173.046472  152.829958  242.711759 -794.298791 -224.885457  575.445968   \n",
      "\n",
      "           6           7           8           9   ...          70  \\\n",
      "0  289.591309  123.839100   -7.668872  -60.597654  ...  -87.459629   \n",
      "1 -311.536148  467.422986 -143.740690   92.335096  ...  -58.463024   \n",
      "2  668.552432  245.953067   50.309137  302.978142  ...   -0.374363   \n",
      "3  353.731278   95.296393  545.617746  110.077344  ...   48.111018   \n",
      "4  -25.218043 -115.099916  369.575175  240.369988  ... -130.728022   \n",
      "\n",
      "           71          72          73         74         75          76  \\\n",
      "0 -122.854047  136.537473  171.268578   7.811248 -89.109429   66.958769   \n",
      "1   11.056337   92.731176  133.749099 -20.701091 -64.935337  133.641364   \n",
      "2    1.043105  -81.019244  -21.441966  23.487605  50.436462  -24.589301   \n",
      "3  -80.395179   49.092154 -102.480636  23.724866 -68.594434   36.813011   \n",
      "4  -12.552185  -78.587215 -260.801868 -68.514613 -80.986816  129.223402   \n",
      "\n",
      "          77         78          79  \n",
      "0  79.476088 -49.077038 -193.688767  \n",
      "1 -31.673185  45.167095   24.205128  \n",
      "2  31.563324  72.220771   46.486397  \n",
      "3  28.070718  65.404252    6.445572  \n",
      "4  39.646052  27.865532  -26.512136  \n",
      "\n",
      "[5 rows x 80 columns]\n",
      "(37333, 80)\n",
      "*****************  come into debug class *************\n",
      "           0           1            2           3           4           5   \\\n",
      "0 -188.787736 -343.707680    16.426667  270.577820  -57.102880  300.036588   \n",
      "1  734.759844  168.456392  -270.348982  -13.520976  218.369265 -289.324592   \n",
      "2  919.334278 -353.540966    39.375774 -214.753008  516.778006  230.574607   \n",
      "3 -240.854027  169.159877 -1173.766803 -121.070900  113.859617  489.225284   \n",
      "4 -270.443067 -697.279472  -561.545914  460.336334 -767.291622 -179.416482   \n",
      "\n",
      "           6           7           8           9   ...         70          71  \\\n",
      "0 -277.766469  193.982396   68.889433  106.219226  ... -48.885612  148.910859   \n",
      "1  225.603143  122.097184  363.572785  196.555721  ... -47.708216   34.556020   \n",
      "2  201.647707 -259.007837   92.868107   71.080876  ... -33.575125  -37.163709   \n",
      "3  -32.271838  258.897872 -194.948472  319.151901  ... -59.679672  -50.192023   \n",
      "4   44.866985 -174.229642  -96.114595 -316.341136  ... -31.666299   59.150389   \n",
      "\n",
      "           72          73          74          75          76         77  \\\n",
      "0  -50.515191  133.241517  134.704317   63.496123  182.931176  54.523825   \n",
      "1   26.062963   -0.555966   -5.212358  -15.909794  -54.716196  91.947349   \n",
      "2  -81.251865   -4.928035  -75.015622   52.342240   11.589742  49.676887   \n",
      "3 -117.847533   89.774701   39.007018 -147.260402   -8.491620  24.425308   \n",
      "4  -10.460283  -79.777756 -159.534993  -16.589554   41.636462  20.074392   \n",
      "\n",
      "           78          79  \n",
      "0 -167.684039   -5.381167  \n",
      "1  105.732237    4.634805  \n",
      "2    5.943682  121.962565  \n",
      "3   -0.068993    9.492794  \n",
      "4  -30.627586  111.037275  \n",
      "\n",
      "[5 rows x 80 columns]\n",
      "(18667, 80)\n",
      "check cov_mat's shape is (784, 784)  ==(748,748)? \n",
      "in myPca,n_components is 80\n",
      "*****************  come into debug class *************\n",
      "           0           1           2           3           4           5   \\\n",
      "0  296.573207  107.760285 -565.637335  304.215805  328.729632 -807.690810   \n",
      "1  714.832115  -70.083644 -435.255014  427.044023  558.300291  362.036728   \n",
      "2  -18.880448  750.144165 -484.855910  730.449392  130.478621 -766.225295   \n",
      "3 -167.510571 -453.390073  -65.784535  265.572436 -547.309387 -630.118558   \n",
      "4  170.957107  155.850128 -261.612985 -800.465149 -188.987132  559.421645   \n",
      "\n",
      "           6           7           8           9   ...          70         71  \\\n",
      "0  286.128544  130.657128   -6.926622   80.215812  ...  144.182644 -32.606579   \n",
      "1 -319.281861  484.728004  120.064461  -62.595153  ...   96.269165  28.104653   \n",
      "2  682.079133  254.015597  -70.274286 -279.077109  ...   -1.029055 -50.702570   \n",
      "3  387.319204   60.461924 -546.724413 -104.384245  ...   10.001899 -24.277107   \n",
      "4  -35.117406 -124.135722 -352.723132 -215.669669  ...   23.272236 -57.956193   \n",
      "\n",
      "           72          73         74         75          76         77  \\\n",
      "0  231.064723 -117.060998  16.540296 -75.549669   63.560156  65.094408   \n",
      "1  118.278373 -117.922216 -12.104256 -17.805326  131.501261 -22.753958   \n",
      "2  -77.287021    1.947861  16.344271  49.279487  -26.111206  22.150700   \n",
      "3   73.019774  124.670897  50.969070 -61.483304   29.200184  28.998678   \n",
      "4  -93.648794  248.393747   3.002022 -28.551289  154.177626  67.118398   \n",
      "\n",
      "          78          79  \n",
      "0  39.550531  149.322266  \n",
      "1 -58.494731   28.854358  \n",
      "2 -75.000249  -47.582808  \n",
      "3 -84.991207   85.365520  \n",
      "4 -29.945506   41.681893  \n",
      "\n",
      "[5 rows x 80 columns]\n",
      "(37338, 80)\n",
      "*****************  come into debug class *************\n",
      "           0           1           2           3           4           5   \\\n",
      "0 -838.504047 -446.372169 -203.039299 -259.465610   22.894567 -626.101982   \n",
      "1 -289.973364  474.498357 -188.067511 -165.746558  309.321770   61.565247   \n",
      "2 -261.313776  344.993400 -613.361783 -159.105862  -49.853490  -48.250117   \n",
      "3  403.739987  477.129173   49.320547  -80.878105 -308.785052 -447.917430   \n",
      "4  151.400896   55.054409 -809.346382 -911.483681 -163.064097 -427.143091   \n",
      "\n",
      "           6           7           8           9   ...          70  \\\n",
      "0 -476.172709  -50.248008  203.324872   24.953299  ... -104.326605   \n",
      "1 -213.810668 -188.490594  155.307920  178.893761  ...   20.590330   \n",
      "2 -426.590147 -134.822663  -11.281533 -428.480510  ...  -40.080940   \n",
      "3  -88.164689 -334.310551 -139.037400  362.057984  ...  -88.694557   \n",
      "4 -397.403592  362.280321 -302.526000  171.399696  ...   70.295971   \n",
      "\n",
      "           71         72         73          74          75          76  \\\n",
      "0   19.918937 -39.281616  55.213672  -12.967277  -45.859147    4.730899   \n",
      "1  121.609244 -26.146834  64.582453   42.768098   58.247349   96.410004   \n",
      "2  -62.060004  -1.019082 -36.372501   92.735583   67.417984  -23.301550   \n",
      "3  -16.780341  13.793349 -75.600512 -157.268088   55.040982   -3.963187   \n",
      "4  -93.945601 -31.668760  24.811365  -90.456128  123.256695  175.831560   \n",
      "\n",
      "           77         78          79  \n",
      "0    4.283124  50.130580  -22.872358  \n",
      "1   72.320581   4.700178  102.785407  \n",
      "2 -124.139520  -0.103735  -62.670680  \n",
      "3   18.921396 -70.687484   11.502296  \n",
      "4   16.077445  26.723380    0.824578  \n",
      "\n",
      "[5 rows x 80 columns]\n",
      "(18662, 80)\n"
     ]
    },
    {
     "name": "stdout",
     "output_type": "stream",
     "text": [
      "check cov_mat's shape is (784, 784)  ==(748,748)? \n",
      "in myPca,n_components is 90\n",
      "*****************  come into debug class *************\n",
      "           0           1            2           3           4           5   \\\n",
      "0 -188.818578  339.746670    30.586564  268.696292  100.898459  278.933963   \n",
      "1  737.303812 -156.572130  -278.240206  -14.428011 -247.612914 -280.028862   \n",
      "2  913.686539  359.876936    62.988404 -196.335051 -523.751968  271.601510   \n",
      "3 -232.836859 -137.687121 -1160.820520 -152.090428  -76.355874  525.958512   \n",
      "4 -258.993694  712.279541  -560.131505  408.579792  774.254106 -220.378463   \n",
      "\n",
      "           6           7           8           9   ...         80          81  \\\n",
      "0 -279.381041  192.566079  -83.783863   28.475530  ...  -5.615718  -98.450484   \n",
      "1  242.788399   94.842648 -361.124912  194.673650  ...  -1.182701  -18.581338   \n",
      "2  182.573664 -256.455323  -59.566200  128.046333  ... -88.124620   -7.406394   \n",
      "3  -73.893504  300.442177  182.873531  354.676828  ... -20.082117  132.212204   \n",
      "4   53.762049 -174.172449  137.361402 -331.674229  ... -85.576506  -32.509509   \n",
      "\n",
      "          82          83         84         85         86          87  \\\n",
      "0  15.079204  -65.170501  40.430127  46.031474  99.268730 -125.196675   \n",
      "1  -1.803480  -59.391591 -59.294065  36.246018  33.694753   70.489536   \n",
      "2 -96.266128  -21.986536 -81.893555  60.302444  46.381919   64.454321   \n",
      "3 -81.719215  -50.748696 -33.517334 -76.226263 -27.246355   23.047644   \n",
      "4  24.651298  124.511577 -39.432305  95.913918 -85.947792   32.340888   \n",
      "\n",
      "           88          89  \n",
      "0   -8.839455  -83.640307  \n",
      "1  107.467976 -100.622351  \n",
      "2   13.881263   24.678453  \n",
      "3   81.955022  -34.877866  \n",
      "4   15.426110   45.076158  \n",
      "\n",
      "[5 rows x 90 columns]\n",
      "(37329, 90)\n",
      "*****************  come into debug class *************\n",
      "           0           1           2           3           4           5   \\\n",
      "0 -293.596202  -88.047150  556.476891  309.051269 -335.506296 -803.106906   \n",
      "1 -730.254870   90.118980  458.015371  430.608151 -528.834976  360.815182   \n",
      "2   26.666685 -732.276953  474.484614  742.322939 -152.308954 -766.685031   \n",
      "3  184.134432  454.102155   17.222717  273.205350  518.463296 -661.115313   \n",
      "4 -176.711737 -154.419806  279.896308 -801.827338  243.439116  546.384208   \n",
      "\n",
      "           6           7           8           9   ...          80         81  \\\n",
      "0  305.466366  130.561295   23.838785    5.809339  ...  118.477328  52.141428   \n",
      "1 -322.649003  493.498684   90.887410   44.116274  ...  -59.958650  34.747734   \n",
      "2  683.985610  260.001741  -26.070155  328.347445  ...  -43.802734  46.080606   \n",
      "3  402.260054   47.543570 -535.265971   87.799138  ...   -8.260200  48.471034   \n",
      "4  -12.276833 -128.774080 -362.789272  174.842386  ...   13.761949  30.089750   \n",
      "\n",
      "           82          83         84          85          86         87  \\\n",
      "0   17.685489 -129.971071 -50.274078  -55.914839   38.400681 -40.877169   \n",
      "1   48.094198   50.378296 -29.538187   11.234196  169.744663  17.301303   \n",
      "2 -102.178391   68.647694  32.413464 -114.716717  -26.260592 -10.192655   \n",
      "3  -25.464870   51.789119  -2.623267    8.056477   -5.030165  19.381363   \n",
      "4    4.850775  -27.897374  65.788709  -17.734377   79.960347 -34.096335   \n",
      "\n",
      "           88         89  \n",
      "0   97.205776  51.133938  \n",
      "1   61.036816 -84.112360  \n",
      "2  -51.811469 -93.918007  \n",
      "3  116.088460 -95.087652  \n",
      "4  -44.946838 -68.705790  \n",
      "\n",
      "[5 rows x 90 columns]\n",
      "(18671, 90)\n",
      "check cov_mat's shape is (784, 784)  ==(748,748)? \n",
      "in myPca,n_components is 90\n",
      "*****************  come into debug class *************\n",
      "           0           1           2           3           4           5   \\\n",
      "0 -294.000264   74.108047  587.708436  273.044437  295.163978 -815.508978   \n",
      "1 -723.416518 -109.629741  445.379016  380.004935  592.997762  346.359508   \n",
      "2   17.008762  716.964007  538.660658  724.278300  127.257926 -784.747816   \n",
      "3  179.219143 -452.615565   36.959116  288.888815 -556.771662 -618.323728   \n",
      "4 -173.046472  152.829958  242.711759 -794.298791 -224.885457  575.445968   \n",
      "\n",
      "           6           7           8           9   ...         80         81  \\\n",
      "0  289.591309  123.839100   -7.668872  -60.597654  ...  32.138738  21.302931   \n",
      "1 -311.536148  467.422986 -143.740690   92.335096  ...  -0.473862  57.705785   \n",
      "2  668.552432  245.953067   50.309137  302.978142  ...   2.554554 -78.543168   \n",
      "3  353.731278   95.296393  545.617746  110.077344  ...  81.299016  20.498515   \n",
      "4  -25.218043 -115.099916  369.575175  240.369988  ...  41.336496  23.995163   \n",
      "\n",
      "           82          83         84         85          86         87  \\\n",
      "0  -41.254680 -125.644618  72.043807 -85.330098    2.505207  65.113183   \n",
      "1  -82.907684   61.095277  60.357466 -48.993390  162.434775  26.559885   \n",
      "2  -78.815449   26.721520  63.054868  72.411442  -21.947082  16.492054   \n",
      "3 -100.978507   35.761391   6.309871   3.948449    1.250958  16.787378   \n",
      "4  -29.397079  -28.967560 -16.353481  54.734844   83.653508  35.116506   \n",
      "\n",
      "           88          89  \n",
      "0  -68.999950   66.554718  \n",
      "1  -67.834961  -70.522863  \n",
      "2   81.872624 -105.348282  \n",
      "3 -135.117069  -68.407638  \n",
      "4   45.971210  -73.426456  \n",
      "\n",
      "[5 rows x 90 columns]\n",
      "(37333, 90)\n",
      "*****************  come into debug class *************\n",
      "           0           1            2           3           4           5   \\\n",
      "0 -188.787736 -343.707680    16.426667  270.577820  -57.102880  300.036588   \n",
      "1  734.759844  168.456392  -270.348982  -13.520976  218.369265 -289.324592   \n",
      "2  919.334278 -353.540966    39.375774 -214.753008  516.778006  230.574607   \n",
      "3 -240.854027  169.159877 -1173.766803 -121.070900  113.859617  489.225284   \n",
      "4 -270.443067 -697.279472  -561.545914  460.336334 -767.291622 -179.416482   \n",
      "\n",
      "           6           7           8           9   ...         80          81  \\\n",
      "0 -277.766469  193.982396   68.889433  106.219226  ...  88.670723   55.920463   \n",
      "1  225.603143  122.097184  363.572785  196.555721  ...  93.858689   55.030450   \n",
      "2  201.647707 -259.007837   92.868107   71.080876  ... -24.231581  -81.019608   \n",
      "3  -32.271838  258.897872 -194.948472  319.151901  ... -95.532563 -126.339109   \n",
      "4   44.866985 -174.229642  -96.114595 -316.341136  ... -26.076735   14.027226   \n",
      "\n",
      "          82          83         84          85         86          87  \\\n",
      "0  61.313796  -27.673085 -41.141605    0.171217  75.687195  102.321713   \n",
      "1 -17.290693  -60.100404  -0.883421  -89.638982  43.622637  -23.761204   \n",
      "2   5.346133  -28.175609 -35.791963 -100.129136  54.781280  -52.520913   \n",
      "3 -61.966072  -88.342657  49.803575   -2.966283 -20.584697   -2.516078   \n",
      "4  10.577119  118.610514 -54.232396  -35.798777 -70.419230  -57.259085   \n",
      "\n",
      "           88         89  \n",
      "0   24.410358 -87.491548  \n",
      "1 -126.140350 -90.786323  \n",
      "2  -25.208048  27.608975  \n",
      "3  -80.648326 -33.091059  \n",
      "4  -44.302846  32.746156  \n",
      "\n",
      "[5 rows x 90 columns]\n",
      "(18667, 90)\n",
      "check cov_mat's shape is (784, 784)  ==(748,748)? \n",
      "in myPca,n_components is 90\n",
      "*****************  come into debug class *************\n",
      "           0           1           2           3           4           5   \\\n",
      "0  296.573207  107.760285 -565.637335  304.215805  328.729632 -807.690810   \n",
      "1  714.832115  -70.083644 -435.255014  427.044023  558.300291  362.036728   \n",
      "2  -18.880448  750.144165 -484.855910  730.449392  130.478621 -766.225295   \n",
      "3 -167.510571 -453.390073  -65.784535  265.572436 -547.309387 -630.118558   \n",
      "4  170.957107  155.850128 -261.612985 -800.465149 -188.987132  559.421645   \n",
      "\n",
      "           6           7           8           9   ...          80  \\\n",
      "0  286.128544  130.657128   -6.926622   80.215812  ... -142.855472   \n",
      "1 -319.281861  484.728004  120.064461  -62.595153  ...   58.321318   \n",
      "2  682.079133  254.015597  -70.274286 -279.077109  ...    6.176893   \n",
      "3  387.319204   60.461924 -546.724413 -104.384245  ...   14.228806   \n",
      "4  -35.117406 -124.135722 -352.723132 -215.669669  ...  -19.972747   \n",
      "\n",
      "           81         82          83         84         85          86  \\\n",
      "0  -11.767328   6.892449  110.718329  59.594967 -62.831683  -65.276283   \n",
      "1  -17.792832  69.636301  -89.581485  11.253780  -1.554395 -152.592420   \n",
      "2  108.854359  61.024453  -58.416109  59.794935 -66.364062   38.451829   \n",
      "3   39.577319  62.819340  -41.632584 -20.001203   4.051685    4.811944   \n",
      "4  -21.732941  14.210279  -23.735600  71.721450  40.315263  -38.947289   \n",
      "\n",
      "          87          88          89  \n",
      "0  24.245012  -51.624350   89.941006  \n",
      "1 -18.267086  -91.723907  -21.667779  \n",
      "2  18.402893  -21.827975 -107.779576  \n",
      "3 -36.324106 -154.505914    2.553490  \n",
      "4  34.159549  -34.815954  -62.951943  \n",
      "\n",
      "[5 rows x 90 columns]\n",
      "(37338, 90)\n",
      "*****************  come into debug class *************\n",
      "           0           1           2           3           4           5   \\\n",
      "0 -838.504047 -446.372169 -203.039299 -259.465610   22.894567 -626.101982   \n",
      "1 -289.973364  474.498357 -188.067511 -165.746558  309.321770   61.565247   \n",
      "2 -261.313776  344.993400 -613.361783 -159.105862  -49.853490  -48.250117   \n",
      "3  403.739987  477.129173   49.320547  -80.878105 -308.785052 -447.917430   \n",
      "4  151.400896   55.054409 -809.346382 -911.483681 -163.064097 -427.143091   \n",
      "\n",
      "           6           7           8           9   ...          80  \\\n",
      "0 -476.172709  -50.248008  203.324872   24.953299  ...   68.254931   \n",
      "1 -213.810668 -188.490594  155.307920  178.893761  ...  -58.395852   \n",
      "2 -426.590147 -134.822663  -11.281533 -428.480510  ...  -10.993986   \n",
      "3  -88.164689 -334.310551 -139.037400  362.057984  ...   76.456351   \n",
      "4 -397.403592  362.280321 -302.526000  171.399696  ... -149.888641   \n",
      "\n",
      "           81          82          83         84          85          86  \\\n",
      "0  -23.316385   31.435724  -32.442497  14.880599  -30.214734   -4.103012   \n",
      "1  -29.037600    7.270348 -109.311659 -32.031919   -5.817544  146.382112   \n",
      "2  107.375189  -77.345911  -88.973731  27.078872  106.164310  -45.942691   \n",
      "3  -18.511183 -138.138044  143.220445  58.531827  135.520179   34.959048   \n",
      "4  146.175640  171.849821   72.423370  38.160801  -55.125125  111.918422   \n",
      "\n",
      "           87          88         89  \n",
      "0   14.129670  -30.970879 -51.517064  \n",
      "1  -45.535893   17.035024 -73.328356  \n",
      "2  -30.716513  -63.904691 -61.368292  \n",
      "3 -123.802687  104.671041 -20.750347  \n",
      "4   27.246268   31.894945   1.672833  \n",
      "\n",
      "[5 rows x 90 columns]\n",
      "(18662, 90)\n"
     ]
    },
    {
     "name": "stdout",
     "output_type": "stream",
     "text": [
      "check cov_mat's shape is (784, 784)  ==(748,748)? \n",
      "in myPca,n_components is 40\n",
      "*****************  come into debug class *************\n",
      "           0           1           2           3           4           5   \\\n",
      "0  294.753597   90.015754  570.737121 -294.553960  320.186242 -809.157832   \n",
      "1  722.936612  -89.975557  447.070871 -411.689287  560.997006  357.063290   \n",
      "2  -20.773729  733.409014  500.196861 -732.041996  137.559853 -772.891051   \n",
      "3 -177.046895 -453.475130   40.249251 -276.562346 -541.334927 -636.916370   \n",
      "4  173.604514  154.279315  260.806114  799.201521 -220.282913  560.790883   \n",
      "\n",
      "           6           7           8           9   ...          30  \\\n",
      "0  294.082538 -128.119617   -7.797207  -44.057092  ... -353.695431   \n",
      "1 -318.227847 -483.124406 -116.617747   66.957128  ...  254.228888   \n",
      "2  678.681937 -252.910302   49.347127  304.503001  ... -123.634635   \n",
      "3  381.210224  -65.712502  543.185219  100.560351  ...  119.125392   \n",
      "4  -24.322930  123.961843  361.439402  210.627519  ... -100.077667   \n",
      "\n",
      "           31          32          33          34          35          36  \\\n",
      "0 -198.526285   11.113533  -84.277057  -35.120779   93.978201 -267.311309   \n",
      "1   99.829071   41.141543 -103.568606  465.807729  -44.637614  -89.700369   \n",
      "2  -58.416050   50.463961 -111.822991  -93.505750  -93.848951   39.326779   \n",
      "3  107.047669  -46.675767  -81.901666  -22.931635  161.382328  223.231058   \n",
      "4  -91.122690  275.664722  -89.942866  108.758225  154.044303   63.172379   \n",
      "\n",
      "           37          38         39  \n",
      "0 -297.366431  357.404006 -55.638985  \n",
      "1 -182.844119 -135.671033  82.282896  \n",
      "2  120.519204  -32.424812  11.469177  \n",
      "3  -52.717204  102.947257  32.869298  \n",
      "4  296.053203  -21.108853  41.332034  \n",
      "\n",
      "[5 rows x 40 columns]\n",
      "(56000, 40)\n"
     ]
    },
    {
     "data": {
      "text/plain": [
       "GridSearchCV(cv='warn', error_score='raise-deprecating',\n",
       "             estimator=Pipeline(memory=None,\n",
       "                                steps=[('mypca', myPca(n_components=40)),\n",
       "                                       ('debug', Debug()),\n",
       "                                       ('clf',\n",
       "                                        GaussianNB(priors=None,\n",
       "                                                   var_smoothing=1e-09))],\n",
       "                                verbose=False),\n",
       "             iid='warn', n_jobs=None,\n",
       "             param_grid={'mypca__n_components': [40, 50, 60, 70, 80, 90]},\n",
       "             pre_dispatch='2*n_jobs', refit=True, return_train_score=False,\n",
       "             scoring=None, verbose=0)"
      ]
     },
     "execution_count": 42,
     "metadata": {},
     "output_type": "execute_result"
    }
   ],
   "source": [
    "from sklearn.model_selection import GridSearchCV\n",
    "from sklearn.pipeline import Pipeline\n",
    "from sklearn.decomposition import PCA\n",
    "from sklearn.naive_bayes import GaussianNB\n",
    "from sklearn.naive_bayes import MultinomialNB\n",
    "\n",
    "mnb= MultinomialNB()\n",
    "gnb=GaussianNB()\n",
    "sklearnPCA = PCA()\n",
    "pipe = Pipeline(steps=[('sklearnPCA', sklearnPCA ), ('debug',Debug() ),('clf', gnb)])\n",
    "pipe2 = Pipeline(steps=[('mypca', mypca ), ('debug',Debug() ),('clf', gnb)])\n",
    "# pipe2 = Pipeline(steps=[('sklearnPCA', mypca() ),('clf', gnb)])\n",
    "grid_n_components=list(range(40,100,10))\n",
    "params_grid = {  # NaiveBayes不需要参数\n",
    "'sklearnPCA__n_components': grid_n_components\n",
    "# 'clf': gnb,\n",
    "}\n",
    "params_grid2 = {  # NaiveBayes不需要参数\n",
    "'mypca__n_components': grid_n_components\n",
    "# 'clf': gnb,\n",
    "}\n",
    "\n",
    "# grid = GridSearchCV(pipe, param_grid = params_grid)\n",
    "grid = GridSearchCV(estimator = pipe2, param_grid = params_grid2)\n",
    "grid.fit(Xtrain, Ytrain)"
   ]
  },
  {
   "cell_type": "code",
   "execution_count": 38,
   "metadata": {
    "ExecuteTime": {
     "end_time": "2019-11-05T19:05:08.234076Z",
     "start_time": "2019-11-05T19:05:08.223285Z"
    }
   },
   "outputs": [
    {
     "name": "stdout",
     "output_type": "stream",
     "text": [
      "================= grid.cv_results_  =================\n",
      "{'mean_fit_time': array([1.93813658, 1.8983229 , 1.91097307, 1.97245836, 1.96097827,\n",
      "       1.95779936]), 'std_fit_time': array([0.08482273, 0.0391215 , 0.05125795, 0.03449764, 0.01727635,\n",
      "       0.01296013]), 'mean_score_time': array([0.18083541, 0.19115496, 0.19805876, 0.20554304, 0.21608496,\n",
      "       0.24069103]), 'std_score_time': array([0.00466703, 0.00220046, 0.00350638, 0.00219373, 0.00197603,\n",
      "       0.00965469]), 'param_mypca__n_components': masked_array(data=[40, 50, 60, 70, 80, 90],\n",
      "             mask=[False, False, False, False, False, False],\n",
      "       fill_value='?',\n",
      "            dtype=object), 'params': [{'mypca__n_components': 40}, {'mypca__n_components': 50}, {'mypca__n_components': 60}, {'mypca__n_components': 70}, {'mypca__n_components': 80}, {'mypca__n_components': 90}], 'split0_test_score': array([0.10513631, 0.10406513, 0.100316  , 0.10186921, 0.10513631,\n",
      "       0.10352954]), 'split1_test_score': array([0.10462313, 0.10189104, 0.10274817, 0.10114105, 0.09990893,\n",
      "       0.10081963]), 'split2_test_score': array([0.10111456, 0.09832815, 0.09693495, 0.09950702, 0.09897117,\n",
      "       0.09998928]), 'mean_test_score': array([0.103625  , 0.10142857, 0.1       , 0.10083929, 0.10133929,\n",
      "       0.10144643]), 'std_test_score': array([0.00178714, 0.00236482, 0.0023836 , 0.00098768, 0.00271252,\n",
      "       0.00151173]), 'rank_test_score': array([1, 3, 6, 5, 4, 2], dtype=int32)}\n",
      "================= grid.best_params_  =================\n",
      "{'mypca__n_components': 40}\n",
      "================= grid.best_score_  =================\n",
      "0.103625\n"
     ]
    }
   ],
   "source": [
    "print('================= grid.cv_results_  =================')\n",
    "print(grid.cv_results_)\n",
    "print('================= grid.best_params_  =================')\n",
    "print(grid.best_params_)\n",
    "print('================= grid.best_score_  =================')\n",
    "print(grid.best_score_)"
   ]
  },
  {
   "cell_type": "markdown",
   "metadata": {},
   "source": [
    "## results using sklearnPCA and myGussianNB"
   ]
  },
  {
   "cell_type": "code",
   "execution_count": 229,
   "metadata": {
    "ExecuteTime": {
     "end_time": "2019-11-03T12:00:57.764987Z",
     "start_time": "2019-11-03T12:00:57.755056Z"
    }
   },
   "outputs": [
    {
     "data": {
      "text/plain": [
       "{'mean_fit_time': array([2.22224951, 2.54521155, 3.10633636, 3.2802031 , 2.42937056,\n",
       "        2.44914381]),\n",
       " 'std_fit_time': array([0.04046461, 0.02239172, 0.07402178, 0.00650287, 0.10505   ,\n",
       "        0.02747853]),\n",
       " 'mean_score_time': array([0.19233918, 0.22424412, 0.26351213, 0.29873681, 0.39650512,\n",
       "        0.37799597]),\n",
       " 'std_score_time': array([0.03041385, 0.03613781, 0.04072418, 0.02323294, 0.04189711,\n",
       "        0.05025253]),\n",
       " 'param_sklearnPCA__n_components': masked_array(data=[40, 50, 60, 70, 80, 90],\n",
       "              mask=[False, False, False, False, False, False],\n",
       "        fill_value='?',\n",
       "             dtype=object),\n",
       " 'params': [{'sklearnPCA__n_components': 40},\n",
       "  {'sklearnPCA__n_components': 50},\n",
       "  {'sklearnPCA__n_components': 60},\n",
       "  {'sklearnPCA__n_components': 70},\n",
       "  {'sklearnPCA__n_components': 80},\n",
       "  {'sklearnPCA__n_components': 90}],\n",
       " 'split0_test_score': array([0.10494455, 0.10387315, 0.10660524, 0.10424814, 0.10285531,\n",
       "        0.10189104]),\n",
       " 'split1_test_score': array([0.10146247, 0.09889109, 0.09931966, 0.09985536, 0.10071249,\n",
       "        0.09776611]),\n",
       " 'split2_test_score': array([0.100075  , 0.10120004, 0.10184292, 0.10221794, 0.10178935,\n",
       "        0.100075  ]),\n",
       " 'mean_test_score': array([0.10216071, 0.10132143, 0.10258929, 0.10210714, 0.10178571,\n",
       "        0.09991071]),\n",
       " 'std_test_score': array([0.00204837, 0.00203574, 0.00302081, 0.00179507, 0.00087481,\n",
       "        0.00168801]),\n",
       " 'rank_test_score': array([2, 5, 1, 3, 4, 6], dtype=int32)}"
      ]
     },
     "execution_count": 229,
     "metadata": {},
     "output_type": "execute_result"
    }
   ],
   "source": [
    "grid.cv_results_"
   ]
  },
  {
   "cell_type": "raw",
   "metadata": {
    "ExecuteTime": {
     "end_time": "2019-11-03T11:43:23.713668Z",
     "start_time": "2019-11-03T11:43:23.708739Z"
    }
   },
   "source": [
    " grid.best_params_"
   ]
  },
  {
   "cell_type": "code",
   "execution_count": 227,
   "metadata": {
    "ExecuteTime": {
     "end_time": "2019-11-03T11:43:30.248925Z",
     "start_time": "2019-11-03T11:43:30.242600Z"
    }
   },
   "outputs": [
    {
     "data": {
      "text/plain": [
       "0.10258928571428572"
      ]
     },
     "execution_count": 227,
     "metadata": {},
     "output_type": "execute_result"
    }
   ],
   "source": [
    "grid.best_score_"
   ]
  },
  {
   "cell_type": "code",
   "execution_count": 39,
   "metadata": {
    "ExecuteTime": {
     "end_time": "2019-11-05T19:05:35.623020Z",
     "start_time": "2019-11-05T19:05:35.478747Z"
    }
   },
   "outputs": [
    {
     "name": "stdout",
     "output_type": "stream",
     "text": [
      "*****************  come into debug class *************\n",
      "           0            1           2           3           4           5   \\\n",
      "0 -894.173102   116.063253   41.290309 -447.325365  119.286661   25.497188   \n",
      "1 -633.450618   125.168159  169.439494  222.638555  207.786427  499.552553   \n",
      "2 -292.815278   -47.568312 -597.873733  230.327520  147.573500  303.756733   \n",
      "3  283.681088  1105.435320  321.388377 -166.461242 -522.107013 -290.170420   \n",
      "4 -849.925831  -799.531454  187.441655  221.913664   45.989381 -330.541230   \n",
      "\n",
      "           6           7           8           9   ...          30  \\\n",
      "0  320.996193 -354.407934 -225.744542  346.425143  ...   69.264718   \n",
      "1   94.282710   45.484552  539.370219 -110.768125  ...   18.704899   \n",
      "2  408.631878 -102.110806 -478.274476  211.747269  ... -167.448623   \n",
      "3 -204.200829  324.631911  121.482881  318.879464  ...  144.679197   \n",
      "4 -305.101119  101.838897 -465.377368 -126.894860  ...  -42.303749   \n",
      "\n",
      "           31          32          33          34          35          36  \\\n",
      "0 -151.938698 -111.140262  123.288146  -58.795227  167.124302 -253.723144   \n",
      "1 -183.243076 -131.586976  -73.359241   35.808138   70.460561  -40.296362   \n",
      "2  -51.884093 -202.025644  -86.196063  282.263198 -146.745950  120.383573   \n",
      "3    5.272512  -69.472618  -91.886101  -33.922658   15.276629   20.916714   \n",
      "4  128.157453  -90.245334   15.468524   41.556168   59.235198   62.667245   \n",
      "\n",
      "           37          38         39  \n",
      "0   30.475865   23.857258   2.907350  \n",
      "1  -28.572596   59.326161  -4.793504  \n",
      "2  135.698895   71.703084  -0.217773  \n",
      "3  170.255446  -26.488181  40.719883  \n",
      "4 -105.570339 -141.216942   8.895848  \n",
      "\n",
      "[5 rows x 40 columns]\n",
      "(14000, 40)\n"
     ]
    },
    {
     "data": {
      "text/plain": [
       "0.10685714285714286"
      ]
     },
     "execution_count": 39,
     "metadata": {},
     "output_type": "execute_result"
    }
   ],
   "source": [
    "best_model=grid.best_estimator_\n",
    "best_model.score(Xtest,Ytest)\n"
   ]
  },
  {
   "cell_type": "markdown",
   "metadata": {
    "ExecuteTime": {
     "end_time": "2019-11-03T11:15:09.580951Z",
     "start_time": "2019-11-03T11:15:09.576281Z"
    },
    "heading_collapsed": true
   },
   "source": [
    "#### to be continued"
   ]
  },
  {
   "cell_type": "code",
   "execution_count": null,
   "metadata": {
    "hidden": true
   },
   "outputs": [],
   "source": [
    "# # Plot the PCA spectrum\n",
    "# pca.fit(X_digits)\n",
    "\n",
    "# fig, (ax0, ax1) = plt.subplots(nrows=2, sharex=True, figsize=(6, 6))\n",
    "# ax0.plot(pca.explained_variance_ratio_, linewidth=2)\n",
    "# ax0.set_ylabel('PCA explained variance')\n",
    "\n",
    "# ax0.axvline(search.best_estimator_.named_steps['pca'].n_components,\n",
    "#             linestyle=':', label='n_components chosen')\n",
    "# # ？？\n",
    "# ax0.legend(prop=dict(size=12))\n",
    "\n",
    "# # For each number of components, find the best classifier results\n",
    "# results = pd.DataFrame(search.cv_results_)\n",
    "# components_col = 'param_pca__n_components'\n",
    "# best_clfs = results.groupby(components_col).apply(\n",
    "#     lambda g: g.nlargest(1, 'mean_test_score'))\n",
    "\n",
    "# best_clfs.plot(x=components_col, y='mean_test_score', yerr='std_test_score',\n",
    "#                legend=False, ax=ax1)\n",
    "# ax1.set_ylabel('Classification accuracy (val)')\n",
    "# ax1.set_xlabel('n_components')\n",
    "\n",
    "# plt.tight_layout()\n",
    "# plt.show()"
   ]
  },
  {
   "cell_type": "code",
   "execution_count": null,
   "metadata": {
    "hidden": true
   },
   "outputs": [],
   "source": []
  },
  {
   "cell_type": "markdown",
   "metadata": {
    "ExecuteTime": {
     "end_time": "2019-10-31T17:40:15.373463Z",
     "start_time": "2019-10-31T17:40:15.368503Z"
    }
   },
   "source": [
    "## 高斯分布"
   ]
  },
  {
   "cell_type": "markdown",
   "metadata": {},
   "source": [
    "### 各分量之间相互独立 Naive Bayes"
   ]
  },
  {
   "cell_type": "markdown",
   "metadata": {},
   "source": [
    "还可以考虑带先验和不带先验"
   ]
  },
  {
   "cell_type": "code",
   "execution_count": 41,
   "metadata": {
    "ExecuteTime": {
     "end_time": "2019-11-05T19:10:34.468657Z",
     "start_time": "2019-11-05T19:10:34.451492Z"
    }
   },
   "outputs": [],
   "source": [
    "class NaiveBayes(object):\n",
    "    def fit(self, X, Y, smoothing=1e-2):\n",
    "        self.gaussians = dict()\n",
    "        self.priors = dict()\n",
    "        labels = set(Y)\n",
    "        for c in labels:\n",
    "            current_x = X[Y == c]\n",
    "            self.gaussians[c] = {\n",
    "                'mean': current_x.mean(axis=0),\n",
    "                'var': current_x.var(axis=0) + smoothing,\n",
    "            }\n",
    "            self.priors[c] = float(len(Y[Y == c])) / len(Y)\n",
    "\n",
    "    def score(self, X, Y):\n",
    "        P = self.predict(X)\n",
    "        return np.mean(P == Y)\n",
    "\n",
    "    def predict(self, X):\n",
    "        import ipdb\n",
    "        ipdb.set_trace()\n",
    "        N, D = X.shape\n",
    "        K = len(self.gaussians)  # 这不就是我降维的维度咩\n",
    "        P = np.zeros((N, K))    # 我有\n",
    "        for c, g in iteritems(self.gaussians):\n",
    "            mean, var = g['mean'], g['var']\n",
    "            P[:,c] = mvn.logpdf(X, mean=mean, cov=var) + np.log(self.priors[c])\n",
    "        return np.argmax(P, axis=1)"
   ]
  },
  {
   "cell_type": "markdown",
   "metadata": {},
   "source": [
    "## test codes "
   ]
  },
  {
   "cell_type": "code",
   "execution_count": 12,
   "metadata": {
    "ExecuteTime": {
     "end_time": "2019-11-05T18:06:34.455873Z",
     "start_time": "2019-11-05T18:06:34.449851Z"
    }
   },
   "outputs": [
    {
     "data": {
      "text/plain": [
       "numpy.ndarray"
      ]
     },
     "execution_count": 12,
     "metadata": {},
     "output_type": "execute_result"
    }
   ],
   "source": [
    "type(low_d_data_mat)"
   ]
  },
  {
   "cell_type": "code",
   "execution_count": 13,
   "metadata": {
    "ExecuteTime": {
     "end_time": "2019-11-05T18:06:37.083187Z",
     "start_time": "2019-11-05T18:06:36.641303Z"
    }
   },
   "outputs": [
    {
     "name": "stdout",
     "output_type": "stream",
     "text": [
      "Training time: 0:00:00.025128\n",
      "Train accuracy: 0.12180952380952381\n",
      "Time to compute train accuracy: 0:00:00.306796 Train size: 52500\n",
      "Test accuracy: 0.10668571428571429\n"
     ]
    }
   ],
   "source": [
    "# %debug\n",
    "if __name__ == '__main__':\n",
    "    '''check下是否真的需要降维'''\n",
    "#     for i in range (2)；\n",
    "#         if compare : compare =false\n",
    "#     X, Y = np.array(low_d_data_mat),label if compare \n",
    "    X, Y = low_d_data_mat,label\n",
    "    Ntrain = len(Y)*3 // 4   # 4:3   \n",
    "    Xtrain, Ytrain = X[:Ntrain], Y[:Ntrain]\n",
    "    Xtest, Ytest = X[Ntrain:], Y[Ntrain:]\n",
    "\n",
    "    model = NaiveBayes()\n",
    "    t0 = datetime.now()\n",
    "    \n",
    "#     import ipdb \n",
    "#     ipdb.set_trace()\n",
    "    \n",
    "    model.fit(Xtrain, Ytrain)\n",
    "    print(\"Training time:\", (datetime.now() - t0))\n",
    "\n",
    "    t0 = datetime.now()\n",
    "    print(\"Train accuracy:\", model.score(Xtrain, Ytrain))\n",
    "    print(\"Time to compute train accuracy:\", (datetime.now() - t0), \"Train size:\", len(Ytrain))\n",
    "\n",
    "    t0 = datetime.now()\n",
    "    print(\"Test accuracy:\", model.score(Xtest, Ytest))\n"
   ]
  },
  {
   "cell_type": "markdown",
   "metadata": {
    "ExecuteTime": {
     "end_time": "2019-10-31T17:41:13.254736Z",
     "start_time": "2019-10-31T17:41:13.250741Z"
    }
   },
   "source": [
    "### 各变量之间不相互独立"
   ]
  },
  {
   "cell_type": "code",
   "execution_count": 160,
   "metadata": {
    "ExecuteTime": {
     "end_time": "2019-11-02T11:53:37.053708Z",
     "start_time": "2019-11-02T11:53:37.047691Z"
    }
   },
   "outputs": [
    {
     "data": {
      "text/plain": [
       "(70000, 100)"
      ]
     },
     "execution_count": 160,
     "metadata": {},
     "output_type": "execute_result"
    }
   ],
   "source": [
    "low_d_data_mat.shape\n"
   ]
  },
  {
   "cell_type": "markdown",
   "metadata": {},
   "source": [
    "## 均匀分布"
   ]
  },
  {
   "cell_type": "code",
   "execution_count": null,
   "metadata": {},
   "outputs": [],
   "source": []
  }
 ],
 "metadata": {
  "kernelspec": {
   "display_name": "py36torch",
   "language": "python",
   "name": "py36torch"
  },
  "language_info": {
   "codemirror_mode": {
    "name": "ipython",
    "version": 3
   },
   "file_extension": ".py",
   "mimetype": "text/x-python",
   "name": "python",
   "nbconvert_exporter": "python",
   "pygments_lexer": "ipython3",
   "version": "3.6.0"
  },
  "toc": {
   "base_numbering": 1,
   "nav_menu": {},
   "number_sections": true,
   "sideBar": true,
   "skip_h1_title": false,
   "title_cell": "Table of Contents",
   "title_sidebar": "Contents",
   "toc_cell": false,
   "toc_position": {},
   "toc_section_display": true,
   "toc_window_display": false
  },
  "varInspector": {
   "cols": {
    "lenName": 16,
    "lenType": 16,
    "lenVar": 40
   },
   "kernels_config": {
    "python": {
     "delete_cmd_postfix": "",
     "delete_cmd_prefix": "del ",
     "library": "var_list.py",
     "varRefreshCmd": "print(var_dic_list())"
    },
    "r": {
     "delete_cmd_postfix": ") ",
     "delete_cmd_prefix": "rm(",
     "library": "var_list.r",
     "varRefreshCmd": "cat(var_dic_list()) "
    }
   },
   "types_to_exclude": [
    "module",
    "function",
    "builtin_function_or_method",
    "instance",
    "_Feature"
   ],
   "window_display": false
  }
 },
 "nbformat": 4,
 "nbformat_minor": 2
}
